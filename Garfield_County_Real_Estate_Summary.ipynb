{
 "cells": [
  {
   "cell_type": "markdown",
   "metadata": {},
   "source": [
    "# Introduction\n",
    "This document provides a summary of real estate sales for Garfield County from July 2014 through June 2016 using data available from the __[Garfield County Assessor](https://www.garfield-county.com/assessor/comparable-sales.aspx)__. According to the Garfield County Assessor, data July 2016 through June 2018 will be available in May 2019."
   ]
  },
  {
   "cell_type": "code",
   "execution_count": 1,
   "metadata": {},
   "outputs": [],
   "source": [
    "# Load required Python libraries\n",
    "import pandas as pd\n",
    "import numpy as np\n",
    "import matplotlib.pyplot as plt\n",
    "%matplotlib inline\n",
    "import seaborn as sns\n",
    "sns.set_style(\"whitegrid\")\n",
    "# plt.style.use('dark_background') # Only for when I want to work in dark mode"
   ]
  },
  {
   "cell_type": "markdown",
   "metadata": {},
   "source": [
    "# Import and inspect the datasets"
   ]
  },
  {
   "cell_type": "code",
   "execution_count": 2,
   "metadata": {},
   "outputs": [
    {
     "data": {
      "text/html": [
       "<div>\n",
       "<style scoped>\n",
       "    .dataframe tbody tr th:only-of-type {\n",
       "        vertical-align: middle;\n",
       "    }\n",
       "\n",
       "    .dataframe tbody tr th {\n",
       "        vertical-align: top;\n",
       "    }\n",
       "\n",
       "    .dataframe thead th {\n",
       "        text-align: right;\n",
       "    }\n",
       "</style>\n",
       "<table border=\"1\" class=\"dataframe\">\n",
       "  <thead>\n",
       "    <tr style=\"text-align: right;\">\n",
       "      <th></th>\n",
       "      <th>Account</th>\n",
       "      <th>Parcel Number</th>\n",
       "      <th>Reception</th>\n",
       "      <th>Sale Date</th>\n",
       "      <th>Sale Price</th>\n",
       "      <th>Situs Address</th>\n",
       "      <th>Location</th>\n",
       "      <th>Architectural Style</th>\n",
       "      <th>Year Built</th>\n",
       "      <th>Bedrooms</th>\n",
       "      <th>Baths</th>\n",
       "      <th>Heated Area</th>\n",
       "      <th>Legal</th>\n",
       "    </tr>\n",
       "  </thead>\n",
       "  <tbody>\n",
       "    <tr>\n",
       "      <th>0</th>\n",
       "      <td>R340967</td>\n",
       "      <td>239334401005</td>\n",
       "      <td>879240</td>\n",
       "      <td>6/29/2016</td>\n",
       "      <td>$650,000</td>\n",
       "      <td>000066 N 2ND ST</td>\n",
       "      <td>CARBONDALE</td>\n",
       "      <td>ONE STORY</td>\n",
       "      <td>1970.0</td>\n",
       "      <td>0.0</td>\n",
       "      <td>0.00</td>\n",
       "      <td>0.0</td>\n",
       "      <td>Section: 34 Township: 7 Range: 88 Subdivision:...</td>\n",
       "    </tr>\n",
       "    <tr>\n",
       "      <th>1</th>\n",
       "      <td>R340073</td>\n",
       "      <td>239334200010</td>\n",
       "      <td>870778</td>\n",
       "      <td>11/24/2015</td>\n",
       "      <td>$560,000</td>\n",
       "      <td>000276 10TH ST</td>\n",
       "      <td>CARBONDALE</td>\n",
       "      <td>ONE STORY</td>\n",
       "      <td>1971.0</td>\n",
       "      <td>1.0</td>\n",
       "      <td>1.00</td>\n",
       "      <td>480.0</td>\n",
       "      <td>Section: 34 Township: 7 Range: 88 TR IN LOT 5</td>\n",
       "    </tr>\n",
       "    <tr>\n",
       "      <th>2</th>\n",
       "      <td>R112063</td>\n",
       "      <td>239335100057</td>\n",
       "      <td>869383</td>\n",
       "      <td>10/13/2015</td>\n",
       "      <td>$2,750,000</td>\n",
       "      <td>000855 ROSE LN</td>\n",
       "      <td>CARBONDALE</td>\n",
       "      <td>ONE STORY</td>\n",
       "      <td>2002.0</td>\n",
       "      <td>0.0</td>\n",
       "      <td>0.75</td>\n",
       "      <td>680.0</td>\n",
       "      <td>Section: 35 Township: 7 Range: 88 A TR IN LOTS...</td>\n",
       "    </tr>\n",
       "    <tr>\n",
       "      <th>3</th>\n",
       "      <td>R580140</td>\n",
       "      <td>239334366004</td>\n",
       "      <td>857328</td>\n",
       "      <td>12/18/2014</td>\n",
       "      <td>$630,500</td>\n",
       "      <td>000640 LINCOLN AVE</td>\n",
       "      <td>CARBONDALE</td>\n",
       "      <td>ONE</td>\n",
       "      <td>1999.0</td>\n",
       "      <td>1.0</td>\n",
       "      <td>1.00</td>\n",
       "      <td>710.0</td>\n",
       "      <td>Section: 34 Township: 7 Range: 88 - Subdivisio...</td>\n",
       "    </tr>\n",
       "    <tr>\n",
       "      <th>4</th>\n",
       "      <td>R043949</td>\n",
       "      <td>239120300276</td>\n",
       "      <td>853541</td>\n",
       "      <td>9/12/2014</td>\n",
       "      <td>$2,800,000</td>\n",
       "      <td>102 COUNTY RD</td>\n",
       "      <td>CARBONDALE</td>\n",
       "      <td>ONE STORY</td>\n",
       "      <td>2008.0</td>\n",
       "      <td>2.0</td>\n",
       "      <td>1.00</td>\n",
       "      <td>764.0</td>\n",
       "      <td>Section: 20 Township: 7 Range: 87 A TR IN THE ...</td>\n",
       "    </tr>\n",
       "  </tbody>\n",
       "</table>\n",
       "</div>"
      ],
      "text/plain": [
       "   Account Parcel Number Reception   Sale Date  Sale Price  \\\n",
       "0  R340967  239334401005    879240   6/29/2016    $650,000   \n",
       "1  R340073  239334200010    870778  11/24/2015    $560,000   \n",
       "2  R112063  239335100057    869383  10/13/2015  $2,750,000   \n",
       "3  R580140  239334366004    857328  12/18/2014    $630,500   \n",
       "4  R043949  239120300276    853541   9/12/2014  $2,800,000   \n",
       "\n",
       "        Situs Address    Location Architectural Style  Year Built  Bedrooms  \\\n",
       "0     000066 N 2ND ST  CARBONDALE           ONE STORY      1970.0       0.0   \n",
       "1      000276 10TH ST  CARBONDALE           ONE STORY      1971.0       1.0   \n",
       "2      000855 ROSE LN  CARBONDALE           ONE STORY      2002.0       0.0   \n",
       "3  000640 LINCOLN AVE  CARBONDALE                 ONE      1999.0       1.0   \n",
       "4       102 COUNTY RD  CARBONDALE           ONE STORY      2008.0       2.0   \n",
       "\n",
       "   Baths  Heated Area                                              Legal  \n",
       "0   0.00          0.0  Section: 34 Township: 7 Range: 88 Subdivision:...  \n",
       "1   1.00        480.0      Section: 34 Township: 7 Range: 88 TR IN LOT 5  \n",
       "2   0.75        680.0  Section: 35 Township: 7 Range: 88 A TR IN LOTS...  \n",
       "3   1.00        710.0  Section: 34 Township: 7 Range: 88 - Subdivisio...  \n",
       "4   1.00        764.0  Section: 20 Township: 7 Range: 87 A TR IN THE ...  "
      ]
     },
     "execution_count": 2,
     "metadata": {},
     "output_type": "execute_result"
    }
   ],
   "source": [
    "# Import single family home sales data and view first few rows\n",
    "single_family = pd.read_csv(\"2017-comparable-sales-single-family.csv\")\n",
    "single_family.head()"
   ]
  },
  {
   "cell_type": "code",
   "execution_count": 3,
   "metadata": {},
   "outputs": [
    {
     "data": {
      "text/plain": [
       "Index(['Account', 'Parcel Number', 'Reception', 'Sale Date', 'Sale Price',\n",
       "       'Situs Address', 'Location', 'Architectural Style', 'Year Built',\n",
       "       'Bedrooms', 'Baths', 'Heated Area', 'Legal'],\n",
       "      dtype='object')"
      ]
     },
     "execution_count": 3,
     "metadata": {},
     "output_type": "execute_result"
    }
   ],
   "source": [
    "# View column names\n",
    "single_family.columns"
   ]
  },
  {
   "cell_type": "code",
   "execution_count": 4,
   "metadata": {},
   "outputs": [
    {
     "data": {
      "text/plain": [
       "Account                 object\n",
       "Parcel Number           object\n",
       "Reception               object\n",
       "Sale Date               object\n",
       "Sale Price              object\n",
       "Situs Address           object\n",
       "Location                object\n",
       "Architectural Style     object\n",
       "Year Built             float64\n",
       "Bedrooms               float64\n",
       "Baths                  float64\n",
       "Heated Area            float64\n",
       "Legal                   object\n",
       "dtype: object"
      ]
     },
     "execution_count": 4,
     "metadata": {},
     "output_type": "execute_result"
    }
   ],
   "source": [
    "# Check column types\n",
    "single_family.dtypes"
   ]
  },
  {
   "cell_type": "markdown",
   "metadata": {},
   "source": [
    "Sale Price will need to be converted to numeric (integer) and Sale Date will need to be converted to a Date type. Because there are no decimal numbers in this dataset, numeric fields would be best represented as integer types. For efficiency, updates will be made after the two datasets have been combined."
   ]
  },
  {
   "cell_type": "code",
   "execution_count": 5,
   "metadata": {},
   "outputs": [
    {
     "data": {
      "text/html": [
       "<div>\n",
       "<style scoped>\n",
       "    .dataframe tbody tr th:only-of-type {\n",
       "        vertical-align: middle;\n",
       "    }\n",
       "\n",
       "    .dataframe tbody tr th {\n",
       "        vertical-align: top;\n",
       "    }\n",
       "\n",
       "    .dataframe thead th {\n",
       "        text-align: right;\n",
       "    }\n",
       "</style>\n",
       "<table border=\"1\" class=\"dataframe\">\n",
       "  <thead>\n",
       "    <tr style=\"text-align: right;\">\n",
       "      <th></th>\n",
       "      <th>Account</th>\n",
       "      <th>Parcel Number</th>\n",
       "      <th>Reception</th>\n",
       "      <th>Sale Date</th>\n",
       "      <th>Sale Price</th>\n",
       "      <th>Situs Address</th>\n",
       "      <th>Location</th>\n",
       "      <th>Classification</th>\n",
       "      <th>Architectural Style</th>\n",
       "      <th>Actual Year Built</th>\n",
       "      <th>Bedrooms</th>\n",
       "      <th>Baths</th>\n",
       "      <th>Heated Area</th>\n",
       "      <th>Legal</th>\n",
       "    </tr>\n",
       "  </thead>\n",
       "  <tbody>\n",
       "    <tr>\n",
       "      <th>0</th>\n",
       "      <td>R007341</td>\n",
       "      <td>239334430001</td>\n",
       "      <td>852413</td>\n",
       "      <td>8/8/2014</td>\n",
       "      <td>$210,000</td>\n",
       "      <td>000133 SOPRIS AVE #A</td>\n",
       "      <td>CARBONDALE</td>\n",
       "      <td>Condo</td>\n",
       "      <td>CONDO</td>\n",
       "      <td>1974.0</td>\n",
       "      <td>1.0</td>\n",
       "      <td>1.0</td>\n",
       "      <td>621.0</td>\n",
       "      <td>Section: 34 Township: 7 Range: 88 DESC: RESUB ...</td>\n",
       "    </tr>\n",
       "    <tr>\n",
       "      <th>1</th>\n",
       "      <td>R340686</td>\n",
       "      <td>239334350003</td>\n",
       "      <td>871451</td>\n",
       "      <td>12/11/2015</td>\n",
       "      <td>$265,000</td>\n",
       "      <td>213 1/2 N 10TH ST #C</td>\n",
       "      <td>CARBONDALE</td>\n",
       "      <td>Condo</td>\n",
       "      <td>CONDO</td>\n",
       "      <td>1980.0</td>\n",
       "      <td>1.0</td>\n",
       "      <td>1.0</td>\n",
       "      <td>732.0</td>\n",
       "      <td>Section: 34 Township: 7 Range: 88 Subdivision:...</td>\n",
       "    </tr>\n",
       "    <tr>\n",
       "      <th>2</th>\n",
       "      <td>R045341</td>\n",
       "      <td>23933430G008</td>\n",
       "      <td>861415</td>\n",
       "      <td>4/14/2015</td>\n",
       "      <td>$308,500</td>\n",
       "      <td>000345 COLORADO AVE #202</td>\n",
       "      <td>CARBONDALE</td>\n",
       "      <td>Condo</td>\n",
       "      <td>CONDO</td>\n",
       "      <td>2008.0</td>\n",
       "      <td>1.0</td>\n",
       "      <td>1.0</td>\n",
       "      <td>792.0</td>\n",
       "      <td>Section: 34 Township: 7 Range: 88 DESC: A RESU...</td>\n",
       "    </tr>\n",
       "    <tr>\n",
       "      <th>3</th>\n",
       "      <td>R340803</td>\n",
       "      <td>246303105047</td>\n",
       "      <td>872689</td>\n",
       "      <td>1/20/2016</td>\n",
       "      <td>$160,000</td>\n",
       "      <td>000086 ROARING FORK AVE #C3</td>\n",
       "      <td>CARBONDALE</td>\n",
       "      <td>Condo</td>\n",
       "      <td>CONDO</td>\n",
       "      <td>1981.0</td>\n",
       "      <td>1.0</td>\n",
       "      <td>1.0</td>\n",
       "      <td>800.0</td>\n",
       "      <td>Section: 3 Township: 8 Range: 88 DESC: BLDG 4 ...</td>\n",
       "    </tr>\n",
       "    <tr>\n",
       "      <th>4</th>\n",
       "      <td>R044451</td>\n",
       "      <td>239333149008</td>\n",
       "      <td>875851</td>\n",
       "      <td>4/8/2016</td>\n",
       "      <td>$340,000</td>\n",
       "      <td>001913 DOLORES WAY</td>\n",
       "      <td>CARBONDALE</td>\n",
       "      <td>Condo</td>\n",
       "      <td>CONDO</td>\n",
       "      <td>2007.0</td>\n",
       "      <td>2.0</td>\n",
       "      <td>1.0</td>\n",
       "      <td>864.0</td>\n",
       "      <td>Section: 33 Township: 7 Range: 88 DESC: A RESU...</td>\n",
       "    </tr>\n",
       "  </tbody>\n",
       "</table>\n",
       "</div>"
      ],
      "text/plain": [
       "   Account Parcel Number  Reception   Sale Date Sale Price  \\\n",
       "0  R007341  239334430001     852413    8/8/2014   $210,000   \n",
       "1  R340686  239334350003     871451  12/11/2015   $265,000   \n",
       "2  R045341  23933430G008     861415   4/14/2015   $308,500   \n",
       "3  R340803  246303105047     872689   1/20/2016   $160,000   \n",
       "4  R044451  239333149008     875851    4/8/2016   $340,000   \n",
       "\n",
       "                 Situs Address    Location Classification Architectural Style  \\\n",
       "0         000133 SOPRIS AVE #A  CARBONDALE          Condo               CONDO   \n",
       "1         213 1/2 N 10TH ST #C  CARBONDALE          Condo               CONDO   \n",
       "2     000345 COLORADO AVE #202  CARBONDALE          Condo               CONDO   \n",
       "3  000086 ROARING FORK AVE #C3  CARBONDALE          Condo               CONDO   \n",
       "4           001913 DOLORES WAY  CARBONDALE          Condo               CONDO   \n",
       "\n",
       "   Actual Year Built  Bedrooms  Baths  Heated Area  \\\n",
       "0             1974.0       1.0    1.0        621.0   \n",
       "1             1980.0       1.0    1.0        732.0   \n",
       "2             2008.0       1.0    1.0        792.0   \n",
       "3             1981.0       1.0    1.0        800.0   \n",
       "4             2007.0       2.0    1.0        864.0   \n",
       "\n",
       "                                               Legal  \n",
       "0  Section: 34 Township: 7 Range: 88 DESC: RESUB ...  \n",
       "1  Section: 34 Township: 7 Range: 88 Subdivision:...  \n",
       "2  Section: 34 Township: 7 Range: 88 DESC: A RESU...  \n",
       "3  Section: 3 Township: 8 Range: 88 DESC: BLDG 4 ...  \n",
       "4  Section: 33 Township: 7 Range: 88 DESC: A RESU...  "
      ]
     },
     "execution_count": 5,
     "metadata": {},
     "output_type": "execute_result"
    }
   ],
   "source": [
    "# Import condo and townhome sales data and view first few rows\n",
    "condo_townhome = pd.read_csv(\"2017-comparable-sales-condos-townhomes.csv\")\n",
    "condo_townhome.head()"
   ]
  },
  {
   "cell_type": "code",
   "execution_count": 6,
   "metadata": {},
   "outputs": [
    {
     "data": {
      "text/plain": [
       "Index(['Account', 'Parcel Number', 'Reception', 'Sale Date', 'Sale Price',\n",
       "       'Situs Address', 'Location', 'Classification', 'Architectural Style',\n",
       "       'Actual Year Built', 'Bedrooms', 'Baths', 'Heated Area', 'Legal'],\n",
       "      dtype='object')"
      ]
     },
     "execution_count": 6,
     "metadata": {},
     "output_type": "execute_result"
    }
   ],
   "source": [
    "# View column names\n",
    "condo_townhome.columns"
   ]
  },
  {
   "cell_type": "markdown",
   "metadata": {},
   "source": [
    "In the condos and townhomes dataset there are two differences: (1) this dataset has an additional column \"Classification\" and (2) the column \"Actual Year Built\" is the name of the column called \"Year Built\" in the single family homes dataset. "
   ]
  },
  {
   "cell_type": "code",
   "execution_count": 7,
   "metadata": {},
   "outputs": [
    {
     "data": {
      "text/html": [
       "<div>\n",
       "<style scoped>\n",
       "    .dataframe tbody tr th:only-of-type {\n",
       "        vertical-align: middle;\n",
       "    }\n",
       "\n",
       "    .dataframe tbody tr th {\n",
       "        vertical-align: top;\n",
       "    }\n",
       "\n",
       "    .dataframe thead th {\n",
       "        text-align: right;\n",
       "    }\n",
       "</style>\n",
       "<table border=\"1\" class=\"dataframe\">\n",
       "  <thead>\n",
       "    <tr style=\"text-align: right;\">\n",
       "      <th></th>\n",
       "      <th>Account</th>\n",
       "      <th>Parcel Number</th>\n",
       "      <th>Reception</th>\n",
       "      <th>Sale Date</th>\n",
       "      <th>Sale Price</th>\n",
       "      <th>Situs Address</th>\n",
       "      <th>Location</th>\n",
       "      <th>Classification</th>\n",
       "      <th>Architectural Style</th>\n",
       "      <th>Year Built</th>\n",
       "      <th>Bedrooms</th>\n",
       "      <th>Baths</th>\n",
       "      <th>Heated Area</th>\n",
       "      <th>Legal</th>\n",
       "    </tr>\n",
       "  </thead>\n",
       "  <tbody>\n",
       "    <tr>\n",
       "      <th>0</th>\n",
       "      <td>R007341</td>\n",
       "      <td>239334430001</td>\n",
       "      <td>852413</td>\n",
       "      <td>8/8/2014</td>\n",
       "      <td>$210,000</td>\n",
       "      <td>000133 SOPRIS AVE #A</td>\n",
       "      <td>CARBONDALE</td>\n",
       "      <td>Condo</td>\n",
       "      <td>CONDO</td>\n",
       "      <td>1974.0</td>\n",
       "      <td>1.0</td>\n",
       "      <td>1.0</td>\n",
       "      <td>621.0</td>\n",
       "      <td>Section: 34 Township: 7 Range: 88 DESC: RESUB ...</td>\n",
       "    </tr>\n",
       "    <tr>\n",
       "      <th>1</th>\n",
       "      <td>R340686</td>\n",
       "      <td>239334350003</td>\n",
       "      <td>871451</td>\n",
       "      <td>12/11/2015</td>\n",
       "      <td>$265,000</td>\n",
       "      <td>213 1/2 N 10TH ST #C</td>\n",
       "      <td>CARBONDALE</td>\n",
       "      <td>Condo</td>\n",
       "      <td>CONDO</td>\n",
       "      <td>1980.0</td>\n",
       "      <td>1.0</td>\n",
       "      <td>1.0</td>\n",
       "      <td>732.0</td>\n",
       "      <td>Section: 34 Township: 7 Range: 88 Subdivision:...</td>\n",
       "    </tr>\n",
       "    <tr>\n",
       "      <th>2</th>\n",
       "      <td>R045341</td>\n",
       "      <td>23933430G008</td>\n",
       "      <td>861415</td>\n",
       "      <td>4/14/2015</td>\n",
       "      <td>$308,500</td>\n",
       "      <td>000345 COLORADO AVE #202</td>\n",
       "      <td>CARBONDALE</td>\n",
       "      <td>Condo</td>\n",
       "      <td>CONDO</td>\n",
       "      <td>2008.0</td>\n",
       "      <td>1.0</td>\n",
       "      <td>1.0</td>\n",
       "      <td>792.0</td>\n",
       "      <td>Section: 34 Township: 7 Range: 88 DESC: A RESU...</td>\n",
       "    </tr>\n",
       "    <tr>\n",
       "      <th>3</th>\n",
       "      <td>R340803</td>\n",
       "      <td>246303105047</td>\n",
       "      <td>872689</td>\n",
       "      <td>1/20/2016</td>\n",
       "      <td>$160,000</td>\n",
       "      <td>000086 ROARING FORK AVE #C3</td>\n",
       "      <td>CARBONDALE</td>\n",
       "      <td>Condo</td>\n",
       "      <td>CONDO</td>\n",
       "      <td>1981.0</td>\n",
       "      <td>1.0</td>\n",
       "      <td>1.0</td>\n",
       "      <td>800.0</td>\n",
       "      <td>Section: 3 Township: 8 Range: 88 DESC: BLDG 4 ...</td>\n",
       "    </tr>\n",
       "    <tr>\n",
       "      <th>4</th>\n",
       "      <td>R044451</td>\n",
       "      <td>239333149008</td>\n",
       "      <td>875851</td>\n",
       "      <td>4/8/2016</td>\n",
       "      <td>$340,000</td>\n",
       "      <td>001913 DOLORES WAY</td>\n",
       "      <td>CARBONDALE</td>\n",
       "      <td>Condo</td>\n",
       "      <td>CONDO</td>\n",
       "      <td>2007.0</td>\n",
       "      <td>2.0</td>\n",
       "      <td>1.0</td>\n",
       "      <td>864.0</td>\n",
       "      <td>Section: 33 Township: 7 Range: 88 DESC: A RESU...</td>\n",
       "    </tr>\n",
       "  </tbody>\n",
       "</table>\n",
       "</div>"
      ],
      "text/plain": [
       "   Account Parcel Number  Reception   Sale Date Sale Price  \\\n",
       "0  R007341  239334430001     852413    8/8/2014   $210,000   \n",
       "1  R340686  239334350003     871451  12/11/2015   $265,000   \n",
       "2  R045341  23933430G008     861415   4/14/2015   $308,500   \n",
       "3  R340803  246303105047     872689   1/20/2016   $160,000   \n",
       "4  R044451  239333149008     875851    4/8/2016   $340,000   \n",
       "\n",
       "                 Situs Address    Location Classification Architectural Style  \\\n",
       "0         000133 SOPRIS AVE #A  CARBONDALE          Condo               CONDO   \n",
       "1         213 1/2 N 10TH ST #C  CARBONDALE          Condo               CONDO   \n",
       "2     000345 COLORADO AVE #202  CARBONDALE          Condo               CONDO   \n",
       "3  000086 ROARING FORK AVE #C3  CARBONDALE          Condo               CONDO   \n",
       "4           001913 DOLORES WAY  CARBONDALE          Condo               CONDO   \n",
       "\n",
       "   Year Built  Bedrooms  Baths  Heated Area  \\\n",
       "0      1974.0       1.0    1.0        621.0   \n",
       "1      1980.0       1.0    1.0        732.0   \n",
       "2      2008.0       1.0    1.0        792.0   \n",
       "3      1981.0       1.0    1.0        800.0   \n",
       "4      2007.0       2.0    1.0        864.0   \n",
       "\n",
       "                                               Legal  \n",
       "0  Section: 34 Township: 7 Range: 88 DESC: RESUB ...  \n",
       "1  Section: 34 Township: 7 Range: 88 Subdivision:...  \n",
       "2  Section: 34 Township: 7 Range: 88 DESC: A RESU...  \n",
       "3  Section: 3 Township: 8 Range: 88 DESC: BLDG 4 ...  \n",
       "4  Section: 33 Township: 7 Range: 88 DESC: A RESU...  "
      ]
     },
     "execution_count": 7,
     "metadata": {},
     "output_type": "execute_result"
    }
   ],
   "source": [
    "# Rename \"Actual Year Built\" column name to \"Year Built\" to match single homes dataset\n",
    "condo_townhome = condo_townhome.rename(columns={\"Actual Year Built\": \"Year Built\"})\n",
    "condo_townhome.head()"
   ]
  },
  {
   "cell_type": "code",
   "execution_count": 8,
   "metadata": {},
   "outputs": [
    {
     "data": {
      "text/html": [
       "<div>\n",
       "<style scoped>\n",
       "    .dataframe tbody tr th:only-of-type {\n",
       "        vertical-align: middle;\n",
       "    }\n",
       "\n",
       "    .dataframe tbody tr th {\n",
       "        vertical-align: top;\n",
       "    }\n",
       "\n",
       "    .dataframe thead th {\n",
       "        text-align: right;\n",
       "    }\n",
       "</style>\n",
       "<table border=\"1\" class=\"dataframe\">\n",
       "  <thead>\n",
       "    <tr style=\"text-align: right;\">\n",
       "      <th></th>\n",
       "      <th>Account</th>\n",
       "      <th>Parcel Number</th>\n",
       "      <th>Reception</th>\n",
       "      <th>Sale Date</th>\n",
       "      <th>Sale Price</th>\n",
       "      <th>Situs Address</th>\n",
       "      <th>Location</th>\n",
       "      <th>Architectural Style</th>\n",
       "      <th>Year Built</th>\n",
       "      <th>Bedrooms</th>\n",
       "      <th>Baths</th>\n",
       "      <th>Heated Area</th>\n",
       "      <th>Legal</th>\n",
       "      <th>Classification</th>\n",
       "    </tr>\n",
       "  </thead>\n",
       "  <tbody>\n",
       "    <tr>\n",
       "      <th>0</th>\n",
       "      <td>R340967</td>\n",
       "      <td>239334401005</td>\n",
       "      <td>879240</td>\n",
       "      <td>6/29/2016</td>\n",
       "      <td>$650,000</td>\n",
       "      <td>000066 N 2ND ST</td>\n",
       "      <td>CARBONDALE</td>\n",
       "      <td>ONE STORY</td>\n",
       "      <td>1970.0</td>\n",
       "      <td>0.0</td>\n",
       "      <td>0.00</td>\n",
       "      <td>0.0</td>\n",
       "      <td>Section: 34 Township: 7 Range: 88 Subdivision:...</td>\n",
       "      <td>Single Family</td>\n",
       "    </tr>\n",
       "    <tr>\n",
       "      <th>1</th>\n",
       "      <td>R340073</td>\n",
       "      <td>239334200010</td>\n",
       "      <td>870778</td>\n",
       "      <td>11/24/2015</td>\n",
       "      <td>$560,000</td>\n",
       "      <td>000276 10TH ST</td>\n",
       "      <td>CARBONDALE</td>\n",
       "      <td>ONE STORY</td>\n",
       "      <td>1971.0</td>\n",
       "      <td>1.0</td>\n",
       "      <td>1.00</td>\n",
       "      <td>480.0</td>\n",
       "      <td>Section: 34 Township: 7 Range: 88 TR IN LOT 5</td>\n",
       "      <td>Single Family</td>\n",
       "    </tr>\n",
       "    <tr>\n",
       "      <th>2</th>\n",
       "      <td>R112063</td>\n",
       "      <td>239335100057</td>\n",
       "      <td>869383</td>\n",
       "      <td>10/13/2015</td>\n",
       "      <td>$2,750,000</td>\n",
       "      <td>000855 ROSE LN</td>\n",
       "      <td>CARBONDALE</td>\n",
       "      <td>ONE STORY</td>\n",
       "      <td>2002.0</td>\n",
       "      <td>0.0</td>\n",
       "      <td>0.75</td>\n",
       "      <td>680.0</td>\n",
       "      <td>Section: 35 Township: 7 Range: 88 A TR IN LOTS...</td>\n",
       "      <td>Single Family</td>\n",
       "    </tr>\n",
       "    <tr>\n",
       "      <th>3</th>\n",
       "      <td>R580140</td>\n",
       "      <td>239334366004</td>\n",
       "      <td>857328</td>\n",
       "      <td>12/18/2014</td>\n",
       "      <td>$630,500</td>\n",
       "      <td>000640 LINCOLN AVE</td>\n",
       "      <td>CARBONDALE</td>\n",
       "      <td>ONE</td>\n",
       "      <td>1999.0</td>\n",
       "      <td>1.0</td>\n",
       "      <td>1.00</td>\n",
       "      <td>710.0</td>\n",
       "      <td>Section: 34 Township: 7 Range: 88 - Subdivisio...</td>\n",
       "      <td>Single Family</td>\n",
       "    </tr>\n",
       "    <tr>\n",
       "      <th>4</th>\n",
       "      <td>R043949</td>\n",
       "      <td>239120300276</td>\n",
       "      <td>853541</td>\n",
       "      <td>9/12/2014</td>\n",
       "      <td>$2,800,000</td>\n",
       "      <td>102 COUNTY RD</td>\n",
       "      <td>CARBONDALE</td>\n",
       "      <td>ONE STORY</td>\n",
       "      <td>2008.0</td>\n",
       "      <td>2.0</td>\n",
       "      <td>1.00</td>\n",
       "      <td>764.0</td>\n",
       "      <td>Section: 20 Township: 7 Range: 87 A TR IN THE ...</td>\n",
       "      <td>Single Family</td>\n",
       "    </tr>\n",
       "  </tbody>\n",
       "</table>\n",
       "</div>"
      ],
      "text/plain": [
       "   Account Parcel Number Reception   Sale Date  Sale Price  \\\n",
       "0  R340967  239334401005    879240   6/29/2016    $650,000   \n",
       "1  R340073  239334200010    870778  11/24/2015    $560,000   \n",
       "2  R112063  239335100057    869383  10/13/2015  $2,750,000   \n",
       "3  R580140  239334366004    857328  12/18/2014    $630,500   \n",
       "4  R043949  239120300276    853541   9/12/2014  $2,800,000   \n",
       "\n",
       "        Situs Address    Location Architectural Style  Year Built  Bedrooms  \\\n",
       "0     000066 N 2ND ST  CARBONDALE           ONE STORY      1970.0       0.0   \n",
       "1      000276 10TH ST  CARBONDALE           ONE STORY      1971.0       1.0   \n",
       "2      000855 ROSE LN  CARBONDALE           ONE STORY      2002.0       0.0   \n",
       "3  000640 LINCOLN AVE  CARBONDALE                 ONE      1999.0       1.0   \n",
       "4       102 COUNTY RD  CARBONDALE           ONE STORY      2008.0       2.0   \n",
       "\n",
       "   Baths  Heated Area                                              Legal  \\\n",
       "0   0.00          0.0  Section: 34 Township: 7 Range: 88 Subdivision:...   \n",
       "1   1.00        480.0      Section: 34 Township: 7 Range: 88 TR IN LOT 5   \n",
       "2   0.75        680.0  Section: 35 Township: 7 Range: 88 A TR IN LOTS...   \n",
       "3   1.00        710.0  Section: 34 Township: 7 Range: 88 - Subdivisio...   \n",
       "4   1.00        764.0  Section: 20 Township: 7 Range: 87 A TR IN THE ...   \n",
       "\n",
       "  Classification  \n",
       "0  Single Family  \n",
       "1  Single Family  \n",
       "2  Single Family  \n",
       "3  Single Family  \n",
       "4  Single Family  "
      ]
     },
     "execution_count": 8,
     "metadata": {},
     "output_type": "execute_result"
    }
   ],
   "source": [
    "# Add Classification column to single family dataframe and populate with \"Single Family\"\n",
    "single_family[\"Classification\"] = \"Single Family\"\n",
    "single_family.head()"
   ]
  },
  {
   "cell_type": "markdown",
   "metadata": {},
   "source": [
    "# Combine the datasets"
   ]
  },
  {
   "cell_type": "code",
   "execution_count": 9,
   "metadata": {},
   "outputs": [
    {
     "data": {
      "text/plain": [
       "(1369, 14)"
      ]
     },
     "execution_count": 9,
     "metadata": {},
     "output_type": "execute_result"
    }
   ],
   "source": [
    "# Check total number of rows and columns before combining\n",
    "single_family.shape"
   ]
  },
  {
   "cell_type": "code",
   "execution_count": 10,
   "metadata": {},
   "outputs": [
    {
     "data": {
      "text/plain": [
       "(606, 14)"
      ]
     },
     "execution_count": 10,
     "metadata": {},
     "output_type": "execute_result"
    }
   ],
   "source": [
    "# Check total number of rows and columns before combining\n",
    "condo_townhome.shape"
   ]
  },
  {
   "cell_type": "code",
   "execution_count": 11,
   "metadata": {},
   "outputs": [
    {
     "data": {
      "text/plain": [
       "1975"
      ]
     },
     "execution_count": 11,
     "metadata": {},
     "output_type": "execute_result"
    }
   ],
   "source": [
    "# Number of rows expected in the combined datasets\n",
    "1369 + 606"
   ]
  },
  {
   "cell_type": "code",
   "execution_count": 12,
   "metadata": {
    "scrolled": true
   },
   "outputs": [
    {
     "name": "stderr",
     "output_type": "stream",
     "text": [
      "/Users/caseybates/anaconda3/lib/python3.6/site-packages/ipykernel_launcher.py:2: FutureWarning: Sorting because non-concatenation axis is not aligned. A future version\n",
      "of pandas will change to not sort by default.\n",
      "\n",
      "To accept the future behavior, pass 'sort=False'.\n",
      "\n",
      "To retain the current behavior and silence the warning, pass 'sort=True'.\n",
      "\n",
      "  \n"
     ]
    },
    {
     "data": {
      "text/html": [
       "<div>\n",
       "<style scoped>\n",
       "    .dataframe tbody tr th:only-of-type {\n",
       "        vertical-align: middle;\n",
       "    }\n",
       "\n",
       "    .dataframe tbody tr th {\n",
       "        vertical-align: top;\n",
       "    }\n",
       "\n",
       "    .dataframe thead th {\n",
       "        text-align: right;\n",
       "    }\n",
       "</style>\n",
       "<table border=\"1\" class=\"dataframe\">\n",
       "  <thead>\n",
       "    <tr style=\"text-align: right;\">\n",
       "      <th></th>\n",
       "      <th>Account</th>\n",
       "      <th>Architectural Style</th>\n",
       "      <th>Baths</th>\n",
       "      <th>Bedrooms</th>\n",
       "      <th>Classification</th>\n",
       "      <th>Heated Area</th>\n",
       "      <th>Legal</th>\n",
       "      <th>Location</th>\n",
       "      <th>Parcel Number</th>\n",
       "      <th>Reception</th>\n",
       "      <th>Sale Date</th>\n",
       "      <th>Sale Price</th>\n",
       "      <th>Situs Address</th>\n",
       "      <th>Year Built</th>\n",
       "    </tr>\n",
       "  </thead>\n",
       "  <tbody>\n",
       "    <tr>\n",
       "      <th>0</th>\n",
       "      <td>R007341</td>\n",
       "      <td>CONDO</td>\n",
       "      <td>1.0</td>\n",
       "      <td>1.0</td>\n",
       "      <td>Condo</td>\n",
       "      <td>621.0</td>\n",
       "      <td>Section: 34 Township: 7 Range: 88 DESC: RESUB ...</td>\n",
       "      <td>CARBONDALE</td>\n",
       "      <td>239334430001</td>\n",
       "      <td>852413</td>\n",
       "      <td>8/8/2014</td>\n",
       "      <td>$210,000</td>\n",
       "      <td>000133 SOPRIS AVE #A</td>\n",
       "      <td>1974.0</td>\n",
       "    </tr>\n",
       "    <tr>\n",
       "      <th>1</th>\n",
       "      <td>R340686</td>\n",
       "      <td>CONDO</td>\n",
       "      <td>1.0</td>\n",
       "      <td>1.0</td>\n",
       "      <td>Condo</td>\n",
       "      <td>732.0</td>\n",
       "      <td>Section: 34 Township: 7 Range: 88 Subdivision:...</td>\n",
       "      <td>CARBONDALE</td>\n",
       "      <td>239334350003</td>\n",
       "      <td>871451</td>\n",
       "      <td>12/11/2015</td>\n",
       "      <td>$265,000</td>\n",
       "      <td>213 1/2 N 10TH ST #C</td>\n",
       "      <td>1980.0</td>\n",
       "    </tr>\n",
       "    <tr>\n",
       "      <th>2</th>\n",
       "      <td>R045341</td>\n",
       "      <td>CONDO</td>\n",
       "      <td>1.0</td>\n",
       "      <td>1.0</td>\n",
       "      <td>Condo</td>\n",
       "      <td>792.0</td>\n",
       "      <td>Section: 34 Township: 7 Range: 88 DESC: A RESU...</td>\n",
       "      <td>CARBONDALE</td>\n",
       "      <td>23933430G008</td>\n",
       "      <td>861415</td>\n",
       "      <td>4/14/2015</td>\n",
       "      <td>$308,500</td>\n",
       "      <td>000345 COLORADO AVE #202</td>\n",
       "      <td>2008.0</td>\n",
       "    </tr>\n",
       "    <tr>\n",
       "      <th>3</th>\n",
       "      <td>R340803</td>\n",
       "      <td>CONDO</td>\n",
       "      <td>1.0</td>\n",
       "      <td>1.0</td>\n",
       "      <td>Condo</td>\n",
       "      <td>800.0</td>\n",
       "      <td>Section: 3 Township: 8 Range: 88 DESC: BLDG 4 ...</td>\n",
       "      <td>CARBONDALE</td>\n",
       "      <td>246303105047</td>\n",
       "      <td>872689</td>\n",
       "      <td>1/20/2016</td>\n",
       "      <td>$160,000</td>\n",
       "      <td>000086 ROARING FORK AVE #C3</td>\n",
       "      <td>1981.0</td>\n",
       "    </tr>\n",
       "    <tr>\n",
       "      <th>4</th>\n",
       "      <td>R044451</td>\n",
       "      <td>CONDO</td>\n",
       "      <td>1.0</td>\n",
       "      <td>2.0</td>\n",
       "      <td>Condo</td>\n",
       "      <td>864.0</td>\n",
       "      <td>Section: 33 Township: 7 Range: 88 DESC: A RESU...</td>\n",
       "      <td>CARBONDALE</td>\n",
       "      <td>239333149008</td>\n",
       "      <td>875851</td>\n",
       "      <td>4/8/2016</td>\n",
       "      <td>$340,000</td>\n",
       "      <td>001913 DOLORES WAY</td>\n",
       "      <td>2007.0</td>\n",
       "    </tr>\n",
       "  </tbody>\n",
       "</table>\n",
       "</div>"
      ],
      "text/plain": [
       "   Account Architectural Style  Baths  Bedrooms Classification  Heated Area  \\\n",
       "0  R007341               CONDO    1.0       1.0          Condo        621.0   \n",
       "1  R340686               CONDO    1.0       1.0          Condo        732.0   \n",
       "2  R045341               CONDO    1.0       1.0          Condo        792.0   \n",
       "3  R340803               CONDO    1.0       1.0          Condo        800.0   \n",
       "4  R044451               CONDO    1.0       2.0          Condo        864.0   \n",
       "\n",
       "                                               Legal    Location  \\\n",
       "0  Section: 34 Township: 7 Range: 88 DESC: RESUB ...  CARBONDALE   \n",
       "1  Section: 34 Township: 7 Range: 88 Subdivision:...  CARBONDALE   \n",
       "2  Section: 34 Township: 7 Range: 88 DESC: A RESU...  CARBONDALE   \n",
       "3  Section: 3 Township: 8 Range: 88 DESC: BLDG 4 ...  CARBONDALE   \n",
       "4  Section: 33 Township: 7 Range: 88 DESC: A RESU...  CARBONDALE   \n",
       "\n",
       "  Parcel Number Reception   Sale Date Sale Price                Situs Address  \\\n",
       "0  239334430001    852413    8/8/2014   $210,000         000133 SOPRIS AVE #A   \n",
       "1  239334350003    871451  12/11/2015   $265,000         213 1/2 N 10TH ST #C   \n",
       "2  23933430G008    861415   4/14/2015   $308,500     000345 COLORADO AVE #202   \n",
       "3  246303105047    872689   1/20/2016   $160,000  000086 ROARING FORK AVE #C3   \n",
       "4  239333149008    875851    4/8/2016   $340,000           001913 DOLORES WAY   \n",
       "\n",
       "   Year Built  \n",
       "0      1974.0  \n",
       "1      1980.0  \n",
       "2      2008.0  \n",
       "3      1981.0  \n",
       "4      2007.0  "
      ]
     },
     "execution_count": 12,
     "metadata": {},
     "output_type": "execute_result"
    }
   ],
   "source": [
    "# Because condo_townhome has an extra column, the single_family dataset will be appended to the bottom\n",
    "combined = pd.concat([condo_townhome, single_family], axis=0) # axis set \n",
    "combined.head()"
   ]
  },
  {
   "cell_type": "code",
   "execution_count": 13,
   "metadata": {},
   "outputs": [
    {
     "data": {
      "text/html": [
       "<div>\n",
       "<style scoped>\n",
       "    .dataframe tbody tr th:only-of-type {\n",
       "        vertical-align: middle;\n",
       "    }\n",
       "\n",
       "    .dataframe tbody tr th {\n",
       "        vertical-align: top;\n",
       "    }\n",
       "\n",
       "    .dataframe thead th {\n",
       "        text-align: right;\n",
       "    }\n",
       "</style>\n",
       "<table border=\"1\" class=\"dataframe\">\n",
       "  <thead>\n",
       "    <tr style=\"text-align: right;\">\n",
       "      <th></th>\n",
       "      <th>Account</th>\n",
       "      <th>Parcel Number</th>\n",
       "      <th>Reception</th>\n",
       "      <th>Sale Date</th>\n",
       "      <th>Sale Price</th>\n",
       "      <th>Situs Address</th>\n",
       "      <th>Location</th>\n",
       "      <th>Classification</th>\n",
       "      <th>Architectural Style</th>\n",
       "      <th>Year Built</th>\n",
       "      <th>Bedrooms</th>\n",
       "      <th>Baths</th>\n",
       "      <th>Heated Area</th>\n",
       "      <th>Legal</th>\n",
       "    </tr>\n",
       "  </thead>\n",
       "  <tbody>\n",
       "    <tr>\n",
       "      <th>0</th>\n",
       "      <td>R007341</td>\n",
       "      <td>239334430001</td>\n",
       "      <td>852413</td>\n",
       "      <td>8/8/2014</td>\n",
       "      <td>$210,000</td>\n",
       "      <td>000133 SOPRIS AVE #A</td>\n",
       "      <td>CARBONDALE</td>\n",
       "      <td>Condo</td>\n",
       "      <td>CONDO</td>\n",
       "      <td>1974.0</td>\n",
       "      <td>1.0</td>\n",
       "      <td>1.0</td>\n",
       "      <td>621.0</td>\n",
       "      <td>Section: 34 Township: 7 Range: 88 DESC: RESUB ...</td>\n",
       "    </tr>\n",
       "    <tr>\n",
       "      <th>1</th>\n",
       "      <td>R340686</td>\n",
       "      <td>239334350003</td>\n",
       "      <td>871451</td>\n",
       "      <td>12/11/2015</td>\n",
       "      <td>$265,000</td>\n",
       "      <td>213 1/2 N 10TH ST #C</td>\n",
       "      <td>CARBONDALE</td>\n",
       "      <td>Condo</td>\n",
       "      <td>CONDO</td>\n",
       "      <td>1980.0</td>\n",
       "      <td>1.0</td>\n",
       "      <td>1.0</td>\n",
       "      <td>732.0</td>\n",
       "      <td>Section: 34 Township: 7 Range: 88 Subdivision:...</td>\n",
       "    </tr>\n",
       "    <tr>\n",
       "      <th>2</th>\n",
       "      <td>R045341</td>\n",
       "      <td>23933430G008</td>\n",
       "      <td>861415</td>\n",
       "      <td>4/14/2015</td>\n",
       "      <td>$308,500</td>\n",
       "      <td>000345 COLORADO AVE #202</td>\n",
       "      <td>CARBONDALE</td>\n",
       "      <td>Condo</td>\n",
       "      <td>CONDO</td>\n",
       "      <td>2008.0</td>\n",
       "      <td>1.0</td>\n",
       "      <td>1.0</td>\n",
       "      <td>792.0</td>\n",
       "      <td>Section: 34 Township: 7 Range: 88 DESC: A RESU...</td>\n",
       "    </tr>\n",
       "    <tr>\n",
       "      <th>3</th>\n",
       "      <td>R340803</td>\n",
       "      <td>246303105047</td>\n",
       "      <td>872689</td>\n",
       "      <td>1/20/2016</td>\n",
       "      <td>$160,000</td>\n",
       "      <td>000086 ROARING FORK AVE #C3</td>\n",
       "      <td>CARBONDALE</td>\n",
       "      <td>Condo</td>\n",
       "      <td>CONDO</td>\n",
       "      <td>1981.0</td>\n",
       "      <td>1.0</td>\n",
       "      <td>1.0</td>\n",
       "      <td>800.0</td>\n",
       "      <td>Section: 3 Township: 8 Range: 88 DESC: BLDG 4 ...</td>\n",
       "    </tr>\n",
       "    <tr>\n",
       "      <th>4</th>\n",
       "      <td>R044451</td>\n",
       "      <td>239333149008</td>\n",
       "      <td>875851</td>\n",
       "      <td>4/8/2016</td>\n",
       "      <td>$340,000</td>\n",
       "      <td>001913 DOLORES WAY</td>\n",
       "      <td>CARBONDALE</td>\n",
       "      <td>Condo</td>\n",
       "      <td>CONDO</td>\n",
       "      <td>2007.0</td>\n",
       "      <td>2.0</td>\n",
       "      <td>1.0</td>\n",
       "      <td>864.0</td>\n",
       "      <td>Section: 33 Township: 7 Range: 88 DESC: A RESU...</td>\n",
       "    </tr>\n",
       "  </tbody>\n",
       "</table>\n",
       "</div>"
      ],
      "text/plain": [
       "   Account Parcel Number Reception   Sale Date Sale Price  \\\n",
       "0  R007341  239334430001    852413    8/8/2014   $210,000   \n",
       "1  R340686  239334350003    871451  12/11/2015   $265,000   \n",
       "2  R045341  23933430G008    861415   4/14/2015   $308,500   \n",
       "3  R340803  246303105047    872689   1/20/2016   $160,000   \n",
       "4  R044451  239333149008    875851    4/8/2016   $340,000   \n",
       "\n",
       "                 Situs Address    Location Classification Architectural Style  \\\n",
       "0         000133 SOPRIS AVE #A  CARBONDALE          Condo               CONDO   \n",
       "1         213 1/2 N 10TH ST #C  CARBONDALE          Condo               CONDO   \n",
       "2     000345 COLORADO AVE #202  CARBONDALE          Condo               CONDO   \n",
       "3  000086 ROARING FORK AVE #C3  CARBONDALE          Condo               CONDO   \n",
       "4           001913 DOLORES WAY  CARBONDALE          Condo               CONDO   \n",
       "\n",
       "   Year Built  Bedrooms  Baths  Heated Area  \\\n",
       "0      1974.0       1.0    1.0        621.0   \n",
       "1      1980.0       1.0    1.0        732.0   \n",
       "2      2008.0       1.0    1.0        792.0   \n",
       "3      1981.0       1.0    1.0        800.0   \n",
       "4      2007.0       2.0    1.0        864.0   \n",
       "\n",
       "                                               Legal  \n",
       "0  Section: 34 Township: 7 Range: 88 DESC: RESUB ...  \n",
       "1  Section: 34 Township: 7 Range: 88 Subdivision:...  \n",
       "2  Section: 34 Township: 7 Range: 88 DESC: A RESU...  \n",
       "3  Section: 3 Township: 8 Range: 88 DESC: BLDG 4 ...  \n",
       "4  Section: 33 Township: 7 Range: 88 DESC: A RESU...  "
      ]
     },
     "execution_count": 13,
     "metadata": {},
     "output_type": "execute_result"
    }
   ],
   "source": [
    "# Set \"sort=False\" based on FutureWarning seen above; sorting is not required in this case.\n",
    "combined = pd.concat([condo_townhome, single_family], axis=0, sort=False) # axis set \n",
    "combined.head()"
   ]
  },
  {
   "cell_type": "code",
   "execution_count": 14,
   "metadata": {},
   "outputs": [
    {
     "data": {
      "text/html": [
       "<div>\n",
       "<style scoped>\n",
       "    .dataframe tbody tr th:only-of-type {\n",
       "        vertical-align: middle;\n",
       "    }\n",
       "\n",
       "    .dataframe tbody tr th {\n",
       "        vertical-align: top;\n",
       "    }\n",
       "\n",
       "    .dataframe thead th {\n",
       "        text-align: right;\n",
       "    }\n",
       "</style>\n",
       "<table border=\"1\" class=\"dataframe\">\n",
       "  <thead>\n",
       "    <tr style=\"text-align: right;\">\n",
       "      <th></th>\n",
       "      <th>Account</th>\n",
       "      <th>Parcel Number</th>\n",
       "      <th>Reception</th>\n",
       "      <th>Sale Date</th>\n",
       "      <th>Sale Price</th>\n",
       "      <th>Situs Address</th>\n",
       "      <th>Location</th>\n",
       "      <th>Classification</th>\n",
       "      <th>Architectural Style</th>\n",
       "      <th>Year Built</th>\n",
       "      <th>Bedrooms</th>\n",
       "      <th>Baths</th>\n",
       "      <th>Heated Area</th>\n",
       "      <th>Legal</th>\n",
       "    </tr>\n",
       "  </thead>\n",
       "  <tbody>\n",
       "    <tr>\n",
       "      <th>1364</th>\n",
       "      <td>R351092</td>\n",
       "      <td>217902331039</td>\n",
       "      <td>862783</td>\n",
       "      <td>5/15/2015</td>\n",
       "      <td>$419,000</td>\n",
       "      <td>002010 MORNING STAR DR</td>\n",
       "      <td>SILT</td>\n",
       "      <td>Single Family</td>\n",
       "      <td>TWO STORY WITH BASEMENT</td>\n",
       "      <td>2006.0</td>\n",
       "      <td>5.0</td>\n",
       "      <td>4.00</td>\n",
       "      <td>3610.0</td>\n",
       "      <td>Section: 2 Township: 6 Range: 92 Subdivision: ...</td>\n",
       "    </tr>\n",
       "    <tr>\n",
       "      <th>1365</th>\n",
       "      <td>R200040</td>\n",
       "      <td>212736400009</td>\n",
       "      <td>863763</td>\n",
       "      <td>6/5/2015</td>\n",
       "      <td>$605,000</td>\n",
       "      <td>285 PANORAMIC DR</td>\n",
       "      <td>SILT</td>\n",
       "      <td>Single Family</td>\n",
       "      <td>ONE STORY WITH BASEMENT</td>\n",
       "      <td>2005.0</td>\n",
       "      <td>4.0</td>\n",
       "      <td>3.00</td>\n",
       "      <td>4062.0</td>\n",
       "      <td>Section: 36 Township: 5 Range: 92 Subdivision:...</td>\n",
       "    </tr>\n",
       "    <tr>\n",
       "      <th>1366</th>\n",
       "      <td>R041390</td>\n",
       "      <td>217904200707</td>\n",
       "      <td>853722</td>\n",
       "      <td>9/17/2014</td>\n",
       "      <td>$402,000</td>\n",
       "      <td>000095 LONE PINON LN</td>\n",
       "      <td>SILT</td>\n",
       "      <td>Single Family</td>\n",
       "      <td>TWO STORY WITH BASEMENT</td>\n",
       "      <td>2007.0</td>\n",
       "      <td>5.0</td>\n",
       "      <td>3.25</td>\n",
       "      <td>4348.0</td>\n",
       "      <td>Section: 4 Township: 6 Range: 92 ANTLERS ORCHA...</td>\n",
       "    </tr>\n",
       "    <tr>\n",
       "      <th>1367</th>\n",
       "      <td>R041390</td>\n",
       "      <td>217904200707</td>\n",
       "      <td>860466</td>\n",
       "      <td>3/13/2015</td>\n",
       "      <td>$540,000</td>\n",
       "      <td>000095 LONE PINON LN</td>\n",
       "      <td>SILT</td>\n",
       "      <td>Single Family</td>\n",
       "      <td>TWO STORY WITH BASEMENT</td>\n",
       "      <td>2007.0</td>\n",
       "      <td>5.0</td>\n",
       "      <td>3.25</td>\n",
       "      <td>4348.0</td>\n",
       "      <td>Section: 4 Township: 6 Range: 92 ANTLERS ORCHA...</td>\n",
       "    </tr>\n",
       "    <tr>\n",
       "      <th>1368</th>\n",
       "      <td>R041246</td>\n",
       "      <td>217905202021</td>\n",
       "      <td>877699</td>\n",
       "      <td>5/25/2016</td>\n",
       "      <td>$800,000</td>\n",
       "      <td>000565 N MEADOW DR</td>\n",
       "      <td>SILT</td>\n",
       "      <td>Single Family</td>\n",
       "      <td>ONE STORY WITH BASEMENT</td>\n",
       "      <td>2008.0</td>\n",
       "      <td>5.0</td>\n",
       "      <td>4.50</td>\n",
       "      <td>5601.0</td>\n",
       "      <td>Section: 5 Township: 6 Range: 92 Subdivision: ...</td>\n",
       "    </tr>\n",
       "  </tbody>\n",
       "</table>\n",
       "</div>"
      ],
      "text/plain": [
       "      Account Parcel Number Reception  Sale Date Sale Price  \\\n",
       "1364  R351092  217902331039    862783  5/15/2015   $419,000   \n",
       "1365  R200040  212736400009    863763   6/5/2015   $605,000   \n",
       "1366  R041390  217904200707    853722  9/17/2014   $402,000   \n",
       "1367  R041390  217904200707    860466  3/13/2015   $540,000   \n",
       "1368  R041246  217905202021    877699  5/25/2016   $800,000   \n",
       "\n",
       "               Situs Address Location Classification      Architectural Style  \\\n",
       "1364  002010 MORNING STAR DR     SILT  Single Family  TWO STORY WITH BASEMENT   \n",
       "1365        285 PANORAMIC DR     SILT  Single Family  ONE STORY WITH BASEMENT   \n",
       "1366    000095 LONE PINON LN     SILT  Single Family  TWO STORY WITH BASEMENT   \n",
       "1367    000095 LONE PINON LN     SILT  Single Family  TWO STORY WITH BASEMENT   \n",
       "1368      000565 N MEADOW DR     SILT  Single Family  ONE STORY WITH BASEMENT   \n",
       "\n",
       "      Year Built  Bedrooms  Baths  Heated Area  \\\n",
       "1364      2006.0       5.0   4.00       3610.0   \n",
       "1365      2005.0       4.0   3.00       4062.0   \n",
       "1366      2007.0       5.0   3.25       4348.0   \n",
       "1367      2007.0       5.0   3.25       4348.0   \n",
       "1368      2008.0       5.0   4.50       5601.0   \n",
       "\n",
       "                                                  Legal  \n",
       "1364  Section: 2 Township: 6 Range: 92 Subdivision: ...  \n",
       "1365  Section: 36 Township: 5 Range: 92 Subdivision:...  \n",
       "1366  Section: 4 Township: 6 Range: 92 ANTLERS ORCHA...  \n",
       "1367  Section: 4 Township: 6 Range: 92 ANTLERS ORCHA...  \n",
       "1368  Section: 5 Township: 6 Range: 92 Subdivision: ...  "
      ]
     },
     "execution_count": 14,
     "metadata": {},
     "output_type": "execute_result"
    }
   ],
   "source": [
    "# Check tail to verify that \"Classification\" is \"Single Family\" for single family homes\n",
    "combined.tail()"
   ]
  },
  {
   "cell_type": "code",
   "execution_count": 15,
   "metadata": {},
   "outputs": [
    {
     "data": {
      "text/plain": [
       "(1975, 14)"
      ]
     },
     "execution_count": 15,
     "metadata": {},
     "output_type": "execute_result"
    }
   ],
   "source": [
    "# Check shape (# of rows, # of columns) of combined dataset to see of number of rows matches expected (1975)\n",
    "combined.shape"
   ]
  },
  {
   "cell_type": "code",
   "execution_count": 16,
   "metadata": {},
   "outputs": [
    {
     "data": {
      "text/plain": [
       "Index(['Account', 'Parcel Number', 'Reception', 'Sale Date', 'Sale Price',\n",
       "       'Situs Address', 'Location', 'Classification', 'Architectural Style',\n",
       "       'Year Built', 'Bedrooms', 'Baths', 'Heated Area', 'Legal'],\n",
       "      dtype='object')"
      ]
     },
     "execution_count": 16,
     "metadata": {},
     "output_type": "execute_result"
    }
   ],
   "source": [
    "# Double check column names\n",
    "combined.columns"
   ]
  },
  {
   "cell_type": "code",
   "execution_count": 17,
   "metadata": {},
   "outputs": [
    {
     "name": "stdout",
     "output_type": "stream",
     "text": [
      "['CARBONDALE' 'GLENWOOD' 'NEW CASTLE' 'PARACHUTE' 'RIFLE' 'SILT']\n",
      "['Condo' 'Townhome' 'Garage Only' 'Single Family']\n",
      "['CONDO' 'TWO STORY' 'BI LEVEL' 'ONE STORY W/ BSMT' 'TRI LEVEL'\n",
      " 'TWO STORY W/ BSMT' 'ONE STORY' 'THREE STORY' 'SPLIT LEVEL'\n",
      " 'ONE WITH HALF STORY' nan 'MANUFACTURED HUD' 'ONE' 'STRAW BALE'\n",
      " 'ONE STORY WITH BASEMENT' 'TWO STORY WITH BASEMENT'\n",
      " 'MODULAR WITH ADDITION' 'MODULAR UBC IRC' 'LOG HOME' 'RECREATIONAL CABIN'\n",
      " 'BARN WITH LIVING' 'MANUFACTURED HUD WITH ADDN' 'PRE HUD MOBILE HOME']\n",
      "[1974. 1980. 2008. 1981. 2007. 1972. 2005. 1983. 1996. 1979. 1997. 2006.\n",
      " 1976. 1973. 1956. 1991. 1992. 2002. 1990. 1982. 1994. 1989. 2004. 1999.\n",
      " 1998. 1995. 2013. 2000. 1977. 2003. 2001. 2014. 2010. 2009. 1968. 1904.\n",
      " 1978. 1984. 1993. 1967. 1898. 1970. 1975. 2015.   nan 1971. 1957. 1923.\n",
      " 1888. 1883. 1958. 1960. 1966. 1988. 1959. 1985. 1951. 1953. 1947. 1950.\n",
      " 1961. 1948. 1964. 1901. 1905. 1908. 1893. 1962. 1889. 1954. 1936. 1903.\n",
      " 1963. 1938. 1887. 2016. 1949. 1897. 1969. 1940. 1937. 1952. 1965. 1913.\n",
      " 1955. 2011. 1915. 1920. 1892. 1909. 1987. 1928. 1946. 1902. 1945. 1919.\n",
      " 1899. 1930. 1917. 1900. 1910. 1933. 1918. 1943. 1914. 1922. 2012. 1986.]\n",
      "[1.   2.   1.75 1.5  1.7  2.5  2.25 2.75 2.2  3.   3.5  4.5  5.   5.5\n",
      " 3.25 3.75  nan 0.   0.75 2.7  4.   4.25 5.25 6.   4.75 3.7  6.25 3.2 ]\n",
      "[ 1.  2.  3.  4.  5. nan  0.  6.  7.]\n"
     ]
    }
   ],
   "source": [
    "# Spot check unique values from select columns to make sure there are no unexpected values\n",
    "print(combined[\"Location\"].unique())\n",
    "print(combined[\"Classification\"].unique())\n",
    "print(combined[\"Architectural Style\"].unique())\n",
    "print(combined[\"Year Built\"].unique())\n",
    "print(combined[\"Baths\"].unique())\n",
    "print(combined[\"Bedrooms\"].unique())"
   ]
  },
  {
   "cell_type": "markdown",
   "metadata": {},
   "source": [
    "The \"nan\" values in the \"Architectural Style\" and \"Year Built\" columns may require further investigation."
   ]
  },
  {
   "cell_type": "code",
   "execution_count": 18,
   "metadata": {},
   "outputs": [
    {
     "data": {
      "text/html": [
       "<div>\n",
       "<style scoped>\n",
       "    .dataframe tbody tr th:only-of-type {\n",
       "        vertical-align: middle;\n",
       "    }\n",
       "\n",
       "    .dataframe tbody tr th {\n",
       "        vertical-align: top;\n",
       "    }\n",
       "\n",
       "    .dataframe thead th {\n",
       "        text-align: right;\n",
       "    }\n",
       "</style>\n",
       "<table border=\"1\" class=\"dataframe\">\n",
       "  <thead>\n",
       "    <tr style=\"text-align: right;\">\n",
       "      <th></th>\n",
       "      <th>Account</th>\n",
       "      <th>Parcel Number</th>\n",
       "      <th>Reception</th>\n",
       "      <th>Sale Date</th>\n",
       "      <th>Sale Price</th>\n",
       "      <th>Situs Address</th>\n",
       "      <th>Location</th>\n",
       "      <th>Classification</th>\n",
       "      <th>Architectural Style</th>\n",
       "      <th>Year Built</th>\n",
       "      <th>Bedrooms</th>\n",
       "      <th>Baths</th>\n",
       "      <th>Heated Area</th>\n",
       "      <th>Legal</th>\n",
       "      <th>Count</th>\n",
       "    </tr>\n",
       "  </thead>\n",
       "  <tbody>\n",
       "    <tr>\n",
       "      <th>0</th>\n",
       "      <td>R007341</td>\n",
       "      <td>239334430001</td>\n",
       "      <td>852413</td>\n",
       "      <td>8/8/2014</td>\n",
       "      <td>$210,000</td>\n",
       "      <td>000133 SOPRIS AVE #A</td>\n",
       "      <td>CARBONDALE</td>\n",
       "      <td>Condo</td>\n",
       "      <td>CONDO</td>\n",
       "      <td>1974.0</td>\n",
       "      <td>1.0</td>\n",
       "      <td>1.0</td>\n",
       "      <td>621.0</td>\n",
       "      <td>Section: 34 Township: 7 Range: 88 DESC: RESUB ...</td>\n",
       "      <td>1</td>\n",
       "    </tr>\n",
       "    <tr>\n",
       "      <th>1</th>\n",
       "      <td>R340686</td>\n",
       "      <td>239334350003</td>\n",
       "      <td>871451</td>\n",
       "      <td>12/11/2015</td>\n",
       "      <td>$265,000</td>\n",
       "      <td>213 1/2 N 10TH ST #C</td>\n",
       "      <td>CARBONDALE</td>\n",
       "      <td>Condo</td>\n",
       "      <td>CONDO</td>\n",
       "      <td>1980.0</td>\n",
       "      <td>1.0</td>\n",
       "      <td>1.0</td>\n",
       "      <td>732.0</td>\n",
       "      <td>Section: 34 Township: 7 Range: 88 Subdivision:...</td>\n",
       "      <td>1</td>\n",
       "    </tr>\n",
       "    <tr>\n",
       "      <th>2</th>\n",
       "      <td>R045341</td>\n",
       "      <td>23933430G008</td>\n",
       "      <td>861415</td>\n",
       "      <td>4/14/2015</td>\n",
       "      <td>$308,500</td>\n",
       "      <td>000345 COLORADO AVE #202</td>\n",
       "      <td>CARBONDALE</td>\n",
       "      <td>Condo</td>\n",
       "      <td>CONDO</td>\n",
       "      <td>2008.0</td>\n",
       "      <td>1.0</td>\n",
       "      <td>1.0</td>\n",
       "      <td>792.0</td>\n",
       "      <td>Section: 34 Township: 7 Range: 88 DESC: A RESU...</td>\n",
       "      <td>1</td>\n",
       "    </tr>\n",
       "    <tr>\n",
       "      <th>3</th>\n",
       "      <td>R340803</td>\n",
       "      <td>246303105047</td>\n",
       "      <td>872689</td>\n",
       "      <td>1/20/2016</td>\n",
       "      <td>$160,000</td>\n",
       "      <td>000086 ROARING FORK AVE #C3</td>\n",
       "      <td>CARBONDALE</td>\n",
       "      <td>Condo</td>\n",
       "      <td>CONDO</td>\n",
       "      <td>1981.0</td>\n",
       "      <td>1.0</td>\n",
       "      <td>1.0</td>\n",
       "      <td>800.0</td>\n",
       "      <td>Section: 3 Township: 8 Range: 88 DESC: BLDG 4 ...</td>\n",
       "      <td>1</td>\n",
       "    </tr>\n",
       "    <tr>\n",
       "      <th>4</th>\n",
       "      <td>R044451</td>\n",
       "      <td>239333149008</td>\n",
       "      <td>875851</td>\n",
       "      <td>4/8/2016</td>\n",
       "      <td>$340,000</td>\n",
       "      <td>001913 DOLORES WAY</td>\n",
       "      <td>CARBONDALE</td>\n",
       "      <td>Condo</td>\n",
       "      <td>CONDO</td>\n",
       "      <td>2007.0</td>\n",
       "      <td>2.0</td>\n",
       "      <td>1.0</td>\n",
       "      <td>864.0</td>\n",
       "      <td>Section: 33 Township: 7 Range: 88 DESC: A RESU...</td>\n",
       "      <td>1</td>\n",
       "    </tr>\n",
       "  </tbody>\n",
       "</table>\n",
       "</div>"
      ],
      "text/plain": [
       "   Account Parcel Number Reception   Sale Date Sale Price  \\\n",
       "0  R007341  239334430001    852413    8/8/2014   $210,000   \n",
       "1  R340686  239334350003    871451  12/11/2015   $265,000   \n",
       "2  R045341  23933430G008    861415   4/14/2015   $308,500   \n",
       "3  R340803  246303105047    872689   1/20/2016   $160,000   \n",
       "4  R044451  239333149008    875851    4/8/2016   $340,000   \n",
       "\n",
       "                 Situs Address    Location Classification Architectural Style  \\\n",
       "0         000133 SOPRIS AVE #A  CARBONDALE          Condo               CONDO   \n",
       "1         213 1/2 N 10TH ST #C  CARBONDALE          Condo               CONDO   \n",
       "2     000345 COLORADO AVE #202  CARBONDALE          Condo               CONDO   \n",
       "3  000086 ROARING FORK AVE #C3  CARBONDALE          Condo               CONDO   \n",
       "4           001913 DOLORES WAY  CARBONDALE          Condo               CONDO   \n",
       "\n",
       "   Year Built  Bedrooms  Baths  Heated Area  \\\n",
       "0      1974.0       1.0    1.0        621.0   \n",
       "1      1980.0       1.0    1.0        732.0   \n",
       "2      2008.0       1.0    1.0        792.0   \n",
       "3      1981.0       1.0    1.0        800.0   \n",
       "4      2007.0       2.0    1.0        864.0   \n",
       "\n",
       "                                               Legal  Count  \n",
       "0  Section: 34 Township: 7 Range: 88 DESC: RESUB ...      1  \n",
       "1  Section: 34 Township: 7 Range: 88 Subdivision:...      1  \n",
       "2  Section: 34 Township: 7 Range: 88 DESC: A RESU...      1  \n",
       "3  Section: 3 Township: 8 Range: 88 DESC: BLDG 4 ...      1  \n",
       "4  Section: 33 Township: 7 Range: 88 DESC: A RESU...      1  "
      ]
     },
     "execution_count": 18,
     "metadata": {},
     "output_type": "execute_result"
    }
   ],
   "source": [
    "# Add a count column with value of 1 in each row for easy summation of sales\n",
    "combined.loc[:,\"Count\"] = int(1)\n",
    "combined.head()"
   ]
  },
  {
   "cell_type": "markdown",
   "metadata": {},
   "source": [
    "Initially I tried this:\n",
    "\n",
    "combined[\"Count\"] = int(1)\n",
    "\n",
    "But got this warning: \"A value is trying to be set on a copy of a slice from a DataFrame. Try using '.loc[row_indexer,col_indexer] = value' instead\n",
    "\n",
    "__[See the caveats in the documentation](http://pandas.pydata.org/pandas-docs/stable/indexing.html#indexing-view-versus-copy)__"
   ]
  },
  {
   "cell_type": "markdown",
   "metadata": {},
   "source": [
    "# Inspect and clean the data"
   ]
  },
  {
   "cell_type": "code",
   "execution_count": 19,
   "metadata": {},
   "outputs": [
    {
     "data": {
      "text/plain": [
       "Account                 object\n",
       "Parcel Number           object\n",
       "Reception               object\n",
       "Sale Date               object\n",
       "Sale Price              object\n",
       "Situs Address           object\n",
       "Location                object\n",
       "Classification          object\n",
       "Architectural Style     object\n",
       "Year Built             float64\n",
       "Bedrooms               float64\n",
       "Baths                  float64\n",
       "Heated Area            float64\n",
       "Legal                   object\n",
       "Count                    int64\n",
       "dtype: object"
      ]
     },
     "execution_count": 19,
     "metadata": {},
     "output_type": "execute_result"
    }
   ],
   "source": [
    "# Check column types\n",
    "combined.dtypes"
   ]
  },
  {
   "cell_type": "code",
   "execution_count": 20,
   "metadata": {},
   "outputs": [
    {
     "data": {
      "text/plain": [
       "dtype('int64')"
      ]
     },
     "execution_count": 20,
     "metadata": {},
     "output_type": "execute_result"
    }
   ],
   "source": [
    "# Convert Sale Price column to integer (remove \"$\" and \",\" characters)\n",
    "combined[\"Sale Price\"] = combined[\"Sale Price\"].str.replace(\"$\",\"\").str.replace(\",\",\"\").astype(int)\n",
    "combined[\"Sale Price\"].dtypes"
   ]
  },
  {
   "cell_type": "code",
   "execution_count": 21,
   "metadata": {},
   "outputs": [
    {
     "data": {
      "text/plain": [
       "dtype('<M8[ns]')"
      ]
     },
     "execution_count": 21,
     "metadata": {},
     "output_type": "execute_result"
    }
   ],
   "source": [
    "# Convert Sale Date column to datetime format\n",
    "combined[\"Sale Date\"] = pd.to_datetime(combined[\"Sale Date\"])\n",
    "combined[\"Sale Date\"].dtypes"
   ]
  },
  {
   "cell_type": "code",
   "execution_count": 22,
   "metadata": {},
   "outputs": [
    {
     "data": {
      "text/html": [
       "<div>\n",
       "<style scoped>\n",
       "    .dataframe tbody tr th:only-of-type {\n",
       "        vertical-align: middle;\n",
       "    }\n",
       "\n",
       "    .dataframe tbody tr th {\n",
       "        vertical-align: top;\n",
       "    }\n",
       "\n",
       "    .dataframe thead th {\n",
       "        text-align: right;\n",
       "    }\n",
       "</style>\n",
       "<table border=\"1\" class=\"dataframe\">\n",
       "  <thead>\n",
       "    <tr style=\"text-align: right;\">\n",
       "      <th></th>\n",
       "      <th>Account</th>\n",
       "      <th>Parcel Number</th>\n",
       "      <th>Reception</th>\n",
       "      <th>Sale Date</th>\n",
       "      <th>Sale Price</th>\n",
       "      <th>Situs Address</th>\n",
       "      <th>Location</th>\n",
       "      <th>Classification</th>\n",
       "      <th>Architectural Style</th>\n",
       "      <th>Year Built</th>\n",
       "      <th>Bedrooms</th>\n",
       "      <th>Baths</th>\n",
       "      <th>Heated Area</th>\n",
       "      <th>Legal</th>\n",
       "      <th>Count</th>\n",
       "    </tr>\n",
       "  </thead>\n",
       "  <tbody>\n",
       "    <tr>\n",
       "      <th>0</th>\n",
       "      <td>R007341</td>\n",
       "      <td>239334430001</td>\n",
       "      <td>852413</td>\n",
       "      <td>2014-08-08</td>\n",
       "      <td>210000</td>\n",
       "      <td>000133 SOPRIS AVE #A</td>\n",
       "      <td>CARBONDALE</td>\n",
       "      <td>Condo</td>\n",
       "      <td>CONDO</td>\n",
       "      <td>1974.0</td>\n",
       "      <td>1.0</td>\n",
       "      <td>1.0</td>\n",
       "      <td>621.0</td>\n",
       "      <td>Section: 34 Township: 7 Range: 88 DESC: RESUB ...</td>\n",
       "      <td>1</td>\n",
       "    </tr>\n",
       "    <tr>\n",
       "      <th>1</th>\n",
       "      <td>R340686</td>\n",
       "      <td>239334350003</td>\n",
       "      <td>871451</td>\n",
       "      <td>2015-12-11</td>\n",
       "      <td>265000</td>\n",
       "      <td>213 1/2 N 10TH ST #C</td>\n",
       "      <td>CARBONDALE</td>\n",
       "      <td>Condo</td>\n",
       "      <td>CONDO</td>\n",
       "      <td>1980.0</td>\n",
       "      <td>1.0</td>\n",
       "      <td>1.0</td>\n",
       "      <td>732.0</td>\n",
       "      <td>Section: 34 Township: 7 Range: 88 Subdivision:...</td>\n",
       "      <td>1</td>\n",
       "    </tr>\n",
       "    <tr>\n",
       "      <th>2</th>\n",
       "      <td>R045341</td>\n",
       "      <td>23933430G008</td>\n",
       "      <td>861415</td>\n",
       "      <td>2015-04-14</td>\n",
       "      <td>308500</td>\n",
       "      <td>000345 COLORADO AVE #202</td>\n",
       "      <td>CARBONDALE</td>\n",
       "      <td>Condo</td>\n",
       "      <td>CONDO</td>\n",
       "      <td>2008.0</td>\n",
       "      <td>1.0</td>\n",
       "      <td>1.0</td>\n",
       "      <td>792.0</td>\n",
       "      <td>Section: 34 Township: 7 Range: 88 DESC: A RESU...</td>\n",
       "      <td>1</td>\n",
       "    </tr>\n",
       "    <tr>\n",
       "      <th>3</th>\n",
       "      <td>R340803</td>\n",
       "      <td>246303105047</td>\n",
       "      <td>872689</td>\n",
       "      <td>2016-01-20</td>\n",
       "      <td>160000</td>\n",
       "      <td>000086 ROARING FORK AVE #C3</td>\n",
       "      <td>CARBONDALE</td>\n",
       "      <td>Condo</td>\n",
       "      <td>CONDO</td>\n",
       "      <td>1981.0</td>\n",
       "      <td>1.0</td>\n",
       "      <td>1.0</td>\n",
       "      <td>800.0</td>\n",
       "      <td>Section: 3 Township: 8 Range: 88 DESC: BLDG 4 ...</td>\n",
       "      <td>1</td>\n",
       "    </tr>\n",
       "    <tr>\n",
       "      <th>4</th>\n",
       "      <td>R044451</td>\n",
       "      <td>239333149008</td>\n",
       "      <td>875851</td>\n",
       "      <td>2016-04-08</td>\n",
       "      <td>340000</td>\n",
       "      <td>001913 DOLORES WAY</td>\n",
       "      <td>CARBONDALE</td>\n",
       "      <td>Condo</td>\n",
       "      <td>CONDO</td>\n",
       "      <td>2007.0</td>\n",
       "      <td>2.0</td>\n",
       "      <td>1.0</td>\n",
       "      <td>864.0</td>\n",
       "      <td>Section: 33 Township: 7 Range: 88 DESC: A RESU...</td>\n",
       "      <td>1</td>\n",
       "    </tr>\n",
       "  </tbody>\n",
       "</table>\n",
       "</div>"
      ],
      "text/plain": [
       "   Account Parcel Number Reception  Sale Date  Sale Price  \\\n",
       "0  R007341  239334430001    852413 2014-08-08      210000   \n",
       "1  R340686  239334350003    871451 2015-12-11      265000   \n",
       "2  R045341  23933430G008    861415 2015-04-14      308500   \n",
       "3  R340803  246303105047    872689 2016-01-20      160000   \n",
       "4  R044451  239333149008    875851 2016-04-08      340000   \n",
       "\n",
       "                 Situs Address    Location Classification Architectural Style  \\\n",
       "0         000133 SOPRIS AVE #A  CARBONDALE          Condo               CONDO   \n",
       "1         213 1/2 N 10TH ST #C  CARBONDALE          Condo               CONDO   \n",
       "2     000345 COLORADO AVE #202  CARBONDALE          Condo               CONDO   \n",
       "3  000086 ROARING FORK AVE #C3  CARBONDALE          Condo               CONDO   \n",
       "4           001913 DOLORES WAY  CARBONDALE          Condo               CONDO   \n",
       "\n",
       "   Year Built  Bedrooms  Baths  Heated Area  \\\n",
       "0      1974.0       1.0    1.0        621.0   \n",
       "1      1980.0       1.0    1.0        732.0   \n",
       "2      2008.0       1.0    1.0        792.0   \n",
       "3      1981.0       1.0    1.0        800.0   \n",
       "4      2007.0       2.0    1.0        864.0   \n",
       "\n",
       "                                               Legal  Count  \n",
       "0  Section: 34 Township: 7 Range: 88 DESC: RESUB ...      1  \n",
       "1  Section: 34 Township: 7 Range: 88 Subdivision:...      1  \n",
       "2  Section: 34 Township: 7 Range: 88 DESC: A RESU...      1  \n",
       "3  Section: 3 Township: 8 Range: 88 DESC: BLDG 4 ...      1  \n",
       "4  Section: 33 Township: 7 Range: 88 DESC: A RESU...      1  "
      ]
     },
     "execution_count": 22,
     "metadata": {},
     "output_type": "execute_result"
    }
   ],
   "source": [
    "# Double check that Sale Date and Sale Price columns look okay\n",
    "combined.head()"
   ]
  },
  {
   "cell_type": "code",
   "execution_count": 23,
   "metadata": {},
   "outputs": [
    {
     "data": {
      "text/html": [
       "<div>\n",
       "<style scoped>\n",
       "    .dataframe tbody tr th:only-of-type {\n",
       "        vertical-align: middle;\n",
       "    }\n",
       "\n",
       "    .dataframe tbody tr th {\n",
       "        vertical-align: top;\n",
       "    }\n",
       "\n",
       "    .dataframe thead th {\n",
       "        text-align: right;\n",
       "    }\n",
       "</style>\n",
       "<table border=\"1\" class=\"dataframe\">\n",
       "  <thead>\n",
       "    <tr style=\"text-align: right;\">\n",
       "      <th></th>\n",
       "      <th>Account</th>\n",
       "      <th>Parcel Number</th>\n",
       "      <th>Reception</th>\n",
       "      <th>Sale Date</th>\n",
       "      <th>Sale Price</th>\n",
       "      <th>Situs Address</th>\n",
       "      <th>Location</th>\n",
       "      <th>Classification</th>\n",
       "      <th>Architectural Style</th>\n",
       "      <th>Year Built</th>\n",
       "      <th>Bedrooms</th>\n",
       "      <th>Baths</th>\n",
       "      <th>Square Feet</th>\n",
       "      <th>Legal</th>\n",
       "      <th>Count</th>\n",
       "    </tr>\n",
       "  </thead>\n",
       "  <tbody>\n",
       "    <tr>\n",
       "      <th>0</th>\n",
       "      <td>R007341</td>\n",
       "      <td>239334430001</td>\n",
       "      <td>852413</td>\n",
       "      <td>2014-08-08</td>\n",
       "      <td>210000</td>\n",
       "      <td>000133 SOPRIS AVE #A</td>\n",
       "      <td>CARBONDALE</td>\n",
       "      <td>Condo</td>\n",
       "      <td>CONDO</td>\n",
       "      <td>1974.0</td>\n",
       "      <td>1.0</td>\n",
       "      <td>1.0</td>\n",
       "      <td>621.0</td>\n",
       "      <td>Section: 34 Township: 7 Range: 88 DESC: RESUB ...</td>\n",
       "      <td>1</td>\n",
       "    </tr>\n",
       "    <tr>\n",
       "      <th>1</th>\n",
       "      <td>R340686</td>\n",
       "      <td>239334350003</td>\n",
       "      <td>871451</td>\n",
       "      <td>2015-12-11</td>\n",
       "      <td>265000</td>\n",
       "      <td>213 1/2 N 10TH ST #C</td>\n",
       "      <td>CARBONDALE</td>\n",
       "      <td>Condo</td>\n",
       "      <td>CONDO</td>\n",
       "      <td>1980.0</td>\n",
       "      <td>1.0</td>\n",
       "      <td>1.0</td>\n",
       "      <td>732.0</td>\n",
       "      <td>Section: 34 Township: 7 Range: 88 Subdivision:...</td>\n",
       "      <td>1</td>\n",
       "    </tr>\n",
       "    <tr>\n",
       "      <th>2</th>\n",
       "      <td>R045341</td>\n",
       "      <td>23933430G008</td>\n",
       "      <td>861415</td>\n",
       "      <td>2015-04-14</td>\n",
       "      <td>308500</td>\n",
       "      <td>000345 COLORADO AVE #202</td>\n",
       "      <td>CARBONDALE</td>\n",
       "      <td>Condo</td>\n",
       "      <td>CONDO</td>\n",
       "      <td>2008.0</td>\n",
       "      <td>1.0</td>\n",
       "      <td>1.0</td>\n",
       "      <td>792.0</td>\n",
       "      <td>Section: 34 Township: 7 Range: 88 DESC: A RESU...</td>\n",
       "      <td>1</td>\n",
       "    </tr>\n",
       "    <tr>\n",
       "      <th>3</th>\n",
       "      <td>R340803</td>\n",
       "      <td>246303105047</td>\n",
       "      <td>872689</td>\n",
       "      <td>2016-01-20</td>\n",
       "      <td>160000</td>\n",
       "      <td>000086 ROARING FORK AVE #C3</td>\n",
       "      <td>CARBONDALE</td>\n",
       "      <td>Condo</td>\n",
       "      <td>CONDO</td>\n",
       "      <td>1981.0</td>\n",
       "      <td>1.0</td>\n",
       "      <td>1.0</td>\n",
       "      <td>800.0</td>\n",
       "      <td>Section: 3 Township: 8 Range: 88 DESC: BLDG 4 ...</td>\n",
       "      <td>1</td>\n",
       "    </tr>\n",
       "    <tr>\n",
       "      <th>4</th>\n",
       "      <td>R044451</td>\n",
       "      <td>239333149008</td>\n",
       "      <td>875851</td>\n",
       "      <td>2016-04-08</td>\n",
       "      <td>340000</td>\n",
       "      <td>001913 DOLORES WAY</td>\n",
       "      <td>CARBONDALE</td>\n",
       "      <td>Condo</td>\n",
       "      <td>CONDO</td>\n",
       "      <td>2007.0</td>\n",
       "      <td>2.0</td>\n",
       "      <td>1.0</td>\n",
       "      <td>864.0</td>\n",
       "      <td>Section: 33 Township: 7 Range: 88 DESC: A RESU...</td>\n",
       "      <td>1</td>\n",
       "    </tr>\n",
       "  </tbody>\n",
       "</table>\n",
       "</div>"
      ],
      "text/plain": [
       "   Account Parcel Number Reception  Sale Date  Sale Price  \\\n",
       "0  R007341  239334430001    852413 2014-08-08      210000   \n",
       "1  R340686  239334350003    871451 2015-12-11      265000   \n",
       "2  R045341  23933430G008    861415 2015-04-14      308500   \n",
       "3  R340803  246303105047    872689 2016-01-20      160000   \n",
       "4  R044451  239333149008    875851 2016-04-08      340000   \n",
       "\n",
       "                 Situs Address    Location Classification Architectural Style  \\\n",
       "0         000133 SOPRIS AVE #A  CARBONDALE          Condo               CONDO   \n",
       "1         213 1/2 N 10TH ST #C  CARBONDALE          Condo               CONDO   \n",
       "2     000345 COLORADO AVE #202  CARBONDALE          Condo               CONDO   \n",
       "3  000086 ROARING FORK AVE #C3  CARBONDALE          Condo               CONDO   \n",
       "4           001913 DOLORES WAY  CARBONDALE          Condo               CONDO   \n",
       "\n",
       "   Year Built  Bedrooms  Baths  Square Feet  \\\n",
       "0      1974.0       1.0    1.0        621.0   \n",
       "1      1980.0       1.0    1.0        732.0   \n",
       "2      2008.0       1.0    1.0        792.0   \n",
       "3      1981.0       1.0    1.0        800.0   \n",
       "4      2007.0       2.0    1.0        864.0   \n",
       "\n",
       "                                               Legal  Count  \n",
       "0  Section: 34 Township: 7 Range: 88 DESC: RESUB ...      1  \n",
       "1  Section: 34 Township: 7 Range: 88 Subdivision:...      1  \n",
       "2  Section: 34 Township: 7 Range: 88 DESC: A RESU...      1  \n",
       "3  Section: 3 Township: 8 Range: 88 DESC: BLDG 4 ...      1  \n",
       "4  Section: 33 Township: 7 Range: 88 DESC: A RESU...      1  "
      ]
     },
     "execution_count": 23,
     "metadata": {},
     "output_type": "execute_result"
    }
   ],
   "source": [
    "# Rename \"Heated Area\" column to \"Square Feet\" to be more intuitive (although not entirely accurate)\n",
    "combined = combined.rename(columns={\"Heated Area\": \"Square Feet\"})\n",
    "combined.head()"
   ]
  },
  {
   "cell_type": "code",
   "execution_count": 24,
   "metadata": {},
   "outputs": [
    {
     "data": {
      "text/html": [
       "<div>\n",
       "<style scoped>\n",
       "    .dataframe tbody tr th:only-of-type {\n",
       "        vertical-align: middle;\n",
       "    }\n",
       "\n",
       "    .dataframe tbody tr th {\n",
       "        vertical-align: top;\n",
       "    }\n",
       "\n",
       "    .dataframe thead th {\n",
       "        text-align: right;\n",
       "    }\n",
       "</style>\n",
       "<table border=\"1\" class=\"dataframe\">\n",
       "  <thead>\n",
       "    <tr style=\"text-align: right;\">\n",
       "      <th></th>\n",
       "      <th>Account</th>\n",
       "      <th>Parcel Number</th>\n",
       "      <th>Reception</th>\n",
       "      <th>Sale Date</th>\n",
       "      <th>Sale Price</th>\n",
       "      <th>Situs Address</th>\n",
       "      <th>Location</th>\n",
       "      <th>Classification</th>\n",
       "      <th>Architectural Style</th>\n",
       "      <th>Year Built</th>\n",
       "      <th>Bedrooms</th>\n",
       "      <th>Baths</th>\n",
       "      <th>Square Feet</th>\n",
       "      <th>Legal</th>\n",
       "      <th>Count</th>\n",
       "      <th>Price per SF</th>\n",
       "    </tr>\n",
       "  </thead>\n",
       "  <tbody>\n",
       "    <tr>\n",
       "      <th>0</th>\n",
       "      <td>R007341</td>\n",
       "      <td>239334430001</td>\n",
       "      <td>852413</td>\n",
       "      <td>2014-08-08</td>\n",
       "      <td>210000</td>\n",
       "      <td>000133 SOPRIS AVE #A</td>\n",
       "      <td>CARBONDALE</td>\n",
       "      <td>Condo</td>\n",
       "      <td>CONDO</td>\n",
       "      <td>1974.0</td>\n",
       "      <td>1.0</td>\n",
       "      <td>1.0</td>\n",
       "      <td>621.0</td>\n",
       "      <td>Section: 34 Township: 7 Range: 88 DESC: RESUB ...</td>\n",
       "      <td>1</td>\n",
       "      <td>338.164251</td>\n",
       "    </tr>\n",
       "    <tr>\n",
       "      <th>1</th>\n",
       "      <td>R340686</td>\n",
       "      <td>239334350003</td>\n",
       "      <td>871451</td>\n",
       "      <td>2015-12-11</td>\n",
       "      <td>265000</td>\n",
       "      <td>213 1/2 N 10TH ST #C</td>\n",
       "      <td>CARBONDALE</td>\n",
       "      <td>Condo</td>\n",
       "      <td>CONDO</td>\n",
       "      <td>1980.0</td>\n",
       "      <td>1.0</td>\n",
       "      <td>1.0</td>\n",
       "      <td>732.0</td>\n",
       "      <td>Section: 34 Township: 7 Range: 88 Subdivision:...</td>\n",
       "      <td>1</td>\n",
       "      <td>362.021858</td>\n",
       "    </tr>\n",
       "    <tr>\n",
       "      <th>2</th>\n",
       "      <td>R045341</td>\n",
       "      <td>23933430G008</td>\n",
       "      <td>861415</td>\n",
       "      <td>2015-04-14</td>\n",
       "      <td>308500</td>\n",
       "      <td>000345 COLORADO AVE #202</td>\n",
       "      <td>CARBONDALE</td>\n",
       "      <td>Condo</td>\n",
       "      <td>CONDO</td>\n",
       "      <td>2008.0</td>\n",
       "      <td>1.0</td>\n",
       "      <td>1.0</td>\n",
       "      <td>792.0</td>\n",
       "      <td>Section: 34 Township: 7 Range: 88 DESC: A RESU...</td>\n",
       "      <td>1</td>\n",
       "      <td>389.520202</td>\n",
       "    </tr>\n",
       "    <tr>\n",
       "      <th>3</th>\n",
       "      <td>R340803</td>\n",
       "      <td>246303105047</td>\n",
       "      <td>872689</td>\n",
       "      <td>2016-01-20</td>\n",
       "      <td>160000</td>\n",
       "      <td>000086 ROARING FORK AVE #C3</td>\n",
       "      <td>CARBONDALE</td>\n",
       "      <td>Condo</td>\n",
       "      <td>CONDO</td>\n",
       "      <td>1981.0</td>\n",
       "      <td>1.0</td>\n",
       "      <td>1.0</td>\n",
       "      <td>800.0</td>\n",
       "      <td>Section: 3 Township: 8 Range: 88 DESC: BLDG 4 ...</td>\n",
       "      <td>1</td>\n",
       "      <td>200.000000</td>\n",
       "    </tr>\n",
       "    <tr>\n",
       "      <th>4</th>\n",
       "      <td>R044451</td>\n",
       "      <td>239333149008</td>\n",
       "      <td>875851</td>\n",
       "      <td>2016-04-08</td>\n",
       "      <td>340000</td>\n",
       "      <td>001913 DOLORES WAY</td>\n",
       "      <td>CARBONDALE</td>\n",
       "      <td>Condo</td>\n",
       "      <td>CONDO</td>\n",
       "      <td>2007.0</td>\n",
       "      <td>2.0</td>\n",
       "      <td>1.0</td>\n",
       "      <td>864.0</td>\n",
       "      <td>Section: 33 Township: 7 Range: 88 DESC: A RESU...</td>\n",
       "      <td>1</td>\n",
       "      <td>393.518519</td>\n",
       "    </tr>\n",
       "  </tbody>\n",
       "</table>\n",
       "</div>"
      ],
      "text/plain": [
       "   Account Parcel Number Reception  Sale Date  Sale Price  \\\n",
       "0  R007341  239334430001    852413 2014-08-08      210000   \n",
       "1  R340686  239334350003    871451 2015-12-11      265000   \n",
       "2  R045341  23933430G008    861415 2015-04-14      308500   \n",
       "3  R340803  246303105047    872689 2016-01-20      160000   \n",
       "4  R044451  239333149008    875851 2016-04-08      340000   \n",
       "\n",
       "                 Situs Address    Location Classification Architectural Style  \\\n",
       "0         000133 SOPRIS AVE #A  CARBONDALE          Condo               CONDO   \n",
       "1         213 1/2 N 10TH ST #C  CARBONDALE          Condo               CONDO   \n",
       "2     000345 COLORADO AVE #202  CARBONDALE          Condo               CONDO   \n",
       "3  000086 ROARING FORK AVE #C3  CARBONDALE          Condo               CONDO   \n",
       "4           001913 DOLORES WAY  CARBONDALE          Condo               CONDO   \n",
       "\n",
       "   Year Built  Bedrooms  Baths  Square Feet  \\\n",
       "0      1974.0       1.0    1.0        621.0   \n",
       "1      1980.0       1.0    1.0        732.0   \n",
       "2      2008.0       1.0    1.0        792.0   \n",
       "3      1981.0       1.0    1.0        800.0   \n",
       "4      2007.0       2.0    1.0        864.0   \n",
       "\n",
       "                                               Legal  Count  Price per SF  \n",
       "0  Section: 34 Township: 7 Range: 88 DESC: RESUB ...      1    338.164251  \n",
       "1  Section: 34 Township: 7 Range: 88 Subdivision:...      1    362.021858  \n",
       "2  Section: 34 Township: 7 Range: 88 DESC: A RESU...      1    389.520202  \n",
       "3  Section: 3 Township: 8 Range: 88 DESC: BLDG 4 ...      1    200.000000  \n",
       "4  Section: 33 Township: 7 Range: 88 DESC: A RESU...      1    393.518519  "
      ]
     },
     "execution_count": 24,
     "metadata": {},
     "output_type": "execute_result"
    }
   ],
   "source": [
    "# Add a price per square foot column\n",
    "combined.loc[:,\"Price per SF\"] = combined.loc[:,\"Sale Price\"] / combined.loc[:,\"Square Feet\"]\n",
    "combined.head()"
   ]
  },
  {
   "cell_type": "code",
   "execution_count": 25,
   "metadata": {},
   "outputs": [
    {
     "data": {
      "text/plain": [
       "count    1.975000e+03\n",
       "mean     3.779507e+05\n",
       "std      3.282798e+05\n",
       "min      2.500000e+03\n",
       "25%      1.992500e+05\n",
       "50%      2.950000e+05\n",
       "75%      4.380000e+05\n",
       "max      2.800000e+06\n",
       "Name: Sale Price, dtype: float64"
      ]
     },
     "execution_count": 25,
     "metadata": {},
     "output_type": "execute_result"
    }
   ],
   "source": [
    "# Check summary statistics for Sale Price column\n",
    "combined[\"Sale Price\"].describe()"
   ]
  },
  {
   "cell_type": "markdown",
   "metadata": {},
   "source": [
    "Total count matches the number of rows in the dataframe. Min and max values seem reasonable at $25k$, and 2.8 M, respectively. Median price of $295k, for this dataset which combines townhomes/condos and single family homes."
   ]
  },
  {
   "cell_type": "code",
   "execution_count": 26,
   "metadata": {},
   "outputs": [
    {
     "data": {
      "text/plain": [
       "count    1966.000000\n",
       "mean     1991.415565\n",
       "std        22.380215\n",
       "min      1883.000000\n",
       "25%      1981.000000\n",
       "50%      1999.000000\n",
       "75%      2006.000000\n",
       "max      2016.000000\n",
       "Name: Year Built, dtype: float64"
      ]
     },
     "execution_count": 26,
     "metadata": {},
     "output_type": "execute_result"
    }
   ],
   "source": [
    "# Check summary statistics for Year Built column\n",
    "combined[\"Year Built\"].describe()"
   ]
  },
  {
   "cell_type": "markdown",
   "metadata": {},
   "source": [
    "Total count is slightly lower at 1966 of 1975. Year Built ranges from 1883 to 2016."
   ]
  },
  {
   "cell_type": "code",
   "execution_count": 27,
   "metadata": {},
   "outputs": [
    {
     "data": {
      "text/plain": [
       "count         1975\n",
       "unique           6\n",
       "top       GLENWOOD\n",
       "freq           441\n",
       "Name: Location, dtype: object"
      ]
     },
     "execution_count": 27,
     "metadata": {},
     "output_type": "execute_result"
    }
   ],
   "source": [
    "# Check summary statistics for Location column\n",
    "combined[\"Location\"].describe()"
   ]
  },
  {
   "cell_type": "markdown",
   "metadata": {},
   "source": [
    "Count matches total rows in dataframe. Not surprisingly, Glenwood Springs which is the largest city in Garfield County has the highest number of recorded sales."
   ]
  },
  {
   "cell_type": "code",
   "execution_count": 28,
   "metadata": {},
   "outputs": [
    {
     "data": {
      "text/plain": [
       "count          1966\n",
       "unique           22\n",
       "top       TWO STORY\n",
       "freq            592\n",
       "Name: Architectural Style, dtype: object"
      ]
     },
     "execution_count": 28,
     "metadata": {},
     "output_type": "execute_result"
    }
   ],
   "source": [
    "# Check summary statistics for Architectural Style column\n",
    "combined[\"Architectural Style\"].describe()"
   ]
  },
  {
   "cell_type": "markdown",
   "metadata": {},
   "source": [
    "Similar to the Year Built column, 9 entries appear to have no value. "
   ]
  },
  {
   "cell_type": "code",
   "execution_count": 29,
   "metadata": {},
   "outputs": [
    {
     "data": {
      "text/plain": [
       "count    1966.000000\n",
       "mean        3.033062\n",
       "std         0.868695\n",
       "min         0.000000\n",
       "25%         3.000000\n",
       "50%         3.000000\n",
       "75%         3.000000\n",
       "max         7.000000\n",
       "Name: Bedrooms, dtype: float64"
      ]
     },
     "execution_count": 29,
     "metadata": {},
     "output_type": "execute_result"
    }
   ],
   "source": [
    "# Check summary statistics for Bedrooms column\n",
    "combined[\"Bedrooms\"].describe()"
   ]
  },
  {
   "cell_type": "markdown",
   "metadata": {},
   "source": [
    "Again, it looks like there are 9 rows with missing values. The middle fifty percent (the interquartile range) is 3 bedrooms, meaning at least 50% sales have 3 bedrooms."
   ]
  },
  {
   "cell_type": "code",
   "execution_count": 30,
   "metadata": {},
   "outputs": [
    {
     "data": {
      "text/plain": [
       "count    1966.000000\n",
       "mean        2.294939\n",
       "std         0.777044\n",
       "min         0.000000\n",
       "25%         2.000000\n",
       "50%         2.000000\n",
       "75%         2.500000\n",
       "max         6.250000\n",
       "Name: Baths, dtype: float64"
      ]
     },
     "execution_count": 30,
     "metadata": {},
     "output_type": "execute_result"
    }
   ],
   "source": [
    "# Check summary statistics for Baths column\n",
    "combined[\"Baths\"].describe()"
   ]
  },
  {
   "cell_type": "markdown",
   "metadata": {},
   "source": [
    "Again we are seeing 9 missing values. At least fifty percent of homes have 2 - 2.5 baths. "
   ]
  },
  {
   "cell_type": "code",
   "execution_count": 31,
   "metadata": {},
   "outputs": [
    {
     "data": {
      "text/plain": [
       "count    1966.000000\n",
       "mean     1896.949288\n",
       "std       902.107233\n",
       "min         0.000000\n",
       "25%      1342.500000\n",
       "50%      1654.000000\n",
       "75%      2259.750000\n",
       "max      6864.000000\n",
       "Name: Square Feet, dtype: float64"
      ]
     },
     "execution_count": 31,
     "metadata": {},
     "output_type": "execute_result"
    }
   ],
   "source": [
    "# Check summary statistics for Square Feet column\n",
    "combined[\"Square Feet\"].describe()"
   ]
  },
  {
   "cell_type": "markdown",
   "metadata": {},
   "source": [
    "The minimum size of zero square feet indicates that there are some entries that could be vacant land, or did not have square footage data available."
   ]
  },
  {
   "cell_type": "code",
   "execution_count": 32,
   "metadata": {},
   "outputs": [
    {
     "data": {
      "text/html": [
       "<div>\n",
       "<style scoped>\n",
       "    .dataframe tbody tr th:only-of-type {\n",
       "        vertical-align: middle;\n",
       "    }\n",
       "\n",
       "    .dataframe tbody tr th {\n",
       "        vertical-align: top;\n",
       "    }\n",
       "\n",
       "    .dataframe thead th {\n",
       "        text-align: right;\n",
       "    }\n",
       "</style>\n",
       "<table border=\"1\" class=\"dataframe\">\n",
       "  <thead>\n",
       "    <tr style=\"text-align: right;\">\n",
       "      <th></th>\n",
       "      <th>Sale Date</th>\n",
       "      <th>Sale Price</th>\n",
       "      <th>Year Built</th>\n",
       "      <th>Bedrooms</th>\n",
       "      <th>Baths</th>\n",
       "      <th>Square Feet</th>\n",
       "      <th>Count</th>\n",
       "      <th>Price per SF</th>\n",
       "    </tr>\n",
       "  </thead>\n",
       "  <tbody>\n",
       "    <tr>\n",
       "      <th>count</th>\n",
       "      <td>1975</td>\n",
       "      <td>1.975000e+03</td>\n",
       "      <td>1966.000000</td>\n",
       "      <td>1966.000000</td>\n",
       "      <td>1966.000000</td>\n",
       "      <td>1966.000000</td>\n",
       "      <td>1975.0</td>\n",
       "      <td>1966.000000</td>\n",
       "    </tr>\n",
       "    <tr>\n",
       "      <th>unique</th>\n",
       "      <td>484</td>\n",
       "      <td>NaN</td>\n",
       "      <td>NaN</td>\n",
       "      <td>NaN</td>\n",
       "      <td>NaN</td>\n",
       "      <td>NaN</td>\n",
       "      <td>NaN</td>\n",
       "      <td>NaN</td>\n",
       "    </tr>\n",
       "    <tr>\n",
       "      <th>top</th>\n",
       "      <td>2015-01-30 00:00:00</td>\n",
       "      <td>NaN</td>\n",
       "      <td>NaN</td>\n",
       "      <td>NaN</td>\n",
       "      <td>NaN</td>\n",
       "      <td>NaN</td>\n",
       "      <td>NaN</td>\n",
       "      <td>NaN</td>\n",
       "    </tr>\n",
       "    <tr>\n",
       "      <th>freq</th>\n",
       "      <td>29</td>\n",
       "      <td>NaN</td>\n",
       "      <td>NaN</td>\n",
       "      <td>NaN</td>\n",
       "      <td>NaN</td>\n",
       "      <td>NaN</td>\n",
       "      <td>NaN</td>\n",
       "      <td>NaN</td>\n",
       "    </tr>\n",
       "    <tr>\n",
       "      <th>first</th>\n",
       "      <td>2014-07-01 00:00:00</td>\n",
       "      <td>NaN</td>\n",
       "      <td>NaN</td>\n",
       "      <td>NaN</td>\n",
       "      <td>NaN</td>\n",
       "      <td>NaN</td>\n",
       "      <td>NaN</td>\n",
       "      <td>NaN</td>\n",
       "    </tr>\n",
       "    <tr>\n",
       "      <th>last</th>\n",
       "      <td>2016-06-30 00:00:00</td>\n",
       "      <td>NaN</td>\n",
       "      <td>NaN</td>\n",
       "      <td>NaN</td>\n",
       "      <td>NaN</td>\n",
       "      <td>NaN</td>\n",
       "      <td>NaN</td>\n",
       "      <td>NaN</td>\n",
       "    </tr>\n",
       "    <tr>\n",
       "      <th>mean</th>\n",
       "      <td>NaN</td>\n",
       "      <td>3.779507e+05</td>\n",
       "      <td>1991.415565</td>\n",
       "      <td>3.033062</td>\n",
       "      <td>2.294939</td>\n",
       "      <td>1896.949288</td>\n",
       "      <td>1.0</td>\n",
       "      <td>inf</td>\n",
       "    </tr>\n",
       "    <tr>\n",
       "      <th>std</th>\n",
       "      <td>NaN</td>\n",
       "      <td>3.282798e+05</td>\n",
       "      <td>22.380215</td>\n",
       "      <td>0.868695</td>\n",
       "      <td>0.777044</td>\n",
       "      <td>902.107233</td>\n",
       "      <td>0.0</td>\n",
       "      <td>NaN</td>\n",
       "    </tr>\n",
       "    <tr>\n",
       "      <th>min</th>\n",
       "      <td>NaN</td>\n",
       "      <td>2.500000e+03</td>\n",
       "      <td>1883.000000</td>\n",
       "      <td>0.000000</td>\n",
       "      <td>0.000000</td>\n",
       "      <td>0.000000</td>\n",
       "      <td>1.0</td>\n",
       "      <td>12.009608</td>\n",
       "    </tr>\n",
       "    <tr>\n",
       "      <th>25%</th>\n",
       "      <td>NaN</td>\n",
       "      <td>1.992500e+05</td>\n",
       "      <td>1981.000000</td>\n",
       "      <td>3.000000</td>\n",
       "      <td>2.000000</td>\n",
       "      <td>1342.500000</td>\n",
       "      <td>1.0</td>\n",
       "      <td>129.689586</td>\n",
       "    </tr>\n",
       "    <tr>\n",
       "      <th>50%</th>\n",
       "      <td>NaN</td>\n",
       "      <td>2.950000e+05</td>\n",
       "      <td>1999.000000</td>\n",
       "      <td>3.000000</td>\n",
       "      <td>2.000000</td>\n",
       "      <td>1654.000000</td>\n",
       "      <td>1.0</td>\n",
       "      <td>171.520592</td>\n",
       "    </tr>\n",
       "    <tr>\n",
       "      <th>75%</th>\n",
       "      <td>NaN</td>\n",
       "      <td>4.380000e+05</td>\n",
       "      <td>2006.000000</td>\n",
       "      <td>3.000000</td>\n",
       "      <td>2.500000</td>\n",
       "      <td>2259.750000</td>\n",
       "      <td>1.0</td>\n",
       "      <td>225.601483</td>\n",
       "    </tr>\n",
       "    <tr>\n",
       "      <th>max</th>\n",
       "      <td>NaN</td>\n",
       "      <td>2.800000e+06</td>\n",
       "      <td>2016.000000</td>\n",
       "      <td>7.000000</td>\n",
       "      <td>6.250000</td>\n",
       "      <td>6864.000000</td>\n",
       "      <td>1.0</td>\n",
       "      <td>inf</td>\n",
       "    </tr>\n",
       "  </tbody>\n",
       "</table>\n",
       "</div>"
      ],
      "text/plain": [
       "                  Sale Date    Sale Price   Year Built     Bedrooms  \\\n",
       "count                  1975  1.975000e+03  1966.000000  1966.000000   \n",
       "unique                  484           NaN          NaN          NaN   \n",
       "top     2015-01-30 00:00:00           NaN          NaN          NaN   \n",
       "freq                     29           NaN          NaN          NaN   \n",
       "first   2014-07-01 00:00:00           NaN          NaN          NaN   \n",
       "last    2016-06-30 00:00:00           NaN          NaN          NaN   \n",
       "mean                    NaN  3.779507e+05  1991.415565     3.033062   \n",
       "std                     NaN  3.282798e+05    22.380215     0.868695   \n",
       "min                     NaN  2.500000e+03  1883.000000     0.000000   \n",
       "25%                     NaN  1.992500e+05  1981.000000     3.000000   \n",
       "50%                     NaN  2.950000e+05  1999.000000     3.000000   \n",
       "75%                     NaN  4.380000e+05  2006.000000     3.000000   \n",
       "max                     NaN  2.800000e+06  2016.000000     7.000000   \n",
       "\n",
       "              Baths  Square Feet   Count  Price per SF  \n",
       "count   1966.000000  1966.000000  1975.0   1966.000000  \n",
       "unique          NaN          NaN     NaN           NaN  \n",
       "top             NaN          NaN     NaN           NaN  \n",
       "freq            NaN          NaN     NaN           NaN  \n",
       "first           NaN          NaN     NaN           NaN  \n",
       "last            NaN          NaN     NaN           NaN  \n",
       "mean       2.294939  1896.949288     1.0           inf  \n",
       "std        0.777044   902.107233     0.0           NaN  \n",
       "min        0.000000     0.000000     1.0     12.009608  \n",
       "25%        2.000000  1342.500000     1.0    129.689586  \n",
       "50%        2.000000  1654.000000     1.0    171.520592  \n",
       "75%        2.500000  2259.750000     1.0    225.601483  \n",
       "max        6.250000  6864.000000     1.0           inf  "
      ]
     },
     "execution_count": 32,
     "metadata": {},
     "output_type": "execute_result"
    }
   ],
   "source": [
    "# All of the numeric columns summarized together (specified \"np.datetime64\" to get the date column)\n",
    "combined.describe(include=[np.number, np.datetime64])"
   ]
  },
  {
   "cell_type": "markdown",
   "metadata": {},
   "source": [
    "Observations from the summary statistics above:\n",
    "* This database contains sales beginning 2014-07-01 through 2016-06-30\n",
    "* Median sales price for all sales is 295,000, the mean is around 378,000\n",
    "* Year built spans 1883 to 2016, with the median year built of 1999\n",
    "* Need to investigate the minimum values of zero for Bedrooms, Baths and Square Feet columns\n"
   ]
  },
  {
   "cell_type": "code",
   "execution_count": 33,
   "metadata": {},
   "outputs": [
    {
     "data": {
      "text/html": [
       "<div>\n",
       "<style scoped>\n",
       "    .dataframe tbody tr th:only-of-type {\n",
       "        vertical-align: middle;\n",
       "    }\n",
       "\n",
       "    .dataframe tbody tr th {\n",
       "        vertical-align: top;\n",
       "    }\n",
       "\n",
       "    .dataframe thead th {\n",
       "        text-align: right;\n",
       "    }\n",
       "</style>\n",
       "<table border=\"1\" class=\"dataframe\">\n",
       "  <thead>\n",
       "    <tr style=\"text-align: right;\">\n",
       "      <th></th>\n",
       "      <th>Account</th>\n",
       "      <th>Parcel Number</th>\n",
       "      <th>Reception</th>\n",
       "      <th>Situs Address</th>\n",
       "      <th>Location</th>\n",
       "      <th>Classification</th>\n",
       "      <th>Architectural Style</th>\n",
       "      <th>Legal</th>\n",
       "    </tr>\n",
       "  </thead>\n",
       "  <tbody>\n",
       "    <tr>\n",
       "      <th>count</th>\n",
       "      <td>1975</td>\n",
       "      <td>1975</td>\n",
       "      <td>1975</td>\n",
       "      <td>1963</td>\n",
       "      <td>1975</td>\n",
       "      <td>1975</td>\n",
       "      <td>1966</td>\n",
       "      <td>1975</td>\n",
       "    </tr>\n",
       "    <tr>\n",
       "      <th>unique</th>\n",
       "      <td>1793</td>\n",
       "      <td>1793</td>\n",
       "      <td>1910</td>\n",
       "      <td>1781</td>\n",
       "      <td>6</td>\n",
       "      <td>4</td>\n",
       "      <td>22</td>\n",
       "      <td>1789</td>\n",
       "    </tr>\n",
       "    <tr>\n",
       "      <th>top</th>\n",
       "      <td>R360180</td>\n",
       "      <td>212725400053</td>\n",
       "      <td>858946</td>\n",
       "      <td>000588 250 COUNTY RD</td>\n",
       "      <td>GLENWOOD</td>\n",
       "      <td>Single Family</td>\n",
       "      <td>TWO STORY</td>\n",
       "      <td>Section: 25 Township: 5 Range: 92 TR IN SWSE C...</td>\n",
       "    </tr>\n",
       "    <tr>\n",
       "      <th>freq</th>\n",
       "      <td>4</td>\n",
       "      <td>4</td>\n",
       "      <td>23</td>\n",
       "      <td>4</td>\n",
       "      <td>441</td>\n",
       "      <td>1369</td>\n",
       "      <td>592</td>\n",
       "      <td>4</td>\n",
       "    </tr>\n",
       "  </tbody>\n",
       "</table>\n",
       "</div>"
      ],
      "text/plain": [
       "        Account Parcel Number  Reception         Situs Address  Location  \\\n",
       "count      1975          1975       1975                  1963      1975   \n",
       "unique     1793          1793       1910                  1781         6   \n",
       "top     R360180  212725400053     858946  000588 250 COUNTY RD  GLENWOOD   \n",
       "freq          4             4         23                     4       441   \n",
       "\n",
       "       Classification Architectural Style  \\\n",
       "count            1975                1966   \n",
       "unique              4                  22   \n",
       "top     Single Family           TWO STORY   \n",
       "freq             1369                 592   \n",
       "\n",
       "                                                    Legal  \n",
       "count                                                1975  \n",
       "unique                                               1789  \n",
       "top     Section: 25 Township: 5 Range: 92 TR IN SWSE C...  \n",
       "freq                                                    4  "
      ]
     },
     "execution_count": 33,
     "metadata": {},
     "output_type": "execute_result"
    }
   ],
   "source": [
    "# And here's the summary stats for all columns\n",
    "combined.describe(include=[np.object])"
   ]
  },
  {
   "cell_type": "code",
   "execution_count": 34,
   "metadata": {},
   "outputs": [
    {
     "data": {
      "text/html": [
       "<div>\n",
       "<style scoped>\n",
       "    .dataframe tbody tr th:only-of-type {\n",
       "        vertical-align: middle;\n",
       "    }\n",
       "\n",
       "    .dataframe tbody tr th {\n",
       "        vertical-align: top;\n",
       "    }\n",
       "\n",
       "    .dataframe thead th {\n",
       "        text-align: right;\n",
       "    }\n",
       "</style>\n",
       "<table border=\"1\" class=\"dataframe\">\n",
       "  <thead>\n",
       "    <tr style=\"text-align: right;\">\n",
       "      <th></th>\n",
       "      <th>Account</th>\n",
       "      <th>Parcel Number</th>\n",
       "      <th>Reception</th>\n",
       "      <th>Sale Date</th>\n",
       "      <th>Sale Price</th>\n",
       "      <th>Situs Address</th>\n",
       "      <th>Location</th>\n",
       "      <th>Classification</th>\n",
       "      <th>Architectural Style</th>\n",
       "      <th>Year Built</th>\n",
       "      <th>Bedrooms</th>\n",
       "      <th>Baths</th>\n",
       "      <th>Square Feet</th>\n",
       "      <th>Legal</th>\n",
       "      <th>Count</th>\n",
       "      <th>Price per SF</th>\n",
       "    </tr>\n",
       "  </thead>\n",
       "  <tbody>\n",
       "    <tr>\n",
       "      <th>421</th>\n",
       "      <td>R045151</td>\n",
       "      <td>218101228002</td>\n",
       "      <td>858630</td>\n",
       "      <td>2015-01-16</td>\n",
       "      <td>2500</td>\n",
       "      <td>NaN</td>\n",
       "      <td>NEW CASTLE</td>\n",
       "      <td>Garage Only</td>\n",
       "      <td>NaN</td>\n",
       "      <td>NaN</td>\n",
       "      <td>NaN</td>\n",
       "      <td>NaN</td>\n",
       "      <td>NaN</td>\n",
       "      <td>DESC: A RESUB OF A PORTION OF LOT 2A RIVER PAR...</td>\n",
       "      <td>1</td>\n",
       "      <td>NaN</td>\n",
       "    </tr>\n",
       "    <tr>\n",
       "      <th>422</th>\n",
       "      <td>R045153</td>\n",
       "      <td>218101228004</td>\n",
       "      <td>857083</td>\n",
       "      <td>2014-12-11</td>\n",
       "      <td>5000</td>\n",
       "      <td>NaN</td>\n",
       "      <td>NEW CASTLE</td>\n",
       "      <td>Garage Only</td>\n",
       "      <td>NaN</td>\n",
       "      <td>NaN</td>\n",
       "      <td>NaN</td>\n",
       "      <td>NaN</td>\n",
       "      <td>NaN</td>\n",
       "      <td>DESC: A RESUB OF A PORTION OF LOT 2A RIVER PAR...</td>\n",
       "      <td>1</td>\n",
       "      <td>NaN</td>\n",
       "    </tr>\n",
       "    <tr>\n",
       "      <th>423</th>\n",
       "      <td>R045154</td>\n",
       "      <td>218101228005</td>\n",
       "      <td>867928</td>\n",
       "      <td>2015-08-31</td>\n",
       "      <td>6000</td>\n",
       "      <td>NaN</td>\n",
       "      <td>NEW CASTLE</td>\n",
       "      <td>Garage Only</td>\n",
       "      <td>NaN</td>\n",
       "      <td>NaN</td>\n",
       "      <td>NaN</td>\n",
       "      <td>NaN</td>\n",
       "      <td>NaN</td>\n",
       "      <td>DESC: A RESUB OF A PORTION OF LOT 2A RIVER PAR...</td>\n",
       "      <td>1</td>\n",
       "      <td>NaN</td>\n",
       "    </tr>\n",
       "    <tr>\n",
       "      <th>424</th>\n",
       "      <td>R045156</td>\n",
       "      <td>218101228007</td>\n",
       "      <td>857084</td>\n",
       "      <td>2014-12-11</td>\n",
       "      <td>5000</td>\n",
       "      <td>NaN</td>\n",
       "      <td>NEW CASTLE</td>\n",
       "      <td>Garage Only</td>\n",
       "      <td>NaN</td>\n",
       "      <td>NaN</td>\n",
       "      <td>NaN</td>\n",
       "      <td>NaN</td>\n",
       "      <td>NaN</td>\n",
       "      <td>DESC: A RESUB OF A PORTION OF LOT 2A RIVER PAR...</td>\n",
       "      <td>1</td>\n",
       "      <td>NaN</td>\n",
       "    </tr>\n",
       "    <tr>\n",
       "      <th>425</th>\n",
       "      <td>R045157</td>\n",
       "      <td>218101228008</td>\n",
       "      <td>877470</td>\n",
       "      <td>2016-05-20</td>\n",
       "      <td>216000</td>\n",
       "      <td>NaN</td>\n",
       "      <td>NEW CASTLE</td>\n",
       "      <td>Garage Only</td>\n",
       "      <td>NaN</td>\n",
       "      <td>NaN</td>\n",
       "      <td>NaN</td>\n",
       "      <td>NaN</td>\n",
       "      <td>NaN</td>\n",
       "      <td>DESC: A RESUB OF A PORTION OF LOT 2A RIVER PAR...</td>\n",
       "      <td>1</td>\n",
       "      <td>NaN</td>\n",
       "    </tr>\n",
       "    <tr>\n",
       "      <th>426</th>\n",
       "      <td>R045178</td>\n",
       "      <td>218101229004</td>\n",
       "      <td>857085</td>\n",
       "      <td>2014-12-11</td>\n",
       "      <td>5000</td>\n",
       "      <td>#2D</td>\n",
       "      <td>NEW CASTLE</td>\n",
       "      <td>Garage Only</td>\n",
       "      <td>NaN</td>\n",
       "      <td>NaN</td>\n",
       "      <td>NaN</td>\n",
       "      <td>NaN</td>\n",
       "      <td>NaN</td>\n",
       "      <td>DESC: A RESUB OF A PORTION OF LOT 2B RIVER PAR...</td>\n",
       "      <td>1</td>\n",
       "      <td>NaN</td>\n",
       "    </tr>\n",
       "    <tr>\n",
       "      <th>427</th>\n",
       "      <td>R045180</td>\n",
       "      <td>218101229006</td>\n",
       "      <td>857086</td>\n",
       "      <td>2014-12-11</td>\n",
       "      <td>5000</td>\n",
       "      <td>#2F</td>\n",
       "      <td>NEW CASTLE</td>\n",
       "      <td>Garage Only</td>\n",
       "      <td>NaN</td>\n",
       "      <td>NaN</td>\n",
       "      <td>NaN</td>\n",
       "      <td>NaN</td>\n",
       "      <td>NaN</td>\n",
       "      <td>DESC: A RESUB OF A PORTION OF LOT 2B RIVER PAR...</td>\n",
       "      <td>1</td>\n",
       "      <td>NaN</td>\n",
       "    </tr>\n",
       "    <tr>\n",
       "      <th>428</th>\n",
       "      <td>R045184</td>\n",
       "      <td>218101229010</td>\n",
       "      <td>857087</td>\n",
       "      <td>2014-12-11</td>\n",
       "      <td>5000</td>\n",
       "      <td>#2K</td>\n",
       "      <td>NEW CASTLE</td>\n",
       "      <td>Garage Only</td>\n",
       "      <td>NaN</td>\n",
       "      <td>NaN</td>\n",
       "      <td>NaN</td>\n",
       "      <td>NaN</td>\n",
       "      <td>NaN</td>\n",
       "      <td>DESC: A RESUB OF A PORTION OF LOT 2B RIVER PAR...</td>\n",
       "      <td>1</td>\n",
       "      <td>NaN</td>\n",
       "    </tr>\n",
       "    <tr>\n",
       "      <th>241</th>\n",
       "      <td>R820107</td>\n",
       "      <td>239319203016</td>\n",
       "      <td>855034</td>\n",
       "      <td>2014-10-20</td>\n",
       "      <td>1230000</td>\n",
       "      <td>000284 MIDLAND LOOP</td>\n",
       "      <td>CARBONDALE</td>\n",
       "      <td>Single Family</td>\n",
       "      <td>NaN</td>\n",
       "      <td>NaN</td>\n",
       "      <td>NaN</td>\n",
       "      <td>NaN</td>\n",
       "      <td>NaN</td>\n",
       "      <td>Section: 19 Township: 7 Range: 88 Subdivision:...</td>\n",
       "      <td>1</td>\n",
       "      <td>NaN</td>\n",
       "    </tr>\n",
       "  </tbody>\n",
       "</table>\n",
       "</div>"
      ],
      "text/plain": [
       "     Account Parcel Number Reception  Sale Date  Sale Price  \\\n",
       "421  R045151  218101228002    858630 2015-01-16        2500   \n",
       "422  R045153  218101228004    857083 2014-12-11        5000   \n",
       "423  R045154  218101228005    867928 2015-08-31        6000   \n",
       "424  R045156  218101228007    857084 2014-12-11        5000   \n",
       "425  R045157  218101228008    877470 2016-05-20      216000   \n",
       "426  R045178  218101229004    857085 2014-12-11        5000   \n",
       "427  R045180  218101229006    857086 2014-12-11        5000   \n",
       "428  R045184  218101229010    857087 2014-12-11        5000   \n",
       "241  R820107  239319203016    855034 2014-10-20     1230000   \n",
       "\n",
       "           Situs Address    Location Classification Architectural Style  \\\n",
       "421                  NaN  NEW CASTLE    Garage Only                 NaN   \n",
       "422                  NaN  NEW CASTLE    Garage Only                 NaN   \n",
       "423                  NaN  NEW CASTLE    Garage Only                 NaN   \n",
       "424                  NaN  NEW CASTLE    Garage Only                 NaN   \n",
       "425                  NaN  NEW CASTLE    Garage Only                 NaN   \n",
       "426                  #2D  NEW CASTLE    Garage Only                 NaN   \n",
       "427                  #2F  NEW CASTLE    Garage Only                 NaN   \n",
       "428                  #2K  NEW CASTLE    Garage Only                 NaN   \n",
       "241  000284 MIDLAND LOOP  CARBONDALE  Single Family                 NaN   \n",
       "\n",
       "     Year Built  Bedrooms  Baths  Square Feet  \\\n",
       "421         NaN       NaN    NaN          NaN   \n",
       "422         NaN       NaN    NaN          NaN   \n",
       "423         NaN       NaN    NaN          NaN   \n",
       "424         NaN       NaN    NaN          NaN   \n",
       "425         NaN       NaN    NaN          NaN   \n",
       "426         NaN       NaN    NaN          NaN   \n",
       "427         NaN       NaN    NaN          NaN   \n",
       "428         NaN       NaN    NaN          NaN   \n",
       "241         NaN       NaN    NaN          NaN   \n",
       "\n",
       "                                                 Legal  Count  Price per SF  \n",
       "421  DESC: A RESUB OF A PORTION OF LOT 2A RIVER PAR...      1           NaN  \n",
       "422  DESC: A RESUB OF A PORTION OF LOT 2A RIVER PAR...      1           NaN  \n",
       "423  DESC: A RESUB OF A PORTION OF LOT 2A RIVER PAR...      1           NaN  \n",
       "424  DESC: A RESUB OF A PORTION OF LOT 2A RIVER PAR...      1           NaN  \n",
       "425  DESC: A RESUB OF A PORTION OF LOT 2A RIVER PAR...      1           NaN  \n",
       "426  DESC: A RESUB OF A PORTION OF LOT 2B RIVER PAR...      1           NaN  \n",
       "427  DESC: A RESUB OF A PORTION OF LOT 2B RIVER PAR...      1           NaN  \n",
       "428  DESC: A RESUB OF A PORTION OF LOT 2B RIVER PAR...      1           NaN  \n",
       "241  Section: 19 Township: 7 Range: 88 Subdivision:...      1           NaN  "
      ]
     },
     "execution_count": 34,
     "metadata": {},
     "output_type": "execute_result"
    }
   ],
   "source": [
    "# Inspect the null values for Square Feet column\n",
    "nulls = combined[combined[\"Square Feet\"].isnull()]\n",
    "nulls"
   ]
  },
  {
   "cell_type": "markdown",
   "metadata": {},
   "source": [
    "There are 9 rows with NaN values for many of the columns valuable to this analysis (Year Built, Bedrooms, Baths, etc). 8 of these are type \"Garage Only\" which are not relevant to this analysis and should be removed from the dataframe! These 9 rows will be removed from the dataset moving forward.  "
   ]
  },
  {
   "cell_type": "code",
   "execution_count": 35,
   "metadata": {},
   "outputs": [
    {
     "data": {
      "text/plain": [
       "(1966, 16)"
      ]
     },
     "execution_count": 35,
     "metadata": {},
     "output_type": "execute_result"
    }
   ],
   "source": [
    "# Drop NaN values from Combined dataframe, subsetting by the Square Feet column. Check df shape. \n",
    "combined = combined.dropna(subset=[\"Square Feet\"])\n",
    "combined.shape"
   ]
  },
  {
   "cell_type": "code",
   "execution_count": 36,
   "metadata": {},
   "outputs": [
    {
     "name": "stdout",
     "output_type": "stream",
     "text": [
      "['Condo' 'Townhome' 'Single Family']\n"
     ]
    }
   ],
   "source": [
    "# Verify that \"Garage Only\" values are no longer present in the dataframe\n",
    "# This would have been good to catch and remove earlier in the data cleaning process!\n",
    "print(combined[\"Classification\"].unique())"
   ]
  },
  {
   "cell_type": "code",
   "execution_count": 37,
   "metadata": {},
   "outputs": [
    {
     "data": {
      "text/plain": [
       "(1966, 16)"
      ]
     },
     "execution_count": 37,
     "metadata": {},
     "output_type": "execute_result"
    }
   ],
   "source": [
    "# Double check that there are no missing values for the columns important for this analyis\n",
    "double_check = combined.dropna(subset=[\"Sale Date\", \"Sale Price\", \"Year Built\", \"Location\",\"Bedrooms\", \"Baths\"])\n",
    "double_check.shape"
   ]
  },
  {
   "cell_type": "markdown",
   "metadata": {},
   "source": [
    "Looks good, no additional rows were dropped from the check of these columns."
   ]
  },
  {
   "cell_type": "code",
   "execution_count": 38,
   "metadata": {},
   "outputs": [
    {
     "name": "stdout",
     "output_type": "stream",
     "text": [
      "<class 'pandas.core.frame.DataFrame'>\n",
      "Int64Index: 1966 entries, 0 to 1368\n",
      "Data columns (total 16 columns):\n",
      "Account                1966 non-null object\n",
      "Parcel Number          1966 non-null object\n",
      "Reception              1966 non-null object\n",
      "Sale Date              1966 non-null datetime64[ns]\n",
      "Sale Price             1966 non-null int64\n",
      "Situs Address          1959 non-null object\n",
      "Location               1966 non-null object\n",
      "Classification         1966 non-null object\n",
      "Architectural Style    1966 non-null object\n",
      "Year Built             1966 non-null float64\n",
      "Bedrooms               1966 non-null float64\n",
      "Baths                  1966 non-null float64\n",
      "Square Feet            1966 non-null float64\n",
      "Legal                  1966 non-null object\n",
      "Count                  1966 non-null int64\n",
      "Price per SF           1966 non-null float64\n",
      "dtypes: datetime64[ns](1), float64(5), int64(2), object(8)\n",
      "memory usage: 261.1+ KB\n"
     ]
    }
   ],
   "source": [
    "# A different look at overall info \n",
    "combined.info()"
   ]
  },
  {
   "cell_type": "code",
   "execution_count": 39,
   "metadata": {},
   "outputs": [
    {
     "data": {
      "text/plain": [
       "0.0       7\n",
       "1.0      51\n",
       "2.0     385\n",
       "3.0    1061\n",
       "4.0     369\n",
       "5.0      76\n",
       "6.0      16\n",
       "7.0       1\n",
       "Name: Bedrooms, dtype: int64"
      ]
     },
     "execution_count": 39,
     "metadata": {},
     "output_type": "execute_result"
    }
   ],
   "source": [
    "# Distribution of counts for bedrooms\n",
    "combined[\"Bedrooms\"].value_counts().sort_index(ascending=True)"
   ]
  },
  {
   "cell_type": "code",
   "execution_count": 40,
   "metadata": {},
   "outputs": [
    {
     "data": {
      "text/plain": [
       "0.00      4\n",
       "0.75      8\n",
       "1.00    165\n",
       "1.50     91\n",
       "1.70     42\n",
       "1.75    115\n",
       "2.00    595\n",
       "2.20      4\n",
       "2.25     43\n",
       "2.50    472\n",
       "2.70     10\n",
       "2.75     49\n",
       "3.00    125\n",
       "3.20      1\n",
       "3.25     30\n",
       "3.50    132\n",
       "3.70      1\n",
       "3.75      8\n",
       "4.00     15\n",
       "4.25      7\n",
       "4.50     34\n",
       "4.75      2\n",
       "5.00      4\n",
       "5.25      2\n",
       "5.50      4\n",
       "6.00      2\n",
       "6.25      1\n",
       "Name: Baths, dtype: int64"
      ]
     },
     "execution_count": 40,
     "metadata": {},
     "output_type": "execute_result"
    }
   ],
   "source": [
    "# Distribution of counts for Baths\n",
    "combined[\"Baths\"].value_counts().sort_index(ascending=True)"
   ]
  },
  {
   "cell_type": "code",
   "execution_count": 41,
   "metadata": {},
   "outputs": [
    {
     "data": {
      "text/html": [
       "<div>\n",
       "<style scoped>\n",
       "    .dataframe tbody tr th:only-of-type {\n",
       "        vertical-align: middle;\n",
       "    }\n",
       "\n",
       "    .dataframe tbody tr th {\n",
       "        vertical-align: top;\n",
       "    }\n",
       "\n",
       "    .dataframe thead th {\n",
       "        text-align: right;\n",
       "    }\n",
       "</style>\n",
       "<table border=\"1\" class=\"dataframe\">\n",
       "  <thead>\n",
       "    <tr style=\"text-align: right;\">\n",
       "      <th></th>\n",
       "      <th>Account</th>\n",
       "      <th>Parcel Number</th>\n",
       "      <th>Reception</th>\n",
       "      <th>Sale Date</th>\n",
       "      <th>Sale Price</th>\n",
       "      <th>Situs Address</th>\n",
       "      <th>Location</th>\n",
       "      <th>Classification</th>\n",
       "      <th>Architectural Style</th>\n",
       "      <th>Year Built</th>\n",
       "      <th>Bedrooms</th>\n",
       "      <th>Baths</th>\n",
       "      <th>Square Feet</th>\n",
       "      <th>Legal</th>\n",
       "      <th>Count</th>\n",
       "      <th>Price per SF</th>\n",
       "    </tr>\n",
       "  </thead>\n",
       "  <tbody>\n",
       "    <tr>\n",
       "      <th>0</th>\n",
       "      <td>R340967</td>\n",
       "      <td>239334401005</td>\n",
       "      <td>879240</td>\n",
       "      <td>2016-06-29</td>\n",
       "      <td>650000</td>\n",
       "      <td>000066 N 2ND ST</td>\n",
       "      <td>CARBONDALE</td>\n",
       "      <td>Single Family</td>\n",
       "      <td>ONE STORY</td>\n",
       "      <td>1970.0</td>\n",
       "      <td>0.0</td>\n",
       "      <td>0.0</td>\n",
       "      <td>0.0</td>\n",
       "      <td>Section: 34 Township: 7 Range: 88 Subdivision:...</td>\n",
       "      <td>1</td>\n",
       "      <td>inf</td>\n",
       "    </tr>\n",
       "  </tbody>\n",
       "</table>\n",
       "</div>"
      ],
      "text/plain": [
       "   Account Parcel Number Reception  Sale Date  Sale Price    Situs Address  \\\n",
       "0  R340967  239334401005    879240 2016-06-29      650000  000066 N 2ND ST   \n",
       "\n",
       "     Location Classification Architectural Style  Year Built  Bedrooms  Baths  \\\n",
       "0  CARBONDALE  Single Family           ONE STORY      1970.0       0.0    0.0   \n",
       "\n",
       "   Square Feet                                              Legal  Count  \\\n",
       "0          0.0  Section: 34 Township: 7 Range: 88 Subdivision:...      1   \n",
       "\n",
       "   Price per SF  \n",
       "0           inf  "
      ]
     },
     "execution_count": 41,
     "metadata": {},
     "output_type": "execute_result"
    }
   ],
   "source": [
    "# Sales with Square Feet value of zero.\n",
    "combined[combined[\"Square Feet\"] == 0]"
   ]
  },
  {
   "cell_type": "markdown",
   "metadata": {},
   "source": [
    "Ealier in this notebook the column \"Heated Area\" was changed to \"Square Feet\". It is possible that the structure above has no heat and therefore was recorded with a value of zero. This structure also has no bedrooms or baths, but has a sale price of \\$650,000 indicating that this is possibly primarily a land/acreage transaction. "
   ]
  },
  {
   "cell_type": "code",
   "execution_count": 42,
   "metadata": {},
   "outputs": [
    {
     "data": {
      "text/html": [
       "<div>\n",
       "<style scoped>\n",
       "    .dataframe tbody tr th:only-of-type {\n",
       "        vertical-align: middle;\n",
       "    }\n",
       "\n",
       "    .dataframe tbody tr th {\n",
       "        vertical-align: top;\n",
       "    }\n",
       "\n",
       "    .dataframe thead th {\n",
       "        text-align: right;\n",
       "    }\n",
       "</style>\n",
       "<table border=\"1\" class=\"dataframe\">\n",
       "  <thead>\n",
       "    <tr style=\"text-align: right;\">\n",
       "      <th></th>\n",
       "      <th>Account</th>\n",
       "      <th>Parcel Number</th>\n",
       "      <th>Reception</th>\n",
       "      <th>Sale Date</th>\n",
       "      <th>Sale Price</th>\n",
       "      <th>Situs Address</th>\n",
       "      <th>Location</th>\n",
       "      <th>Classification</th>\n",
       "      <th>Architectural Style</th>\n",
       "      <th>Year Built</th>\n",
       "      <th>Bedrooms</th>\n",
       "      <th>Baths</th>\n",
       "      <th>Square Feet</th>\n",
       "      <th>Legal</th>\n",
       "      <th>Count</th>\n",
       "      <th>Price per SF</th>\n",
       "    </tr>\n",
       "  </thead>\n",
       "  <tbody>\n",
       "    <tr>\n",
       "      <th>0</th>\n",
       "      <td>R340967</td>\n",
       "      <td>239334401005</td>\n",
       "      <td>879240</td>\n",
       "      <td>2016-06-29</td>\n",
       "      <td>650000</td>\n",
       "      <td>000066 N 2ND ST</td>\n",
       "      <td>CARBONDALE</td>\n",
       "      <td>Single Family</td>\n",
       "      <td>ONE STORY</td>\n",
       "      <td>1970.0</td>\n",
       "      <td>0.0</td>\n",
       "      <td>0.00</td>\n",
       "      <td>0.0</td>\n",
       "      <td>Section: 34 Township: 7 Range: 88 Subdivision:...</td>\n",
       "      <td>1</td>\n",
       "      <td>inf</td>\n",
       "    </tr>\n",
       "    <tr>\n",
       "      <th>2</th>\n",
       "      <td>R112063</td>\n",
       "      <td>239335100057</td>\n",
       "      <td>869383</td>\n",
       "      <td>2015-10-13</td>\n",
       "      <td>2750000</td>\n",
       "      <td>000855 ROSE LN</td>\n",
       "      <td>CARBONDALE</td>\n",
       "      <td>Single Family</td>\n",
       "      <td>ONE STORY</td>\n",
       "      <td>2002.0</td>\n",
       "      <td>0.0</td>\n",
       "      <td>0.75</td>\n",
       "      <td>680.0</td>\n",
       "      <td>Section: 35 Township: 7 Range: 88 A TR IN LOTS...</td>\n",
       "      <td>1</td>\n",
       "      <td>4044.117647</td>\n",
       "    </tr>\n",
       "    <tr>\n",
       "      <th>242</th>\n",
       "      <td>R080539</td>\n",
       "      <td>239533200049</td>\n",
       "      <td>863791</td>\n",
       "      <td>2015-06-04</td>\n",
       "      <td>125000</td>\n",
       "      <td>NaN</td>\n",
       "      <td>GLENWOOD</td>\n",
       "      <td>Single Family</td>\n",
       "      <td>RECREATIONAL CABIN</td>\n",
       "      <td>2005.0</td>\n",
       "      <td>0.0</td>\n",
       "      <td>0.00</td>\n",
       "      <td>120.0</td>\n",
       "      <td>Section: 33 Township: 7 Range: 89 NENW.</td>\n",
       "      <td>1</td>\n",
       "      <td>1041.666667</td>\n",
       "    </tr>\n",
       "    <tr>\n",
       "      <th>511</th>\n",
       "      <td>R170410</td>\n",
       "      <td>218332101001</td>\n",
       "      <td>872474</td>\n",
       "      <td>2016-01-13</td>\n",
       "      <td>485000</td>\n",
       "      <td>008149 312 COUNTY RD</td>\n",
       "      <td>NEW CASTLE</td>\n",
       "      <td>Single Family</td>\n",
       "      <td>BARN WITH LIVING</td>\n",
       "      <td>2000.0</td>\n",
       "      <td>0.0</td>\n",
       "      <td>0.75</td>\n",
       "      <td>1076.0</td>\n",
       "      <td>Section: 32 Township: 6 Range: 90 Subdivision:...</td>\n",
       "      <td>1</td>\n",
       "      <td>450.743494</td>\n",
       "    </tr>\n",
       "    <tr>\n",
       "      <th>726</th>\n",
       "      <td>R270089</td>\n",
       "      <td>217531200010</td>\n",
       "      <td>879029</td>\n",
       "      <td>2016-06-27</td>\n",
       "      <td>395000</td>\n",
       "      <td>000948 323 COUNTY RD</td>\n",
       "      <td>PARACHUTE</td>\n",
       "      <td>Single Family</td>\n",
       "      <td>ONE STORY</td>\n",
       "      <td>1955.0</td>\n",
       "      <td>0.0</td>\n",
       "      <td>0.00</td>\n",
       "      <td>320.0</td>\n",
       "      <td>Section: 31 Township: 6 Range: 94 TR OF LAND S...</td>\n",
       "      <td>1</td>\n",
       "      <td>1234.375000</td>\n",
       "    </tr>\n",
       "    <tr>\n",
       "      <th>1175</th>\n",
       "      <td>R023273</td>\n",
       "      <td>217915402017</td>\n",
       "      <td>874126</td>\n",
       "      <td>2016-02-24</td>\n",
       "      <td>415000</td>\n",
       "      <td>000171 UTE AVE</td>\n",
       "      <td>SILT</td>\n",
       "      <td>Single Family</td>\n",
       "      <td>ONE STORY</td>\n",
       "      <td>2006.0</td>\n",
       "      <td>0.0</td>\n",
       "      <td>0.75</td>\n",
       "      <td>182.0</td>\n",
       "      <td>Section: 15 Township: 6 Range: 92 Subdivision:...</td>\n",
       "      <td>1</td>\n",
       "      <td>2280.219780</td>\n",
       "    </tr>\n",
       "    <tr>\n",
       "      <th>1176</th>\n",
       "      <td>R210816</td>\n",
       "      <td>192327400064</td>\n",
       "      <td>877726</td>\n",
       "      <td>2016-05-27</td>\n",
       "      <td>407000</td>\n",
       "      <td>009404 325  HWY</td>\n",
       "      <td>SILT</td>\n",
       "      <td>Single Family</td>\n",
       "      <td>ONE STORY WITH BASEMENT</td>\n",
       "      <td>1930.0</td>\n",
       "      <td>0.0</td>\n",
       "      <td>0.00</td>\n",
       "      <td>280.0</td>\n",
       "      <td>Section: 27 Township: 4 Range: 92 A TR IN SWSE...</td>\n",
       "      <td>1</td>\n",
       "      <td>1453.571429</td>\n",
       "    </tr>\n",
       "  </tbody>\n",
       "</table>\n",
       "</div>"
      ],
      "text/plain": [
       "      Account Parcel Number Reception  Sale Date  Sale Price  \\\n",
       "0     R340967  239334401005    879240 2016-06-29      650000   \n",
       "2     R112063  239335100057    869383 2015-10-13     2750000   \n",
       "242   R080539  239533200049    863791 2015-06-04      125000   \n",
       "511   R170410  218332101001    872474 2016-01-13      485000   \n",
       "726   R270089  217531200010    879029 2016-06-27      395000   \n",
       "1175  R023273  217915402017    874126 2016-02-24      415000   \n",
       "1176  R210816  192327400064    877726 2016-05-27      407000   \n",
       "\n",
       "             Situs Address    Location Classification  \\\n",
       "0          000066 N 2ND ST  CARBONDALE  Single Family   \n",
       "2           000855 ROSE LN  CARBONDALE  Single Family   \n",
       "242                    NaN    GLENWOOD  Single Family   \n",
       "511   008149 312 COUNTY RD  NEW CASTLE  Single Family   \n",
       "726   000948 323 COUNTY RD   PARACHUTE  Single Family   \n",
       "1175        000171 UTE AVE        SILT  Single Family   \n",
       "1176       009404 325  HWY        SILT  Single Family   \n",
       "\n",
       "          Architectural Style  Year Built  Bedrooms  Baths  Square Feet  \\\n",
       "0                   ONE STORY      1970.0       0.0   0.00          0.0   \n",
       "2                   ONE STORY      2002.0       0.0   0.75        680.0   \n",
       "242        RECREATIONAL CABIN      2005.0       0.0   0.00        120.0   \n",
       "511          BARN WITH LIVING      2000.0       0.0   0.75       1076.0   \n",
       "726                 ONE STORY      1955.0       0.0   0.00        320.0   \n",
       "1175                ONE STORY      2006.0       0.0   0.75        182.0   \n",
       "1176  ONE STORY WITH BASEMENT      1930.0       0.0   0.00        280.0   \n",
       "\n",
       "                                                  Legal  Count  Price per SF  \n",
       "0     Section: 34 Township: 7 Range: 88 Subdivision:...      1           inf  \n",
       "2     Section: 35 Township: 7 Range: 88 A TR IN LOTS...      1   4044.117647  \n",
       "242             Section: 33 Township: 7 Range: 89 NENW.      1   1041.666667  \n",
       "511   Section: 32 Township: 6 Range: 90 Subdivision:...      1    450.743494  \n",
       "726   Section: 31 Township: 6 Range: 94 TR OF LAND S...      1   1234.375000  \n",
       "1175  Section: 15 Township: 6 Range: 92 Subdivision:...      1   2280.219780  \n",
       "1176  Section: 27 Township: 4 Range: 92 A TR IN SWSE...      1   1453.571429  "
      ]
     },
     "execution_count": 42,
     "metadata": {},
     "output_type": "execute_result"
    }
   ],
   "source": [
    "# Evaluate sales with zero bedrooms\n",
    "combined[combined[\"Bedrooms\"] == 0]"
   ]
  },
  {
   "cell_type": "markdown",
   "metadata": {},
   "source": [
    "This query pulls in the observation discussed in the last cell. In addition there are other observations architectural style \"one story\", as well as \"recreational cabin\" and \"barn with living\". It seems reasonable that any of these transactions could require an inspection, so they will be retained in the dataframe moving forward. Looking at the sale price for many of these transactions, it is possible that most of the value associated with the sale is for land/acreage."
   ]
  },
  {
   "cell_type": "code",
   "execution_count": 43,
   "metadata": {},
   "outputs": [
    {
     "data": {
      "text/html": [
       "<div>\n",
       "<style scoped>\n",
       "    .dataframe tbody tr th:only-of-type {\n",
       "        vertical-align: middle;\n",
       "    }\n",
       "\n",
       "    .dataframe tbody tr th {\n",
       "        vertical-align: top;\n",
       "    }\n",
       "\n",
       "    .dataframe thead th {\n",
       "        text-align: right;\n",
       "    }\n",
       "</style>\n",
       "<table border=\"1\" class=\"dataframe\">\n",
       "  <thead>\n",
       "    <tr style=\"text-align: right;\">\n",
       "      <th></th>\n",
       "      <th>Account</th>\n",
       "      <th>Parcel Number</th>\n",
       "      <th>Reception</th>\n",
       "      <th>Sale Date</th>\n",
       "      <th>Sale Price</th>\n",
       "      <th>Situs Address</th>\n",
       "      <th>Location</th>\n",
       "      <th>Classification</th>\n",
       "      <th>Architectural Style</th>\n",
       "      <th>Year Built</th>\n",
       "      <th>Bedrooms</th>\n",
       "      <th>Baths</th>\n",
       "      <th>Square Feet</th>\n",
       "      <th>Legal</th>\n",
       "      <th>Count</th>\n",
       "      <th>Price per SF</th>\n",
       "    </tr>\n",
       "  </thead>\n",
       "  <tbody>\n",
       "    <tr>\n",
       "      <th>0</th>\n",
       "      <td>R340967</td>\n",
       "      <td>239334401005</td>\n",
       "      <td>879240</td>\n",
       "      <td>2016-06-29</td>\n",
       "      <td>650000</td>\n",
       "      <td>000066 N 2ND ST</td>\n",
       "      <td>CARBONDALE</td>\n",
       "      <td>Single Family</td>\n",
       "      <td>ONE STORY</td>\n",
       "      <td>1970.0</td>\n",
       "      <td>0.0</td>\n",
       "      <td>0.0</td>\n",
       "      <td>0.0</td>\n",
       "      <td>Section: 34 Township: 7 Range: 88 Subdivision:...</td>\n",
       "      <td>1</td>\n",
       "      <td>inf</td>\n",
       "    </tr>\n",
       "    <tr>\n",
       "      <th>242</th>\n",
       "      <td>R080539</td>\n",
       "      <td>239533200049</td>\n",
       "      <td>863791</td>\n",
       "      <td>2015-06-04</td>\n",
       "      <td>125000</td>\n",
       "      <td>NaN</td>\n",
       "      <td>GLENWOOD</td>\n",
       "      <td>Single Family</td>\n",
       "      <td>RECREATIONAL CABIN</td>\n",
       "      <td>2005.0</td>\n",
       "      <td>0.0</td>\n",
       "      <td>0.0</td>\n",
       "      <td>120.0</td>\n",
       "      <td>Section: 33 Township: 7 Range: 89 NENW.</td>\n",
       "      <td>1</td>\n",
       "      <td>1041.666667</td>\n",
       "    </tr>\n",
       "    <tr>\n",
       "      <th>726</th>\n",
       "      <td>R270089</td>\n",
       "      <td>217531200010</td>\n",
       "      <td>879029</td>\n",
       "      <td>2016-06-27</td>\n",
       "      <td>395000</td>\n",
       "      <td>000948 323 COUNTY RD</td>\n",
       "      <td>PARACHUTE</td>\n",
       "      <td>Single Family</td>\n",
       "      <td>ONE STORY</td>\n",
       "      <td>1955.0</td>\n",
       "      <td>0.0</td>\n",
       "      <td>0.0</td>\n",
       "      <td>320.0</td>\n",
       "      <td>Section: 31 Township: 6 Range: 94 TR OF LAND S...</td>\n",
       "      <td>1</td>\n",
       "      <td>1234.375000</td>\n",
       "    </tr>\n",
       "    <tr>\n",
       "      <th>1176</th>\n",
       "      <td>R210816</td>\n",
       "      <td>192327400064</td>\n",
       "      <td>877726</td>\n",
       "      <td>2016-05-27</td>\n",
       "      <td>407000</td>\n",
       "      <td>009404 325  HWY</td>\n",
       "      <td>SILT</td>\n",
       "      <td>Single Family</td>\n",
       "      <td>ONE STORY WITH BASEMENT</td>\n",
       "      <td>1930.0</td>\n",
       "      <td>0.0</td>\n",
       "      <td>0.0</td>\n",
       "      <td>280.0</td>\n",
       "      <td>Section: 27 Township: 4 Range: 92 A TR IN SWSE...</td>\n",
       "      <td>1</td>\n",
       "      <td>1453.571429</td>\n",
       "    </tr>\n",
       "  </tbody>\n",
       "</table>\n",
       "</div>"
      ],
      "text/plain": [
       "      Account Parcel Number Reception  Sale Date  Sale Price  \\\n",
       "0     R340967  239334401005    879240 2016-06-29      650000   \n",
       "242   R080539  239533200049    863791 2015-06-04      125000   \n",
       "726   R270089  217531200010    879029 2016-06-27      395000   \n",
       "1176  R210816  192327400064    877726 2016-05-27      407000   \n",
       "\n",
       "             Situs Address    Location Classification  \\\n",
       "0          000066 N 2ND ST  CARBONDALE  Single Family   \n",
       "242                    NaN    GLENWOOD  Single Family   \n",
       "726   000948 323 COUNTY RD   PARACHUTE  Single Family   \n",
       "1176       009404 325  HWY        SILT  Single Family   \n",
       "\n",
       "          Architectural Style  Year Built  Bedrooms  Baths  Square Feet  \\\n",
       "0                   ONE STORY      1970.0       0.0    0.0          0.0   \n",
       "242        RECREATIONAL CABIN      2005.0       0.0    0.0        120.0   \n",
       "726                 ONE STORY      1955.0       0.0    0.0        320.0   \n",
       "1176  ONE STORY WITH BASEMENT      1930.0       0.0    0.0        280.0   \n",
       "\n",
       "                                                  Legal  Count  Price per SF  \n",
       "0     Section: 34 Township: 7 Range: 88 Subdivision:...      1           inf  \n",
       "242             Section: 33 Township: 7 Range: 89 NENW.      1   1041.666667  \n",
       "726   Section: 31 Township: 6 Range: 94 TR OF LAND S...      1   1234.375000  \n",
       "1176  Section: 27 Township: 4 Range: 92 A TR IN SWSE...      1   1453.571429  "
      ]
     },
     "execution_count": 43,
     "metadata": {},
     "output_type": "execute_result"
    }
   ],
   "source": [
    "# Evaluate sales with zero baths\n",
    "combined[combined[\"Baths\"] == 0]"
   ]
  },
  {
   "cell_type": "markdown",
   "metadata": {},
   "source": [
    "All of the transactions above were discussed previously and will be retained in the dataframe moving forward. No further changes are required for the dataset."
   ]
  },
  {
   "cell_type": "markdown",
   "metadata": {},
   "source": [
    "Next step is to create a column called \"Inspection Date\" which is the approximate date of inspection for each sale. Google searches indicate that approximately 45 days is the normal time range between having an offer accepted and closing date. Inspections happen around 10 days after the inspection is accepted (35 days prior to closing). "
   ]
  },
  {
   "cell_type": "code",
   "execution_count": 44,
   "metadata": {},
   "outputs": [
    {
     "name": "stdout",
     "output_type": "stream",
     "text": [
      "2014-07-01 00:00:00\n",
      "2014-05-27 00:00:00\n",
      "2016-06-30 00:00:00\n",
      "2016-05-26 00:00:00\n"
     ]
    }
   ],
   "source": [
    "import datetime\n",
    "diff = datetime.timedelta(days = 35) # Establish time difference of 35 days\n",
    "combined[\"Inspection Date\"] = combined[\"Sale Date\"] - diff # Create Inspection Date column that's 35 days before sale\n",
    "print(combined[\"Sale Date\"].min()) # Check earliest date in Sale Date range\n",
    "print(combined[\"Inspection Date\"].min()) # Verify that the earliest date is 35 days earlier than previous\n",
    "print(combined[\"Sale Date\"].max()) # Repeat steps above for max (latest date)\n",
    "print(combined[\"Inspection Date\"].max())"
   ]
  },
  {
   "cell_type": "markdown",
   "metadata": {},
   "source": [
    "The inspection date column looks as expected. Next step is to filter the dataframe to include only the columns we need for analysis."
   ]
  },
  {
   "cell_type": "code",
   "execution_count": 45,
   "metadata": {},
   "outputs": [
    {
     "data": {
      "text/html": [
       "<div>\n",
       "<style scoped>\n",
       "    .dataframe tbody tr th:only-of-type {\n",
       "        vertical-align: middle;\n",
       "    }\n",
       "\n",
       "    .dataframe tbody tr th {\n",
       "        vertical-align: top;\n",
       "    }\n",
       "\n",
       "    .dataframe thead th {\n",
       "        text-align: right;\n",
       "    }\n",
       "</style>\n",
       "<table border=\"1\" class=\"dataframe\">\n",
       "  <thead>\n",
       "    <tr style=\"text-align: right;\">\n",
       "      <th></th>\n",
       "      <th>Inspection Date</th>\n",
       "      <th>Sale Date</th>\n",
       "      <th>Sale Price</th>\n",
       "      <th>Location</th>\n",
       "      <th>Classification</th>\n",
       "      <th>Architectural Style</th>\n",
       "      <th>Year Built</th>\n",
       "      <th>Bedrooms</th>\n",
       "      <th>Baths</th>\n",
       "      <th>Square Feet</th>\n",
       "      <th>Count</th>\n",
       "      <th>Price per SF</th>\n",
       "    </tr>\n",
       "  </thead>\n",
       "  <tbody>\n",
       "    <tr>\n",
       "      <th>0</th>\n",
       "      <td>2014-07-04</td>\n",
       "      <td>2014-08-08</td>\n",
       "      <td>210000</td>\n",
       "      <td>CARBONDALE</td>\n",
       "      <td>Condo</td>\n",
       "      <td>CONDO</td>\n",
       "      <td>1974.0</td>\n",
       "      <td>1.0</td>\n",
       "      <td>1.0</td>\n",
       "      <td>621.0</td>\n",
       "      <td>1</td>\n",
       "      <td>338.164251</td>\n",
       "    </tr>\n",
       "    <tr>\n",
       "      <th>1</th>\n",
       "      <td>2015-11-06</td>\n",
       "      <td>2015-12-11</td>\n",
       "      <td>265000</td>\n",
       "      <td>CARBONDALE</td>\n",
       "      <td>Condo</td>\n",
       "      <td>CONDO</td>\n",
       "      <td>1980.0</td>\n",
       "      <td>1.0</td>\n",
       "      <td>1.0</td>\n",
       "      <td>732.0</td>\n",
       "      <td>1</td>\n",
       "      <td>362.021858</td>\n",
       "    </tr>\n",
       "    <tr>\n",
       "      <th>2</th>\n",
       "      <td>2015-03-10</td>\n",
       "      <td>2015-04-14</td>\n",
       "      <td>308500</td>\n",
       "      <td>CARBONDALE</td>\n",
       "      <td>Condo</td>\n",
       "      <td>CONDO</td>\n",
       "      <td>2008.0</td>\n",
       "      <td>1.0</td>\n",
       "      <td>1.0</td>\n",
       "      <td>792.0</td>\n",
       "      <td>1</td>\n",
       "      <td>389.520202</td>\n",
       "    </tr>\n",
       "    <tr>\n",
       "      <th>3</th>\n",
       "      <td>2015-12-16</td>\n",
       "      <td>2016-01-20</td>\n",
       "      <td>160000</td>\n",
       "      <td>CARBONDALE</td>\n",
       "      <td>Condo</td>\n",
       "      <td>CONDO</td>\n",
       "      <td>1981.0</td>\n",
       "      <td>1.0</td>\n",
       "      <td>1.0</td>\n",
       "      <td>800.0</td>\n",
       "      <td>1</td>\n",
       "      <td>200.000000</td>\n",
       "    </tr>\n",
       "    <tr>\n",
       "      <th>4</th>\n",
       "      <td>2016-03-04</td>\n",
       "      <td>2016-04-08</td>\n",
       "      <td>340000</td>\n",
       "      <td>CARBONDALE</td>\n",
       "      <td>Condo</td>\n",
       "      <td>CONDO</td>\n",
       "      <td>2007.0</td>\n",
       "      <td>2.0</td>\n",
       "      <td>1.0</td>\n",
       "      <td>864.0</td>\n",
       "      <td>1</td>\n",
       "      <td>393.518519</td>\n",
       "    </tr>\n",
       "  </tbody>\n",
       "</table>\n",
       "</div>"
      ],
      "text/plain": [
       "  Inspection Date  Sale Date  Sale Price    Location Classification  \\\n",
       "0      2014-07-04 2014-08-08      210000  CARBONDALE          Condo   \n",
       "1      2015-11-06 2015-12-11      265000  CARBONDALE          Condo   \n",
       "2      2015-03-10 2015-04-14      308500  CARBONDALE          Condo   \n",
       "3      2015-12-16 2016-01-20      160000  CARBONDALE          Condo   \n",
       "4      2016-03-04 2016-04-08      340000  CARBONDALE          Condo   \n",
       "\n",
       "  Architectural Style  Year Built  Bedrooms  Baths  Square Feet  Count  \\\n",
       "0               CONDO      1974.0       1.0    1.0        621.0      1   \n",
       "1               CONDO      1980.0       1.0    1.0        732.0      1   \n",
       "2               CONDO      2008.0       1.0    1.0        792.0      1   \n",
       "3               CONDO      1981.0       1.0    1.0        800.0      1   \n",
       "4               CONDO      2007.0       2.0    1.0        864.0      1   \n",
       "\n",
       "   Price per SF  \n",
       "0    338.164251  \n",
       "1    362.021858  \n",
       "2    389.520202  \n",
       "3    200.000000  \n",
       "4    393.518519  "
      ]
     },
     "execution_count": 45,
     "metadata": {},
     "output_type": "execute_result"
    }
   ],
   "source": [
    "# Columns to select\n",
    "cols = [\"Inspection Date\", \"Sale Date\", \"Sale Price\", \"Location\", \"Classification\", \"Architectural Style\",\n",
    "       \"Year Built\", \"Bedrooms\", \"Baths\", \"Square Feet\", \"Count\", \"Price per SF\"]\n",
    "# Make copy of complete dataframe\n",
    "combined_complete = combined\n",
    "# Filter complete dataframe to include only desired columns\n",
    "combined = combined[cols]\n",
    "# Verify the dataframe includes the 12 columns selected\n",
    "combined.head()"
   ]
  },
  {
   "cell_type": "code",
   "execution_count": 46,
   "metadata": {},
   "outputs": [
    {
     "data": {
      "text/html": [
       "<div>\n",
       "<style scoped>\n",
       "    .dataframe tbody tr th:only-of-type {\n",
       "        vertical-align: middle;\n",
       "    }\n",
       "\n",
       "    .dataframe tbody tr th {\n",
       "        vertical-align: top;\n",
       "    }\n",
       "\n",
       "    .dataframe thead th {\n",
       "        text-align: right;\n",
       "    }\n",
       "</style>\n",
       "<table border=\"1\" class=\"dataframe\">\n",
       "  <thead>\n",
       "    <tr style=\"text-align: right;\">\n",
       "      <th></th>\n",
       "      <th>Account</th>\n",
       "      <th>Parcel Number</th>\n",
       "      <th>Reception</th>\n",
       "      <th>Sale Date</th>\n",
       "      <th>Sale Price</th>\n",
       "      <th>Situs Address</th>\n",
       "      <th>Location</th>\n",
       "      <th>Classification</th>\n",
       "      <th>Architectural Style</th>\n",
       "      <th>Year Built</th>\n",
       "      <th>Bedrooms</th>\n",
       "      <th>Baths</th>\n",
       "      <th>Square Feet</th>\n",
       "      <th>Legal</th>\n",
       "      <th>Count</th>\n",
       "      <th>Price per SF</th>\n",
       "      <th>Inspection Date</th>\n",
       "    </tr>\n",
       "  </thead>\n",
       "  <tbody>\n",
       "    <tr>\n",
       "      <th>0</th>\n",
       "      <td>R007341</td>\n",
       "      <td>239334430001</td>\n",
       "      <td>852413</td>\n",
       "      <td>2014-08-08</td>\n",
       "      <td>210000</td>\n",
       "      <td>000133 SOPRIS AVE #A</td>\n",
       "      <td>CARBONDALE</td>\n",
       "      <td>Condo</td>\n",
       "      <td>CONDO</td>\n",
       "      <td>1974.0</td>\n",
       "      <td>1.0</td>\n",
       "      <td>1.0</td>\n",
       "      <td>621.0</td>\n",
       "      <td>Section: 34 Township: 7 Range: 88 DESC: RESUB ...</td>\n",
       "      <td>1</td>\n",
       "      <td>338.164251</td>\n",
       "      <td>2014-07-04</td>\n",
       "    </tr>\n",
       "    <tr>\n",
       "      <th>1</th>\n",
       "      <td>R340686</td>\n",
       "      <td>239334350003</td>\n",
       "      <td>871451</td>\n",
       "      <td>2015-12-11</td>\n",
       "      <td>265000</td>\n",
       "      <td>213 1/2 N 10TH ST #C</td>\n",
       "      <td>CARBONDALE</td>\n",
       "      <td>Condo</td>\n",
       "      <td>CONDO</td>\n",
       "      <td>1980.0</td>\n",
       "      <td>1.0</td>\n",
       "      <td>1.0</td>\n",
       "      <td>732.0</td>\n",
       "      <td>Section: 34 Township: 7 Range: 88 Subdivision:...</td>\n",
       "      <td>1</td>\n",
       "      <td>362.021858</td>\n",
       "      <td>2015-11-06</td>\n",
       "    </tr>\n",
       "    <tr>\n",
       "      <th>2</th>\n",
       "      <td>R045341</td>\n",
       "      <td>23933430G008</td>\n",
       "      <td>861415</td>\n",
       "      <td>2015-04-14</td>\n",
       "      <td>308500</td>\n",
       "      <td>000345 COLORADO AVE #202</td>\n",
       "      <td>CARBONDALE</td>\n",
       "      <td>Condo</td>\n",
       "      <td>CONDO</td>\n",
       "      <td>2008.0</td>\n",
       "      <td>1.0</td>\n",
       "      <td>1.0</td>\n",
       "      <td>792.0</td>\n",
       "      <td>Section: 34 Township: 7 Range: 88 DESC: A RESU...</td>\n",
       "      <td>1</td>\n",
       "      <td>389.520202</td>\n",
       "      <td>2015-03-10</td>\n",
       "    </tr>\n",
       "    <tr>\n",
       "      <th>3</th>\n",
       "      <td>R340803</td>\n",
       "      <td>246303105047</td>\n",
       "      <td>872689</td>\n",
       "      <td>2016-01-20</td>\n",
       "      <td>160000</td>\n",
       "      <td>000086 ROARING FORK AVE #C3</td>\n",
       "      <td>CARBONDALE</td>\n",
       "      <td>Condo</td>\n",
       "      <td>CONDO</td>\n",
       "      <td>1981.0</td>\n",
       "      <td>1.0</td>\n",
       "      <td>1.0</td>\n",
       "      <td>800.0</td>\n",
       "      <td>Section: 3 Township: 8 Range: 88 DESC: BLDG 4 ...</td>\n",
       "      <td>1</td>\n",
       "      <td>200.000000</td>\n",
       "      <td>2015-12-16</td>\n",
       "    </tr>\n",
       "    <tr>\n",
       "      <th>4</th>\n",
       "      <td>R044451</td>\n",
       "      <td>239333149008</td>\n",
       "      <td>875851</td>\n",
       "      <td>2016-04-08</td>\n",
       "      <td>340000</td>\n",
       "      <td>001913 DOLORES WAY</td>\n",
       "      <td>CARBONDALE</td>\n",
       "      <td>Condo</td>\n",
       "      <td>CONDO</td>\n",
       "      <td>2007.0</td>\n",
       "      <td>2.0</td>\n",
       "      <td>1.0</td>\n",
       "      <td>864.0</td>\n",
       "      <td>Section: 33 Township: 7 Range: 88 DESC: A RESU...</td>\n",
       "      <td>1</td>\n",
       "      <td>393.518519</td>\n",
       "      <td>2016-03-04</td>\n",
       "    </tr>\n",
       "  </tbody>\n",
       "</table>\n",
       "</div>"
      ],
      "text/plain": [
       "   Account Parcel Number Reception  Sale Date  Sale Price  \\\n",
       "0  R007341  239334430001    852413 2014-08-08      210000   \n",
       "1  R340686  239334350003    871451 2015-12-11      265000   \n",
       "2  R045341  23933430G008    861415 2015-04-14      308500   \n",
       "3  R340803  246303105047    872689 2016-01-20      160000   \n",
       "4  R044451  239333149008    875851 2016-04-08      340000   \n",
       "\n",
       "                 Situs Address    Location Classification Architectural Style  \\\n",
       "0         000133 SOPRIS AVE #A  CARBONDALE          Condo               CONDO   \n",
       "1         213 1/2 N 10TH ST #C  CARBONDALE          Condo               CONDO   \n",
       "2     000345 COLORADO AVE #202  CARBONDALE          Condo               CONDO   \n",
       "3  000086 ROARING FORK AVE #C3  CARBONDALE          Condo               CONDO   \n",
       "4           001913 DOLORES WAY  CARBONDALE          Condo               CONDO   \n",
       "\n",
       "   Year Built  Bedrooms  Baths  Square Feet  \\\n",
       "0      1974.0       1.0    1.0        621.0   \n",
       "1      1980.0       1.0    1.0        732.0   \n",
       "2      2008.0       1.0    1.0        792.0   \n",
       "3      1981.0       1.0    1.0        800.0   \n",
       "4      2007.0       2.0    1.0        864.0   \n",
       "\n",
       "                                               Legal  Count  Price per SF  \\\n",
       "0  Section: 34 Township: 7 Range: 88 DESC: RESUB ...      1    338.164251   \n",
       "1  Section: 34 Township: 7 Range: 88 Subdivision:...      1    362.021858   \n",
       "2  Section: 34 Township: 7 Range: 88 DESC: A RESU...      1    389.520202   \n",
       "3  Section: 3 Township: 8 Range: 88 DESC: BLDG 4 ...      1    200.000000   \n",
       "4  Section: 33 Township: 7 Range: 88 DESC: A RESU...      1    393.518519   \n",
       "\n",
       "  Inspection Date  \n",
       "0      2014-07-04  \n",
       "1      2015-11-06  \n",
       "2      2015-03-10  \n",
       "3      2015-12-16  \n",
       "4      2016-03-04  "
      ]
     },
     "execution_count": 46,
     "metadata": {},
     "output_type": "execute_result"
    }
   ],
   "source": [
    "# Verify the copied dataframe includes the 14 original columns plus the new Inspection Date and Count columns\n",
    "combined_complete.head() "
   ]
  },
  {
   "cell_type": "code",
   "execution_count": 47,
   "metadata": {},
   "outputs": [
    {
     "data": {
      "text/plain": [
       "(1966, 12)"
      ]
     },
     "execution_count": 47,
     "metadata": {},
     "output_type": "execute_result"
    }
   ],
   "source": [
    "# Double check shape of combined dataframe\n",
    "combined.shape"
   ]
  },
  {
   "cell_type": "code",
   "execution_count": 48,
   "metadata": {},
   "outputs": [
    {
     "data": {
      "text/plain": [
       "(1966, 17)"
      ]
     },
     "execution_count": 48,
     "metadata": {},
     "output_type": "execute_result"
    }
   ],
   "source": [
    "# Double check shape of copied dataframe\n",
    "combined_complete.shape"
   ]
  },
  {
   "cell_type": "markdown",
   "metadata": {},
   "source": [
    "Now the combined dataframe is cleaned up and ready for exploratory data analysis."
   ]
  },
  {
   "cell_type": "markdown",
   "metadata": {},
   "source": [
    "# Exploratory data analysis and visualization\n",
    "\n",
    "## Estimated timing of inspections"
   ]
  },
  {
   "cell_type": "markdown",
   "metadata": {},
   "source": [
    "First step for exploratory data analysis will be to look at the estimated inspection date over time to get a feel for when home inspections may be at greatest (and lowest) demand. "
   ]
  },
  {
   "cell_type": "code",
   "execution_count": 49,
   "metadata": {},
   "outputs": [
    {
     "data": {
      "image/png": "[encoded data removed]",
      "text/plain": [
       "<Figure size 432x288 with 1 Axes>"
      ]
     },
     "metadata": {
      "needs_background": "light"
     },
     "output_type": "display_data"
    }
   ],
   "source": [
    "# Bar chart of mean home sales per day, grouped by month\n",
    "daily = combined.set_index('Sale Date').groupby(pd.Grouper(freq='D'))['Count'].count() # Generate count of sales for each day\n",
    "monthly = daily.groupby(pd.Grouper(freq='M')).mean() # Aggregate sales per day to generate mean value of sales per day, grouped by each month\n",
    "ax = monthly.plot(kind='bar')"
   ]
  },
  {
   "cell_type": "markdown",
   "metadata": {},
   "source": [
    "This example was developed based on the code found __[here](https://stackoverflow.com/questions/33350381/average-of-daily-count-of-records-per-month-in-a-pandas-dataframe)__."
   ]
  },
  {
   "cell_type": "code",
   "execution_count": 50,
   "metadata": {},
   "outputs": [
    {
     "data": {
      "text/plain": [
       "<matplotlib.axes._subplots.AxesSubplot at 0x1a166e3748>"
      ]
     },
     "execution_count": 50,
     "metadata": {},
     "output_type": "execute_result"
    },
    {
     "data": {
      "image/png": "[encoded data removed]",
      "text/plain": [
       "<Figure size 432x288 with 1 Axes>"
      ]
     },
     "metadata": {
      "needs_background": "light"
     },
     "output_type": "display_data"
    }
   ],
   "source": [
    "# Line plot in Seaborn using grouping by month - mean sales per day\n",
    "daily = combined.set_index('Sale Date').groupby(pd.Grouper(freq='D'))['Count'].count() # Generate count of sales for each day\n",
    "monthly = daily.groupby(pd.Grouper(freq='M')).mean() # Aggregate sales per day to generate sales count for each month\n",
    "sns.lineplot(data=monthly)"
   ]
  },
  {
   "cell_type": "markdown",
   "metadata": {},
   "source": [
    "The graph above shows strong seasonality in sales - the summer months are definitely the busiest for home sales."
   ]
  },
  {
   "cell_type": "code",
   "execution_count": 51,
   "metadata": {},
   "outputs": [
    {
     "data": {
      "image/png": "[encoded data removed]",
      "text/plain": [
       "<Figure size 432x288 with 1 Axes>"
      ]
     },
     "metadata": {
      "needs_background": "light"
     },
     "output_type": "display_data"
    }
   ],
   "source": [
    "# Bar chart of total home sales per month, grouped by month\n",
    "daily = combined.set_index('Sale Date').groupby(pd.Grouper(freq='D'))['Count'].count()\n",
    "monthly = daily.groupby(pd.Grouper(freq='M')).sum()\n",
    "ax = monthly.plot(kind='bar')"
   ]
  },
  {
   "cell_type": "code",
   "execution_count": 52,
   "metadata": {},
   "outputs": [
    {
     "data": {
      "text/plain": [
       "<matplotlib.axes._subplots.AxesSubplot at 0x1a16707390>"
      ]
     },
     "execution_count": 52,
     "metadata": {},
     "output_type": "execute_result"
    },
    {
     "data": {
      "image/png": "[encoded data removed]",
      "text/plain": [
       "<Figure size 432x288 with 1 Axes>"
      ]
     },
     "metadata": {
      "needs_background": "light"
     },
     "output_type": "display_data"
    }
   ],
   "source": [
    "# Line plot in Seaborn using grouping by month - Sale Date\n",
    "daily = combined.set_index('Sale Date').groupby(pd.Grouper(freq='D'))['Count'].count()\n",
    "monthly = daily.groupby(pd.Grouper(freq='M')).sum()\n",
    "sns.lineplot(data=monthly)"
   ]
  },
  {
   "cell_type": "code",
   "execution_count": 53,
   "metadata": {},
   "outputs": [
    {
     "data": {
      "text/plain": [
       "Sale Date\n",
       "2014-07-31     94\n",
       "2014-08-31     69\n",
       "2014-09-30     71\n",
       "2014-10-31     70\n",
       "2014-11-30     55\n",
       "2014-12-31     69\n",
       "2015-01-31     74\n",
       "2015-02-28     52\n",
       "2015-03-31     54\n",
       "2015-04-30     83\n",
       "2015-05-31     99\n",
       "2015-06-30    115\n",
       "2015-07-31    126\n",
       "2015-08-31    101\n",
       "2015-09-30     99\n",
       "2015-10-31     86\n",
       "2015-11-30     66\n",
       "2015-12-31     67\n",
       "2016-01-31     65\n",
       "2016-02-29     62\n",
       "2016-03-31     58\n",
       "2016-04-30     85\n",
       "2016-05-31    115\n",
       "2016-06-30    131\n",
       "Freq: M, Name: Count, dtype: int64"
      ]
     },
     "execution_count": 53,
     "metadata": {},
     "output_type": "execute_result"
    }
   ],
   "source": [
    "# Raw count of sales per month for the two-year period, generated in the last chunk of code\n",
    "monthly"
   ]
  },
  {
   "cell_type": "code",
   "execution_count": 54,
   "metadata": {},
   "outputs": [
    {
     "data": {
      "image/png": "[encoded data removed]",
      "text/plain": [
       "<Figure size 432x288 with 1 Axes>"
      ]
     },
     "metadata": {
      "needs_background": "light"
     },
     "output_type": "display_data"
    }
   ],
   "source": [
    "# Bar chart of estimated inspections required, grouped by month\n",
    "daily = combined.set_index('Inspection Date').groupby(pd.Grouper(freq='D'))['Count'].count()\n",
    "monthly = daily.groupby(pd.Grouper(freq='M')).sum()\n",
    "ax = monthly.plot(kind='bar')"
   ]
  },
  {
   "cell_type": "markdown",
   "metadata": {},
   "source": [
    "This shows essentially the same shape as total sales per month, but the inspection can be expected to take place ~35 days prior to closing."
   ]
  },
  {
   "cell_type": "code",
   "execution_count": 55,
   "metadata": {},
   "outputs": [
    {
     "data": {
      "text/plain": [
       "<matplotlib.axes._subplots.AxesSubplot at 0x1a16c8c400>"
      ]
     },
     "execution_count": 55,
     "metadata": {},
     "output_type": "execute_result"
    },
    {
     "data": {
      "image/png": "[encoded data removed]",
      "text/plain": [
       "<Figure size 432x288 with 1 Axes>"
      ]
     },
     "metadata": {
      "needs_background": "light"
     },
     "output_type": "display_data"
    }
   ],
   "source": [
    "# Line plot in Seaborn using grouping by month - Inspection Date\n",
    "daily = combined.set_index('Inspection Date').groupby(pd.Grouper(freq='D'))['Count'].count()\n",
    "monthly = daily.groupby(pd.Grouper(freq='M')).sum()\n",
    "sns.lineplot(data=monthly)"
   ]
  },
  {
   "cell_type": "code",
   "execution_count": 56,
   "metadata": {},
   "outputs": [
    {
     "data": {
      "text/plain": [
       "2014-12-26    29\n",
       "2015-07-24    20\n",
       "2016-05-26    19\n",
       "2016-04-22    18\n",
       "2016-04-26    16\n",
       "2016-05-13    14\n",
       "2015-08-26    14\n",
       "2014-06-26    13\n",
       "2015-04-10    12\n",
       "2014-07-25    12\n",
       "2015-03-26    11\n",
       "2016-01-22    11\n",
       "2015-05-01    11\n",
       "2015-05-08    10\n",
       "2015-04-27    10\n",
       "2016-03-11    10\n",
       "2015-05-27    10\n",
       "2015-07-03    10\n",
       "2016-05-23    10\n",
       "2014-11-14    10\n",
       "2014-06-09     9\n",
       "2015-08-28     9\n",
       "2016-05-11     9\n",
       "2015-06-10     9\n",
       "2015-09-18     9\n",
       "Name: Inspection Date, dtype: int64"
      ]
     },
     "execution_count": 56,
     "metadata": {},
     "output_type": "execute_result"
    }
   ],
   "source": [
    "# If you wanted, you could check the busiest days (theoretically) for inspection demand (remember this is Sale Date minus 35 days) during this two year period\n",
    "inspection_date_counts = combined[\"Inspection Date\"].value_counts()\n",
    "inspection_date_counts.head(25)"
   ]
  },
  {
   "cell_type": "markdown",
   "metadata": {},
   "source": [
    "It seems odd that the highest count day is in December, 2014 but there are no other days in the top 25 in the month of December. "
   ]
  },
  {
   "cell_type": "markdown",
   "metadata": {},
   "source": [
    "## Location of home sales"
   ]
  },
  {
   "cell_type": "code",
   "execution_count": 57,
   "metadata": {},
   "outputs": [
    {
     "data": {
      "text/plain": [
       "GLENWOOD      22.431333\n",
       "RIFLE         19.989827\n",
       "CARBONDALE    19.226857\n",
       "NEW CASTLE    16.632757\n",
       "SILT          11.444557\n",
       "PARACHUTE     10.274669\n",
       "Name: Location, dtype: float64"
      ]
     },
     "execution_count": 57,
     "metadata": {},
     "output_type": "execute_result"
    }
   ],
   "source": [
    "# Percentage of home sales per location during the two year period\n",
    "locations = combined[\"Location\"].value_counts(normalize=True).sort_values(ascending=False) * 100\n",
    "locations"
   ]
  },
  {
   "cell_type": "code",
   "execution_count": 58,
   "metadata": {},
   "outputs": [
    {
     "data": {
      "text/html": [
       "<div>\n",
       "<style scoped>\n",
       "    .dataframe tbody tr th:only-of-type {\n",
       "        vertical-align: middle;\n",
       "    }\n",
       "\n",
       "    .dataframe tbody tr th {\n",
       "        vertical-align: top;\n",
       "    }\n",
       "\n",
       "    .dataframe thead th {\n",
       "        text-align: right;\n",
       "    }\n",
       "</style>\n",
       "<table border=\"1\" class=\"dataframe\">\n",
       "  <thead>\n",
       "    <tr style=\"text-align: right;\">\n",
       "      <th></th>\n",
       "      <th>Sale Price</th>\n",
       "      <th>Year Built</th>\n",
       "      <th>Bedrooms</th>\n",
       "      <th>Baths</th>\n",
       "      <th>Square Feet</th>\n",
       "      <th>Count</th>\n",
       "      <th>Price per SF</th>\n",
       "    </tr>\n",
       "    <tr>\n",
       "      <th>Location</th>\n",
       "      <th></th>\n",
       "      <th></th>\n",
       "      <th></th>\n",
       "      <th></th>\n",
       "      <th></th>\n",
       "      <th></th>\n",
       "      <th></th>\n",
       "    </tr>\n",
       "  </thead>\n",
       "  <tbody>\n",
       "    <tr>\n",
       "      <th>CARBONDALE</th>\n",
       "      <td>560000</td>\n",
       "      <td>1998.0</td>\n",
       "      <td>3.0</td>\n",
       "      <td>2.50</td>\n",
       "      <td>2020.0</td>\n",
       "      <td>1</td>\n",
       "      <td>262.090921</td>\n",
       "    </tr>\n",
       "    <tr>\n",
       "      <th>GLENWOOD</th>\n",
       "      <td>369000</td>\n",
       "      <td>1993.0</td>\n",
       "      <td>3.0</td>\n",
       "      <td>2.00</td>\n",
       "      <td>1716.0</td>\n",
       "      <td>1</td>\n",
       "      <td>202.963918</td>\n",
       "    </tr>\n",
       "    <tr>\n",
       "      <th>NEW CASTLE</th>\n",
       "      <td>293000</td>\n",
       "      <td>2002.0</td>\n",
       "      <td>3.0</td>\n",
       "      <td>2.25</td>\n",
       "      <td>1654.0</td>\n",
       "      <td>1</td>\n",
       "      <td>168.333333</td>\n",
       "    </tr>\n",
       "    <tr>\n",
       "      <th>PARACHUTE</th>\n",
       "      <td>164250</td>\n",
       "      <td>1998.0</td>\n",
       "      <td>3.0</td>\n",
       "      <td>2.00</td>\n",
       "      <td>1522.0</td>\n",
       "      <td>1</td>\n",
       "      <td>100.714678</td>\n",
       "    </tr>\n",
       "    <tr>\n",
       "      <th>RIFLE</th>\n",
       "      <td>218000</td>\n",
       "      <td>2000.0</td>\n",
       "      <td>3.0</td>\n",
       "      <td>2.00</td>\n",
       "      <td>1536.0</td>\n",
       "      <td>1</td>\n",
       "      <td>125.733753</td>\n",
       "    </tr>\n",
       "    <tr>\n",
       "      <th>SILT</th>\n",
       "      <td>273000</td>\n",
       "      <td>1999.0</td>\n",
       "      <td>3.0</td>\n",
       "      <td>2.00</td>\n",
       "      <td>1674.0</td>\n",
       "      <td>1</td>\n",
       "      <td>152.502637</td>\n",
       "    </tr>\n",
       "  </tbody>\n",
       "</table>\n",
       "</div>"
      ],
      "text/plain": [
       "            Sale Price  Year Built  Bedrooms  Baths  Square Feet  Count  \\\n",
       "Location                                                                  \n",
       "CARBONDALE      560000      1998.0       3.0   2.50       2020.0      1   \n",
       "GLENWOOD        369000      1993.0       3.0   2.00       1716.0      1   \n",
       "NEW CASTLE      293000      2002.0       3.0   2.25       1654.0      1   \n",
       "PARACHUTE       164250      1998.0       3.0   2.00       1522.0      1   \n",
       "RIFLE           218000      2000.0       3.0   2.00       1536.0      1   \n",
       "SILT            273000      1999.0       3.0   2.00       1674.0      1   \n",
       "\n",
       "            Price per SF  \n",
       "Location                  \n",
       "CARBONDALE    262.090921  \n",
       "GLENWOOD      202.963918  \n",
       "NEW CASTLE    168.333333  \n",
       "PARACHUTE     100.714678  \n",
       "RIFLE         125.733753  \n",
       "SILT          152.502637  "
      ]
     },
     "execution_count": 58,
     "metadata": {},
     "output_type": "execute_result"
    }
   ],
   "source": [
    "# Median values by location for numeric columns, all Classification types\n",
    "combined.groupby(\"Location\").median()"
   ]
  },
  {
   "cell_type": "code",
   "execution_count": 59,
   "metadata": {},
   "outputs": [
    {
     "data": {
      "text/html": [
       "<div>\n",
       "<style scoped>\n",
       "    .dataframe tbody tr th:only-of-type {\n",
       "        vertical-align: middle;\n",
       "    }\n",
       "\n",
       "    .dataframe tbody tr th {\n",
       "        vertical-align: top;\n",
       "    }\n",
       "\n",
       "    .dataframe thead th {\n",
       "        text-align: right;\n",
       "    }\n",
       "</style>\n",
       "<table border=\"1\" class=\"dataframe\">\n",
       "  <thead>\n",
       "    <tr style=\"text-align: right;\">\n",
       "      <th></th>\n",
       "      <th></th>\n",
       "      <th>Sale Price</th>\n",
       "      <th>Year Built</th>\n",
       "      <th>Bedrooms</th>\n",
       "      <th>Baths</th>\n",
       "      <th>Square Feet</th>\n",
       "      <th>Count</th>\n",
       "      <th>Price per SF</th>\n",
       "    </tr>\n",
       "    <tr>\n",
       "      <th>Location</th>\n",
       "      <th>Classification</th>\n",
       "      <th></th>\n",
       "      <th></th>\n",
       "      <th></th>\n",
       "      <th></th>\n",
       "      <th></th>\n",
       "      <th></th>\n",
       "      <th></th>\n",
       "    </tr>\n",
       "  </thead>\n",
       "  <tbody>\n",
       "    <tr>\n",
       "      <th rowspan=\"3\" valign=\"top\">CARBONDALE</th>\n",
       "      <th>Condo</th>\n",
       "      <td>280000</td>\n",
       "      <td>1980.5</td>\n",
       "      <td>2.0</td>\n",
       "      <td>1.75</td>\n",
       "      <td>1200.0</td>\n",
       "      <td>1</td>\n",
       "      <td>240.833333</td>\n",
       "    </tr>\n",
       "    <tr>\n",
       "      <th>Single Family</th>\n",
       "      <td>670000</td>\n",
       "      <td>1999.0</td>\n",
       "      <td>3.0</td>\n",
       "      <td>3.00</td>\n",
       "      <td>2560.0</td>\n",
       "      <td>1</td>\n",
       "      <td>264.673913</td>\n",
       "    </tr>\n",
       "    <tr>\n",
       "      <th>Townhome</th>\n",
       "      <td>382000</td>\n",
       "      <td>1997.0</td>\n",
       "      <td>3.0</td>\n",
       "      <td>2.50</td>\n",
       "      <td>1554.0</td>\n",
       "      <td>1</td>\n",
       "      <td>255.455712</td>\n",
       "    </tr>\n",
       "    <tr>\n",
       "      <th rowspan=\"3\" valign=\"top\">GLENWOOD</th>\n",
       "      <th>Condo</th>\n",
       "      <td>195750</td>\n",
       "      <td>1979.5</td>\n",
       "      <td>2.0</td>\n",
       "      <td>1.75</td>\n",
       "      <td>966.0</td>\n",
       "      <td>1</td>\n",
       "      <td>199.896480</td>\n",
       "    </tr>\n",
       "    <tr>\n",
       "      <th>Single Family</th>\n",
       "      <td>450000</td>\n",
       "      <td>1993.0</td>\n",
       "      <td>3.0</td>\n",
       "      <td>2.50</td>\n",
       "      <td>2211.5</td>\n",
       "      <td>1</td>\n",
       "      <td>209.467672</td>\n",
       "    </tr>\n",
       "    <tr>\n",
       "      <th>Townhome</th>\n",
       "      <td>305000</td>\n",
       "      <td>1997.0</td>\n",
       "      <td>3.0</td>\n",
       "      <td>2.50</td>\n",
       "      <td>1568.0</td>\n",
       "      <td>1</td>\n",
       "      <td>196.742671</td>\n",
       "    </tr>\n",
       "    <tr>\n",
       "      <th rowspan=\"3\" valign=\"top\">NEW CASTLE</th>\n",
       "      <th>Condo</th>\n",
       "      <td>152500</td>\n",
       "      <td>2007.0</td>\n",
       "      <td>2.0</td>\n",
       "      <td>2.00</td>\n",
       "      <td>1056.0</td>\n",
       "      <td>1</td>\n",
       "      <td>145.044192</td>\n",
       "    </tr>\n",
       "    <tr>\n",
       "      <th>Single Family</th>\n",
       "      <td>328200</td>\n",
       "      <td>1999.0</td>\n",
       "      <td>3.0</td>\n",
       "      <td>2.50</td>\n",
       "      <td>1857.0</td>\n",
       "      <td>1</td>\n",
       "      <td>181.202546</td>\n",
       "    </tr>\n",
       "    <tr>\n",
       "      <th>Townhome</th>\n",
       "      <td>252000</td>\n",
       "      <td>2006.0</td>\n",
       "      <td>3.0</td>\n",
       "      <td>2.50</td>\n",
       "      <td>1483.0</td>\n",
       "      <td>1</td>\n",
       "      <td>162.938331</td>\n",
       "    </tr>\n",
       "    <tr>\n",
       "      <th rowspan=\"2\" valign=\"top\">PARACHUTE</th>\n",
       "      <th>Single Family</th>\n",
       "      <td>168750</td>\n",
       "      <td>1998.0</td>\n",
       "      <td>3.0</td>\n",
       "      <td>2.00</td>\n",
       "      <td>1529.0</td>\n",
       "      <td>1</td>\n",
       "      <td>104.401379</td>\n",
       "    </tr>\n",
       "    <tr>\n",
       "      <th>Townhome</th>\n",
       "      <td>127750</td>\n",
       "      <td>1998.0</td>\n",
       "      <td>3.0</td>\n",
       "      <td>2.00</td>\n",
       "      <td>1511.0</td>\n",
       "      <td>1</td>\n",
       "      <td>71.911359</td>\n",
       "    </tr>\n",
       "    <tr>\n",
       "      <th rowspan=\"3\" valign=\"top\">RIFLE</th>\n",
       "      <th>Condo</th>\n",
       "      <td>63250</td>\n",
       "      <td>1981.0</td>\n",
       "      <td>2.0</td>\n",
       "      <td>1.00</td>\n",
       "      <td>884.5</td>\n",
       "      <td>1</td>\n",
       "      <td>72.493353</td>\n",
       "    </tr>\n",
       "    <tr>\n",
       "      <th>Single Family</th>\n",
       "      <td>228000</td>\n",
       "      <td>1996.0</td>\n",
       "      <td>3.0</td>\n",
       "      <td>2.00</td>\n",
       "      <td>1734.0</td>\n",
       "      <td>1</td>\n",
       "      <td>133.689840</td>\n",
       "    </tr>\n",
       "    <tr>\n",
       "      <th>Townhome</th>\n",
       "      <td>154500</td>\n",
       "      <td>2007.0</td>\n",
       "      <td>3.0</td>\n",
       "      <td>2.50</td>\n",
       "      <td>1417.0</td>\n",
       "      <td>1</td>\n",
       "      <td>110.040425</td>\n",
       "    </tr>\n",
       "    <tr>\n",
       "      <th rowspan=\"3\" valign=\"top\">SILT</th>\n",
       "      <th>Condo</th>\n",
       "      <td>69000</td>\n",
       "      <td>1982.0</td>\n",
       "      <td>2.0</td>\n",
       "      <td>1.00</td>\n",
       "      <td>806.0</td>\n",
       "      <td>1</td>\n",
       "      <td>85.607940</td>\n",
       "    </tr>\n",
       "    <tr>\n",
       "      <th>Single Family</th>\n",
       "      <td>289500</td>\n",
       "      <td>1999.0</td>\n",
       "      <td>3.0</td>\n",
       "      <td>2.00</td>\n",
       "      <td>1740.5</td>\n",
       "      <td>1</td>\n",
       "      <td>157.328676</td>\n",
       "    </tr>\n",
       "    <tr>\n",
       "      <th>Townhome</th>\n",
       "      <td>192000</td>\n",
       "      <td>2003.5</td>\n",
       "      <td>3.0</td>\n",
       "      <td>2.50</td>\n",
       "      <td>1544.0</td>\n",
       "      <td>1</td>\n",
       "      <td>138.866335</td>\n",
       "    </tr>\n",
       "  </tbody>\n",
       "</table>\n",
       "</div>"
      ],
      "text/plain": [
       "                           Sale Price  Year Built  Bedrooms  Baths  \\\n",
       "Location   Classification                                            \n",
       "CARBONDALE Condo               280000      1980.5       2.0   1.75   \n",
       "           Single Family       670000      1999.0       3.0   3.00   \n",
       "           Townhome            382000      1997.0       3.0   2.50   \n",
       "GLENWOOD   Condo               195750      1979.5       2.0   1.75   \n",
       "           Single Family       450000      1993.0       3.0   2.50   \n",
       "           Townhome            305000      1997.0       3.0   2.50   \n",
       "NEW CASTLE Condo               152500      2007.0       2.0   2.00   \n",
       "           Single Family       328200      1999.0       3.0   2.50   \n",
       "           Townhome            252000      2006.0       3.0   2.50   \n",
       "PARACHUTE  Single Family       168750      1998.0       3.0   2.00   \n",
       "           Townhome            127750      1998.0       3.0   2.00   \n",
       "RIFLE      Condo                63250      1981.0       2.0   1.00   \n",
       "           Single Family       228000      1996.0       3.0   2.00   \n",
       "           Townhome            154500      2007.0       3.0   2.50   \n",
       "SILT       Condo                69000      1982.0       2.0   1.00   \n",
       "           Single Family       289500      1999.0       3.0   2.00   \n",
       "           Townhome            192000      2003.5       3.0   2.50   \n",
       "\n",
       "                           Square Feet  Count  Price per SF  \n",
       "Location   Classification                                    \n",
       "CARBONDALE Condo                1200.0      1    240.833333  \n",
       "           Single Family        2560.0      1    264.673913  \n",
       "           Townhome             1554.0      1    255.455712  \n",
       "GLENWOOD   Condo                 966.0      1    199.896480  \n",
       "           Single Family        2211.5      1    209.467672  \n",
       "           Townhome             1568.0      1    196.742671  \n",
       "NEW CASTLE Condo                1056.0      1    145.044192  \n",
       "           Single Family        1857.0      1    181.202546  \n",
       "           Townhome             1483.0      1    162.938331  \n",
       "PARACHUTE  Single Family        1529.0      1    104.401379  \n",
       "           Townhome             1511.0      1     71.911359  \n",
       "RIFLE      Condo                 884.5      1     72.493353  \n",
       "           Single Family        1734.0      1    133.689840  \n",
       "           Townhome             1417.0      1    110.040425  \n",
       "SILT       Condo                 806.0      1     85.607940  \n",
       "           Single Family        1740.5      1    157.328676  \n",
       "           Townhome             1544.0      1    138.866335  "
      ]
     },
     "execution_count": 59,
     "metadata": {},
     "output_type": "execute_result"
    }
   ],
   "source": [
    "# Median values by location and classificationfor numeric columns\n",
    "classifications = combined.groupby([\"Location\", \"Classification\"]).median()\n",
    "classifications"
   ]
  },
  {
   "cell_type": "code",
   "execution_count": 60,
   "metadata": {},
   "outputs": [
    {
     "data": {
      "text/plain": [
       "Text(0.5,1,\"Total Home Sales from July '14 thru June '16\")"
      ]
     },
     "execution_count": 60,
     "metadata": {},
     "output_type": "execute_result"
    },
    {
     "data": {
      "image/png": "[encoded data removed]",
      "text/plain": [
       "<Figure size 432x288 with 1 Axes>"
      ]
     },
     "metadata": {
      "needs_background": "light"
     },
     "output_type": "display_data"
    }
   ],
   "source": [
    "# Count plot of total sales by location, for the 2 year period, ordered low to high by location - all Classification types combined\n",
    "ax = sns.countplot(x=\"Location\", data=combined, order=reversed(combined['Location'].value_counts().index))\n",
    "plt.setp(ax.get_xticklabels(), rotation=45)\n",
    "plt.title('Total Home Sales from July \\'14 thru June \\'16')"
   ]
  },
  {
   "cell_type": "code",
   "execution_count": 61,
   "metadata": {},
   "outputs": [
    {
     "data": {
      "text/plain": [
       "Text(0.5,1,\"Total Home Sales from July '14 thru June '16\")"
      ]
     },
     "execution_count": 61,
     "metadata": {},
     "output_type": "execute_result"
    },
    {
     "data": {
      "image/png": "[encoded data removed]",
      "text/plain": [
       "<Figure size 432x288 with 1 Axes>"
      ]
     },
     "metadata": {
      "needs_background": "light"
     },
     "output_type": "display_data"
    }
   ],
   "source": [
    "# Count plot of total sales by location, for the 2 year period, ordered low to high by location - Classification types shown separately\n",
    "ax = sns.countplot(x=\"Location\", data=combined, hue=\"Classification\", \n",
    "                  order=reversed(combined['Location'].value_counts().index))\n",
    "plt.setp(ax.get_xticklabels(), rotation=45)\n",
    "plt.title('Total Home Sales from July \\'14 thru June \\'16')"
   ]
  },
  {
   "cell_type": "markdown",
   "metadata": {},
   "source": [
    "## Square footage of home sales"
   ]
  },
  {
   "cell_type": "code",
   "execution_count": 62,
   "metadata": {},
   "outputs": [],
   "source": [
    "# Establish dataframes separated by Single Family vs. Condo/Twonhome\n",
    "single_fam = combined[combined[\"Classification\"] == \"Single Family\"]\n",
    "condo_townhome = combined[(combined[\"Classification\"] == \"Condo\") | (combined[\"Classification\"] == \"Townhome\")]"
   ]
  },
  {
   "cell_type": "code",
   "execution_count": 63,
   "metadata": {},
   "outputs": [
    {
     "data": {
      "text/plain": [
       "(1368, 12)"
      ]
     },
     "execution_count": 63,
     "metadata": {},
     "output_type": "execute_result"
    }
   ],
   "source": [
    "single_fam.shape"
   ]
  },
  {
   "cell_type": "code",
   "execution_count": 64,
   "metadata": {},
   "outputs": [
    {
     "data": {
      "text/plain": [
       "(598, 12)"
      ]
     },
     "execution_count": 64,
     "metadata": {},
     "output_type": "execute_result"
    }
   ],
   "source": [
    "condo_townhome.shape"
   ]
  },
  {
   "cell_type": "code",
   "execution_count": 65,
   "metadata": {},
   "outputs": [
    {
     "data": {
      "text/plain": [
       "1966"
      ]
     },
     "execution_count": 65,
     "metadata": {},
     "output_type": "execute_result"
    }
   ],
   "source": [
    "1368 + 598"
   ]
  },
  {
   "cell_type": "code",
   "execution_count": 66,
   "metadata": {},
   "outputs": [
    {
     "name": "stderr",
     "output_type": "stream",
     "text": [
      "/Users/caseybates/anaconda3/lib/python3.6/site-packages/scipy/stats/stats.py:1713: FutureWarning: Using a non-tuple sequence for multidimensional indexing is deprecated; use `arr[tuple(seq)]` instead of `arr[seq]`. In the future this will be interpreted as an array index, `arr[np.array(seq)]`, which will result either in an error or a different result.\n",
      "  return np.add.reduce(sorted[indexer] * weights, axis=axis) / sumval\n"
     ]
    },
    {
     "data": {
      "text/plain": [
       "Text(0.5,0,'Square Feet')"
      ]
     },
     "execution_count": 66,
     "metadata": {},
     "output_type": "execute_result"
    },
    {
     "data": {
      "image/png": "[encoded data removed]",
      "text/plain": [
       "<Figure size 432x288 with 1 Axes>"
      ]
     },
     "metadata": {
      "needs_background": "light"
     },
     "output_type": "display_data"
    }
   ],
   "source": [
    "# The plot below is skewed to the right indicating that there are some outliers - some really big homes! \n",
    "sns.distplot(single_fam[\"Square Feet\"])\n",
    "plt.xlabel(\"Square Feet\")"
   ]
  },
  {
   "cell_type": "code",
   "execution_count": 67,
   "metadata": {},
   "outputs": [
    {
     "name": "stderr",
     "output_type": "stream",
     "text": [
      "/Users/caseybates/anaconda3/lib/python3.6/site-packages/scipy/stats/stats.py:1713: FutureWarning: Using a non-tuple sequence for multidimensional indexing is deprecated; use `arr[tuple(seq)]` instead of `arr[seq]`. In the future this will be interpreted as an array index, `arr[np.array(seq)]`, which will result either in an error or a different result.\n",
      "  return np.add.reduce(sorted[indexer] * weights, axis=axis) / sumval\n"
     ]
    },
    {
     "data": {
      "text/plain": [
       "Text(0.5,0,'Square Feet')"
      ]
     },
     "execution_count": 67,
     "metadata": {},
     "output_type": "execute_result"
    },
    {
     "data": {
      "image/png": "[encoded data removed]",
      "text/plain": [
       "<Figure size 432x288 with 1 Axes>"
      ]
     },
     "metadata": {
      "needs_background": "light"
     },
     "output_type": "display_data"
    }
   ],
   "source": [
    "# Similar to the plot above, this shows the distribution of home sale square footage\n",
    "sns.kdeplot(single_fam[\"Square Feet\"], shade = True)\n",
    "plt.xlabel(\"Square Feet\")"
   ]
  },
  {
   "cell_type": "code",
   "execution_count": 68,
   "metadata": {},
   "outputs": [
    {
     "data": {
      "text/plain": [
       "Text(0.5,1,'Square Footage of All Home Types - Combined')"
      ]
     },
     "execution_count": 68,
     "metadata": {},
     "output_type": "execute_result"
    },
    {
     "data": {
      "image/png": "[encoded data removed]",
      "text/plain": [
       "<Figure size 432x288 with 1 Axes>"
      ]
     },
     "metadata": {
      "needs_background": "light"
     },
     "output_type": "display_data"
    }
   ],
   "source": [
    "# Boxplot of Square Feet for each of the six locations, ordered low to high\n",
    "ax = sns.boxplot(x=\"Location\", y=\"Square Feet\", data=combined, \n",
    "                 order = [\"PARACHUTE\", \"RIFLE\", \"NEW CASTLE\", \"SILT\", \"GLENWOOD\", \"CARBONDALE\"])\n",
    "plt.setp(ax.get_xticklabels(), rotation=45)\n",
    "plt.title('Square Footage of All Home Types - Combined')"
   ]
  },
  {
   "cell_type": "markdown",
   "metadata": {},
   "source": [
    "The plot above is a boxplot. The box represents the middle 50% of values, which spans the 25th percentile to the 75th percentile. Read more about boxplots __[here](https://www.khanacademy.org/math/statistics-probability/summarizing-quantitative-data/box-whisker-plots/a/box-plot-review)__.\n",
    "\n",
    "* A wider box indicates greater variability in the data (in this case, Carbondale has a wide range of home sizes, but the homes in Parachute are smaller and have less variability in size)\n",
    "* The dots above the \"whisker\" represent \"outliers\" (really big or really small homes)\n",
    "* The line in the middle of the box represents the median (the middle value) which has an equal number of points above and below it. \n",
    "* The median is less affected by outliers than the mean"
   ]
  },
  {
   "cell_type": "code",
   "execution_count": 69,
   "metadata": {},
   "outputs": [
    {
     "data": {
      "text/plain": [
       "Text(0.5,1,'Square Footage of All Home Types - Shown Separately')"
      ]
     },
     "execution_count": 69,
     "metadata": {},
     "output_type": "execute_result"
    },
    {
     "data": {
      "image/png": "[encoded data removed]",
      "text/plain": [
       "<Figure size 432x288 with 1 Axes>"
      ]
     },
     "metadata": {
      "needs_background": "light"
     },
     "output_type": "display_data"
    }
   ],
   "source": [
    "# Median values by location and classification for numeric columns\n",
    "# Boxplot of Square Feet for each of the six locations, ordered low to high for single family sf\n",
    "ax = sns.boxplot(x=\"Location\", y=\"Square Feet\", hue=\"Classification\", data=combined, \n",
    "                 order = [\"PARACHUTE\", \"RIFLE\", \"SILT\", \"NEW CASTLE\", \"GLENWOOD\", \"CARBONDALE\"])\n",
    "plt.setp(ax.get_xticklabels(), rotation=45)\n",
    "plt.title('Square Footage of All Home Types - Shown Separately')"
   ]
  },
  {
   "cell_type": "markdown",
   "metadata": {},
   "source": [
    "The plot above is a lot to take in, but it shows the spread of home size by location, and by home classification."
   ]
  },
  {
   "cell_type": "code",
   "execution_count": 70,
   "metadata": {},
   "outputs": [
    {
     "data": {
      "text/plain": [
       "Text(0.5,1,'Square Footage of Single Family Homes')"
      ]
     },
     "execution_count": 70,
     "metadata": {},
     "output_type": "execute_result"
    },
    {
     "data": {
      "image/png": "[encoded data removed]",
      "text/plain": [
       "<Figure size 432x288 with 1 Axes>"
      ]
     },
     "metadata": {
      "needs_background": "light"
     },
     "output_type": "display_data"
    }
   ],
   "source": [
    "# Boxplot of Square Feet for Single Family Homes only, ordered low to high\n",
    "ax = sns.boxplot(x=\"Location\", y=\"Square Feet\", data=single_fam, \n",
    "                 order = [\"PARACHUTE\", \"RIFLE\", \"NEW CASTLE\", \"SILT\", \"GLENWOOD\", \"CARBONDALE\"])\n",
    "plt.setp(ax.get_xticklabels(), rotation=45)\n",
    "plt.title('Square Footage of Single Family Homes')"
   ]
  },
  {
   "cell_type": "code",
   "execution_count": 71,
   "metadata": {},
   "outputs": [
    {
     "data": {
      "text/html": [
       "<div>\n",
       "<style scoped>\n",
       "    .dataframe tbody tr th:only-of-type {\n",
       "        vertical-align: middle;\n",
       "    }\n",
       "\n",
       "    .dataframe tbody tr th {\n",
       "        vertical-align: top;\n",
       "    }\n",
       "\n",
       "    .dataframe thead th {\n",
       "        text-align: right;\n",
       "    }\n",
       "</style>\n",
       "<table border=\"1\" class=\"dataframe\">\n",
       "  <thead>\n",
       "    <tr style=\"text-align: right;\">\n",
       "      <th></th>\n",
       "      <th>Sale Price</th>\n",
       "      <th>Year Built</th>\n",
       "      <th>Bedrooms</th>\n",
       "      <th>Baths</th>\n",
       "      <th>Square Feet</th>\n",
       "      <th>Count</th>\n",
       "      <th>Price per SF</th>\n",
       "    </tr>\n",
       "    <tr>\n",
       "      <th>Location</th>\n",
       "      <th></th>\n",
       "      <th></th>\n",
       "      <th></th>\n",
       "      <th></th>\n",
       "      <th></th>\n",
       "      <th></th>\n",
       "      <th></th>\n",
       "    </tr>\n",
       "  </thead>\n",
       "  <tbody>\n",
       "    <tr>\n",
       "      <th>CARBONDALE</th>\n",
       "      <td>670000</td>\n",
       "      <td>1999.0</td>\n",
       "      <td>3.0</td>\n",
       "      <td>3.0</td>\n",
       "      <td>2560.0</td>\n",
       "      <td>1</td>\n",
       "      <td>264.673913</td>\n",
       "    </tr>\n",
       "    <tr>\n",
       "      <th>GLENWOOD</th>\n",
       "      <td>450000</td>\n",
       "      <td>1993.0</td>\n",
       "      <td>3.0</td>\n",
       "      <td>2.5</td>\n",
       "      <td>2211.5</td>\n",
       "      <td>1</td>\n",
       "      <td>209.467672</td>\n",
       "    </tr>\n",
       "    <tr>\n",
       "      <th>NEW CASTLE</th>\n",
       "      <td>328200</td>\n",
       "      <td>1999.0</td>\n",
       "      <td>3.0</td>\n",
       "      <td>2.5</td>\n",
       "      <td>1857.0</td>\n",
       "      <td>1</td>\n",
       "      <td>181.202546</td>\n",
       "    </tr>\n",
       "    <tr>\n",
       "      <th>PARACHUTE</th>\n",
       "      <td>168750</td>\n",
       "      <td>1998.0</td>\n",
       "      <td>3.0</td>\n",
       "      <td>2.0</td>\n",
       "      <td>1529.0</td>\n",
       "      <td>1</td>\n",
       "      <td>104.401379</td>\n",
       "    </tr>\n",
       "    <tr>\n",
       "      <th>RIFLE</th>\n",
       "      <td>228000</td>\n",
       "      <td>1996.0</td>\n",
       "      <td>3.0</td>\n",
       "      <td>2.0</td>\n",
       "      <td>1734.0</td>\n",
       "      <td>1</td>\n",
       "      <td>133.689840</td>\n",
       "    </tr>\n",
       "    <tr>\n",
       "      <th>SILT</th>\n",
       "      <td>289500</td>\n",
       "      <td>1999.0</td>\n",
       "      <td>3.0</td>\n",
       "      <td>2.0</td>\n",
       "      <td>1740.5</td>\n",
       "      <td>1</td>\n",
       "      <td>157.328676</td>\n",
       "    </tr>\n",
       "  </tbody>\n",
       "</table>\n",
       "</div>"
      ],
      "text/plain": [
       "            Sale Price  Year Built  Bedrooms  Baths  Square Feet  Count  \\\n",
       "Location                                                                  \n",
       "CARBONDALE      670000      1999.0       3.0    3.0       2560.0      1   \n",
       "GLENWOOD        450000      1993.0       3.0    2.5       2211.5      1   \n",
       "NEW CASTLE      328200      1999.0       3.0    2.5       1857.0      1   \n",
       "PARACHUTE       168750      1998.0       3.0    2.0       1529.0      1   \n",
       "RIFLE           228000      1996.0       3.0    2.0       1734.0      1   \n",
       "SILT            289500      1999.0       3.0    2.0       1740.5      1   \n",
       "\n",
       "            Price per SF  \n",
       "Location                  \n",
       "CARBONDALE    264.673913  \n",
       "GLENWOOD      209.467672  \n",
       "NEW CASTLE    181.202546  \n",
       "PARACHUTE     104.401379  \n",
       "RIFLE         133.689840  \n",
       "SILT          157.328676  "
      ]
     },
     "execution_count": 71,
     "metadata": {},
     "output_type": "execute_result"
    }
   ],
   "source": [
    "# Median values for single family homes only, by location\n",
    "single_fam.groupby(\"Location\").median()"
   ]
  },
  {
   "cell_type": "markdown",
   "metadata": {},
   "source": [
    "## Year built"
   ]
  },
  {
   "cell_type": "code",
   "execution_count": 72,
   "metadata": {},
   "outputs": [
    {
     "data": {
      "text/plain": [
       "Text(0.5,1,'Year Built - All Home Types')"
      ]
     },
     "execution_count": 72,
     "metadata": {},
     "output_type": "execute_result"
    },
    {
     "data": {
      "image/png": "[encoded data removed]",
      "text/plain": [
       "<Figure size 432x288 with 1 Axes>"
      ]
     },
     "metadata": {
      "needs_background": "light"
     },
     "output_type": "display_data"
    }
   ],
   "source": [
    "# Boxplot of Year Built for each of the six locations, ordered oldest to newest\n",
    "ax = sns.boxplot(x=\"Location\", y=\"Year Built\", data=combined, \n",
    "                 order = [\"GLENWOOD\", \"CARBONDALE\", \"PARACHUTE\", \"SILT\", \"RIFLE\", \"NEW CASTLE\"])\n",
    "plt.setp(ax.get_xticklabels(), rotation=45)\n",
    "plt.title('Year Built - All Home Types')"
   ]
  },
  {
   "cell_type": "markdown",
   "metadata": {},
   "source": [
    "The boxplot above is interesting because it shows that a vast majority of homes have been constructed since 1980 or later, for all locations, but there are some outliers (really old homes). So maybe a majority of homes in the county aren't at risk of having asbestos containing materials?"
   ]
  },
  {
   "cell_type": "markdown",
   "metadata": {},
   "source": [
    "# Sale price"
   ]
  },
  {
   "cell_type": "code",
   "execution_count": 73,
   "metadata": {},
   "outputs": [
    {
     "data": {
      "text/plain": [
       "[None, None, None, None, None, None, None, None, None, None, None, None]"
      ]
     },
     "execution_count": 73,
     "metadata": {},
     "output_type": "execute_result"
    },
    {
     "data": {
      "image/png": "[encoded data removed]",
      "text/plain": [
       "<Figure size 432x288 with 1 Axes>"
      ]
     },
     "metadata": {
      "needs_background": "light"
     },
     "output_type": "display_data"
    }
   ],
   "source": [
    "# Boxplot of Sale Price for each of the six locations, ordered low to high, all home types combined\n",
    "ax = sns.boxplot(x=\"Location\", y=\"Sale Price\", data=combined, \n",
    "                 order = [\"PARACHUTE\", \"RIFLE\", \"SILT\", \"NEW CASTLE\", \"GLENWOOD\", \"CARBONDALE\"])\n",
    "plt.setp(ax.get_xticklabels(), rotation=45)"
   ]
  },
  {
   "cell_type": "code",
   "execution_count": 74,
   "metadata": {},
   "outputs": [
    {
     "data": {
      "image/png": "[encoded data removed]",
      "text/plain": [
       "<Figure size 432x288 with 1 Axes>"
      ]
     },
     "metadata": {
      "needs_background": "light"
     },
     "output_type": "display_data"
    }
   ],
   "source": [
    "# Scatter plot of square feet vs. sale price\n",
    "ax = sns.scatterplot(x = \"Square Feet\", y = \"Sale Price\", hue=\"Location\", data = combined, alpha=.5)"
   ]
  },
  {
   "cell_type": "code",
   "execution_count": 75,
   "metadata": {},
   "outputs": [
    {
     "name": "stderr",
     "output_type": "stream",
     "text": [
      "/Users/caseybates/anaconda3/lib/python3.6/site-packages/scipy/stats/stats.py:1713: FutureWarning: Using a non-tuple sequence for multidimensional indexing is deprecated; use `arr[tuple(seq)]` instead of `arr[seq]`. In the future this will be interpreted as an array index, `arr[np.array(seq)]`, which will result either in an error or a different result.\n",
      "  return np.add.reduce(sorted[indexer] * weights, axis=axis) / sumval\n"
     ]
    },
    {
     "data": {
      "image/png": "[encoded data removed]",
      "text/plain": [
       "<Figure size 432x288 with 1 Axes>"
      ]
     },
     "metadata": {
      "needs_background": "light"
     },
     "output_type": "display_data"
    }
   ],
   "source": [
    "# Trendline showing positive correlation between square footage and sale price\n",
    "ax = sns.regplot(x = \"Square Feet\", y = \"Sale Price\", data = combined)"
   ]
  },
  {
   "cell_type": "code",
   "execution_count": 76,
   "metadata": {},
   "outputs": [
    {
     "data": {
      "image/png": "[encoded data removed]",
      "text/plain": [
       "<Figure size 432x288 with 1 Axes>"
      ]
     },
     "metadata": {
      "needs_background": "light"
     },
     "output_type": "display_data"
    }
   ],
   "source": [
    "# Probably not the best plot, but shows the spread of number of bedrooms and sale price\n",
    "ax = sns.stripplot(x = \"Bedrooms\", y = \"Sale Price\", hue=\"Location\", data = combined, alpha=.5)"
   ]
  },
  {
   "cell_type": "code",
   "execution_count": 77,
   "metadata": {},
   "outputs": [
    {
     "data": {
      "text/plain": [
       "[None, None, None, None, None, None, None, None, None, None, None, None]"
      ]
     },
     "execution_count": 77,
     "metadata": {},
     "output_type": "execute_result"
    },
    {
     "data": {
      "image/png": "[encoded data removed]",
      "text/plain": [
       "<Figure size 432x288 with 1 Axes>"
      ]
     },
     "metadata": {
      "needs_background": "light"
     },
     "output_type": "display_data"
    }
   ],
   "source": [
    "# Spread of square footage by location, for each home classification\n",
    "ax = sns.stripplot(x = \"Location\", y = \"Square Feet\", hue=\"Classification\", data = combined, alpha=.5)\n",
    "plt.setp(ax.get_xticklabels(), rotation=45)"
   ]
  },
  {
   "cell_type": "code",
   "execution_count": 78,
   "metadata": {},
   "outputs": [
    {
     "data": {
      "text/plain": [
       "[None, None, None, None, None, None, None, None, None, None, None, None]"
      ]
     },
     "execution_count": 78,
     "metadata": {},
     "output_type": "execute_result"
    },
    {
     "data": {
      "image/png": "[encoded data removed]",
      "text/plain": [
       "<Figure size 432x288 with 1 Axes>"
      ]
     },
     "metadata": {
      "needs_background": "light"
     },
     "output_type": "display_data"
    }
   ],
   "source": [
    "# Ignore this plot\n",
    "ax = sns.stripplot(x = \"Location\", y = \"Bedrooms\", hue=\"Classification\", data = combined, alpha=.25, jitter=True)\n",
    "plt.setp(ax.get_xticklabels(), rotation=45)"
   ]
  },
  {
   "cell_type": "code",
   "execution_count": 79,
   "metadata": {},
   "outputs": [
    {
     "data": {
      "text/plain": [
       "<matplotlib.axes._subplots.AxesSubplot at 0x1a179f23c8>"
      ]
     },
     "execution_count": 79,
     "metadata": {},
     "output_type": "execute_result"
    },
    {
     "data": {
      "image/png": "[encoded data removed]",
      "text/plain": [
       "<Figure size 432x288 with 1 Axes>"
      ]
     },
     "metadata": {
      "needs_background": "light"
     },
     "output_type": "display_data"
    }
   ],
   "source": [
    "# Line plot in Seaborn using grouping by month - Price per Square Foot (mean)\n",
    "daily = combined.set_index('Sale Date').groupby(pd.Grouper(freq='D'))['Price per SF'].mean()\n",
    "monthly = daily.groupby(pd.Grouper(freq='M')).mean()\n",
    "sns.lineplot(data=monthly)"
   ]
  },
  {
   "cell_type": "markdown",
   "metadata": {},
   "source": [
    "The line graph above shows a general upward trend in price per square foot during the two year period. However, it is important to keep in mind that mean values are more influenced by outliers than median values. A single sale of a multi-million dollar property, particularly during a month of lower sales per month, could have a larger impact on the mean price per square foot."
   ]
  },
  {
   "cell_type": "code",
   "execution_count": 80,
   "metadata": {},
   "outputs": [
    {
     "data": {
      "text/plain": [
       "<matplotlib.axes._subplots.AxesSubplot at 0x1a17a9c128>"
      ]
     },
     "execution_count": 80,
     "metadata": {},
     "output_type": "execute_result"
    },
    {
     "data": {
      "image/png": "[encoded data removed]",
      "text/plain": [
       "<Figure size 432x288 with 1 Axes>"
      ]
     },
     "metadata": {
      "needs_background": "light"
     },
     "output_type": "display_data"
    }
   ],
   "source": [
    "# Line plot in Seaborn using grouping by month - Price per Square Foot (median)\n",
    "daily = combined.set_index('Sale Date').groupby(pd.Grouper(freq='D'))['Price per SF'].median()\n",
    "monthly = daily.groupby(pd.Grouper(freq='M')).median()\n",
    "sns.lineplot(data=monthly)"
   ]
  },
  {
   "cell_type": "markdown",
   "metadata": {},
   "source": [
    "Plotting by median values, grouped per day and per month, tightens the range of values but still appears noisy."
   ]
  },
  {
   "cell_type": "code",
   "execution_count": 81,
   "metadata": {},
   "outputs": [
    {
     "data": {
      "text/plain": [
       "<matplotlib.axes._subplots.AxesSubplot at 0x1a17807e10>"
      ]
     },
     "execution_count": 81,
     "metadata": {},
     "output_type": "execute_result"
    },
    {
     "data": {
      "image/png": "[encoded data removed]",
      "text/plain": [
       "<Figure size 432x288 with 1 Axes>"
      ]
     },
     "metadata": {
      "needs_background": "light"
     },
     "output_type": "display_data"
    }
   ],
   "source": [
    "# Line plot in Seaborn using grouping by month - Price per Square Foot (median) for single family homes only\n",
    "daily = single_fam.set_index('Sale Date').groupby(pd.Grouper(freq='D'))['Price per SF'].median()\n",
    "monthly = daily.groupby(pd.Grouper(freq='M')).median()\n",
    "sns.lineplot(data=monthly)"
   ]
  },
  {
   "cell_type": "code",
   "execution_count": 82,
   "metadata": {},
   "outputs": [],
   "source": [
    "combined.to_csv('garfield_county_combined.csv')"
   ]
  },
  {
   "cell_type": "code",
   "execution_count": null,
   "metadata": {},
   "outputs": [],
   "source": []
  }
 ],
 "metadata": {
  "kernelspec": {
   "display_name": "Python 3",
   "language": "python",
   "name": "python3"
  },
  "language_info": {
   "codemirror_mode": {
    "name": "ipython",
    "version": 3
   },
   "file_extension": ".py",
   "mimetype": "text/x-python",
   "name": "python",
   "nbconvert_exporter": "python",
   "pygments_lexer": "ipython3",
   "version": "3.6.6"
  }
 },
 "nbformat": 4,
 "nbformat_minor": 2
}
