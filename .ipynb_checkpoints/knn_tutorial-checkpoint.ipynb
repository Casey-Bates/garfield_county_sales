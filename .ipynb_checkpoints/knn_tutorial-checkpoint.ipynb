{
 "cells": [
  {
   "cell_type": "markdown",
   "metadata": {},
   "source": [
    "This notebook adapts the first Dataquest knn lesson to the Garfield dataset.\n",
    "\n",
    "Calculate the Euclidean distance between our choice of bedrooms 3 people, and the first living space in the garfield Dataframe. Assign the result to first_distance and display the value using the print function."
   ]
  },
  {
   "cell_type": "code",
   "execution_count": 2,
   "metadata": {},
   "outputs": [
    {
     "data": {
      "text/html": [
       "<div>\n",
       "<style scoped>\n",
       "    .dataframe tbody tr th:only-of-type {\n",
       "        vertical-align: middle;\n",
       "    }\n",
       "\n",
       "    .dataframe tbody tr th {\n",
       "        vertical-align: top;\n",
       "    }\n",
       "\n",
       "    .dataframe thead th {\n",
       "        text-align: right;\n",
       "    }\n",
       "</style>\n",
       "<table border=\"1\" class=\"dataframe\">\n",
       "  <thead>\n",
       "    <tr style=\"text-align: right;\">\n",
       "      <th></th>\n",
       "      <th>Index</th>\n",
       "      <th>Inspection_Date</th>\n",
       "      <th>Sale_Date</th>\n",
       "      <th>Sale_Price</th>\n",
       "      <th>Location</th>\n",
       "      <th>Classification</th>\n",
       "      <th>Architectural_Style</th>\n",
       "      <th>Year_Built</th>\n",
       "      <th>Bedrooms</th>\n",
       "      <th>Baths</th>\n",
       "      <th>Square_Feet</th>\n",
       "      <th>Count</th>\n",
       "      <th>Price_per_SF</th>\n",
       "    </tr>\n",
       "  </thead>\n",
       "  <tbody>\n",
       "    <tr>\n",
       "      <th>0</th>\n",
       "      <td>0</td>\n",
       "      <td>2014-07-04</td>\n",
       "      <td>2014-08-08</td>\n",
       "      <td>210000</td>\n",
       "      <td>CARBONDALE</td>\n",
       "      <td>Condo</td>\n",
       "      <td>CONDO</td>\n",
       "      <td>1974.0</td>\n",
       "      <td>1</td>\n",
       "      <td>1.0</td>\n",
       "      <td>621.0</td>\n",
       "      <td>1</td>\n",
       "      <td>338.164251</td>\n",
       "    </tr>\n",
       "    <tr>\n",
       "      <th>1</th>\n",
       "      <td>1</td>\n",
       "      <td>2015-11-06</td>\n",
       "      <td>2015-12-11</td>\n",
       "      <td>265000</td>\n",
       "      <td>CARBONDALE</td>\n",
       "      <td>Condo</td>\n",
       "      <td>CONDO</td>\n",
       "      <td>1980.0</td>\n",
       "      <td>1</td>\n",
       "      <td>1.0</td>\n",
       "      <td>732.0</td>\n",
       "      <td>1</td>\n",
       "      <td>362.021858</td>\n",
       "    </tr>\n",
       "    <tr>\n",
       "      <th>2</th>\n",
       "      <td>2</td>\n",
       "      <td>2015-03-10</td>\n",
       "      <td>2015-04-14</td>\n",
       "      <td>308500</td>\n",
       "      <td>CARBONDALE</td>\n",
       "      <td>Condo</td>\n",
       "      <td>CONDO</td>\n",
       "      <td>2008.0</td>\n",
       "      <td>1</td>\n",
       "      <td>1.0</td>\n",
       "      <td>792.0</td>\n",
       "      <td>1</td>\n",
       "      <td>389.520202</td>\n",
       "    </tr>\n",
       "    <tr>\n",
       "      <th>3</th>\n",
       "      <td>3</td>\n",
       "      <td>2015-12-16</td>\n",
       "      <td>2016-01-20</td>\n",
       "      <td>160000</td>\n",
       "      <td>CARBONDALE</td>\n",
       "      <td>Condo</td>\n",
       "      <td>CONDO</td>\n",
       "      <td>1981.0</td>\n",
       "      <td>1</td>\n",
       "      <td>1.0</td>\n",
       "      <td>800.0</td>\n",
       "      <td>1</td>\n",
       "      <td>200.000000</td>\n",
       "    </tr>\n",
       "    <tr>\n",
       "      <th>4</th>\n",
       "      <td>4</td>\n",
       "      <td>2016-03-04</td>\n",
       "      <td>2016-04-08</td>\n",
       "      <td>340000</td>\n",
       "      <td>CARBONDALE</td>\n",
       "      <td>Condo</td>\n",
       "      <td>CONDO</td>\n",
       "      <td>2007.0</td>\n",
       "      <td>2</td>\n",
       "      <td>1.0</td>\n",
       "      <td>864.0</td>\n",
       "      <td>1</td>\n",
       "      <td>393.518519</td>\n",
       "    </tr>\n",
       "  </tbody>\n",
       "</table>\n",
       "</div>"
      ],
      "text/plain": [
       "   Index Inspection_Date   Sale_Date  Sale_Price    Location Classification  \\\n",
       "0      0      2014-07-04  2014-08-08      210000  CARBONDALE          Condo   \n",
       "1      1      2015-11-06  2015-12-11      265000  CARBONDALE          Condo   \n",
       "2      2      2015-03-10  2015-04-14      308500  CARBONDALE          Condo   \n",
       "3      3      2015-12-16  2016-01-20      160000  CARBONDALE          Condo   \n",
       "4      4      2016-03-04  2016-04-08      340000  CARBONDALE          Condo   \n",
       "\n",
       "  Architectural_Style  Year_Built  Bedrooms  Baths  Square_Feet  Count  \\\n",
       "0               CONDO      1974.0         1    1.0        621.0      1   \n",
       "1               CONDO      1980.0         1    1.0        732.0      1   \n",
       "2               CONDO      2008.0         1    1.0        792.0      1   \n",
       "3               CONDO      1981.0         1    1.0        800.0      1   \n",
       "4               CONDO      2007.0         2    1.0        864.0      1   \n",
       "\n",
       "   Price_per_SF  \n",
       "0    338.164251  \n",
       "1    362.021858  \n",
       "2    389.520202  \n",
       "3    200.000000  \n",
       "4    393.518519  "
      ]
     },
     "execution_count": 2,
     "metadata": {},
     "output_type": "execute_result"
    }
   ],
   "source": [
    "import pandas as pd\n",
    "garfield = pd.read_csv('garfield_no_zeros_clean.csv')\n",
    "garfield.head()"
   ]
  },
  {
   "cell_type": "code",
   "execution_count": 3,
   "metadata": {},
   "outputs": [
    {
     "name": "stdout",
     "output_type": "stream",
     "text": [
      "2\n"
     ]
    }
   ],
   "source": [
    "import numpy as np\n",
    "our_acc_value = 3\n",
    "first_living_space_value = garfield.iloc[0]['Bedrooms']\n",
    "first_distance = np.abs(first_living_space_value - our_acc_value)\n",
    "print(first_distance)"
   ]
  },
  {
   "cell_type": "markdown",
   "metadata": {},
   "source": [
    "Calculate the distance between each value in the accommodates column from garfield['Bedrooms'] and the value 3"
   ]
  },
  {
   "cell_type": "code",
   "execution_count": 4,
   "metadata": {},
   "outputs": [
    {
     "name": "stdout",
     "output_type": "stream",
     "text": [
      "<bound method IndexOpsMixin.value_counts of 0       2\n",
      "1       2\n",
      "2       2\n",
      "3       2\n",
      "4       1\n",
      "5       1\n",
      "6       1\n",
      "7       1\n",
      "8       1\n",
      "9       0\n",
      "10      1\n",
      "11      1\n",
      "12      1\n",
      "13      1\n",
      "14      1\n",
      "15      1\n",
      "16      1\n",
      "17      1\n",
      "18      1\n",
      "19      1\n",
      "20      1\n",
      "21      0\n",
      "22      0\n",
      "23      0\n",
      "24      0\n",
      "25      1\n",
      "26      1\n",
      "27      1\n",
      "28      1\n",
      "29      1\n",
      "       ..\n",
      "1906    2\n",
      "1907    0\n",
      "1908    0\n",
      "1909    1\n",
      "1910    1\n",
      "1911    1\n",
      "1912    0\n",
      "1913    0\n",
      "1914    0\n",
      "1915    0\n",
      "1916    0\n",
      "1917    1\n",
      "1918    2\n",
      "1919    0\n",
      "1920    1\n",
      "1921    3\n",
      "1922    1\n",
      "1923    1\n",
      "1924    1\n",
      "1925    0\n",
      "1926    1\n",
      "1927    1\n",
      "1928    1\n",
      "1929    2\n",
      "1930    2\n",
      "1931    2\n",
      "1932    1\n",
      "1933    2\n",
      "1934    2\n",
      "1935    2\n",
      "Name: distance, Length: 1936, dtype: int64>\n"
     ]
    }
   ],
   "source": [
    "garfield['distance'] = garfield['Bedrooms'].apply(lambda x: abs(x - 3))\n",
    "print(garfield['distance'].value_counts)"
   ]
  },
  {
   "cell_type": "markdown",
   "metadata": {},
   "source": [
    "Randomize the order of the rows."
   ]
  },
  {
   "cell_type": "code",
   "execution_count": 12,
   "metadata": {},
   "outputs": [
    {
     "name": "stdout",
     "output_type": "stream",
     "text": [
      "860     385000\n",
      "410     240000\n",
      "1881    320000\n",
      "1815    265000\n",
      "1131    316000\n",
      "1861    384000\n",
      "256     274000\n",
      "1147    283300\n",
      "1840    309000\n",
      "1519    155000\n",
      "Name: Sale_Price, dtype: int64\n"
     ]
    }
   ],
   "source": [
    "np.random.seed(1)\n",
    "shuffled_index = np.random.permutation(len(garfield))\n",
    "garfield = garfield.loc[shuffled_index]\n",
    "garfield = garfield.sort_values('distance')\n",
    "print(garfield['Sale_Price'].head(10))"
   ]
  },
  {
   "cell_type": "markdown",
   "metadata": {},
   "source": [
    "* Calculate the mean of the first 25 values in the sale price column and assign to mean_price.\n",
    "* Use the print function or the variable inspector below to display mean_price."
   ]
  },
  {
   "cell_type": "code",
   "execution_count": 57,
   "metadata": {},
   "outputs": [
    {
     "name": "stdout",
     "output_type": "stream",
     "text": [
      "509600.0\n"
     ]
    }
   ],
   "source": [
    "mean_price = garfield.iloc[0:5]['Sale_Price'].mean()\n",
    "print(mean_price)"
   ]
  },
  {
   "cell_type": "markdown",
   "metadata": {},
   "source": [
    "Dataquest: Let's write a more general function that can suggest the optimal sale price for other values of the Bedrooms column. The garfield Dataframe has information specific to our Bedrooms, e.g. the distance column. To save you time, we've reset the garfield Dataframe to a clean slate and only kept the data cleaning and randomization we did since those weren't unique to the prediction we were making for our living space."
   ]
  },
  {
   "cell_type": "code",
   "execution_count": 58,
   "metadata": {},
   "outputs": [],
   "source": [
    "garfield = garfield.loc[np.random.permutation(len(garfield))]\n",
    "\n",
    "def predict_price(new_listing):\n",
    "    temp_df = garfield.copy()\n",
    "    temp_df['distance'] = temp_df['Bedrooms'].apply(lambda x: abs(x - new_listing))\n",
    "    temp_df = temp_df.sort_values('distance')\n",
    "    new_listing = temp_df.iloc[0:5]['Sale_Price'].mean() # I upped this to 25 because there are a lot of listings to pull from\n",
    "    return(new_listing)\n",
    "\n",
    "acc_one = predict_price(1)\n",
    "acc_two = predict_price(2)\n",
    "acc_three = predict_price(3)\n",
    "acc_four = predict_price(4)\n",
    "acc_five = predict_price(5)\n",
    "acc_six = predict_price(6)"
   ]
  },
  {
   "cell_type": "markdown",
   "metadata": {},
   "source": [
    "Suggested price for 1 bedroom:"
   ]
  },
  {
   "cell_type": "code",
   "execution_count": 59,
   "metadata": {},
   "outputs": [
    {
     "name": "stdout",
     "output_type": "stream",
     "text": [
      "433600.0\n"
     ]
    }
   ],
   "source": [
    "print(acc_one)"
   ]
  },
  {
   "cell_type": "markdown",
   "metadata": {},
   "source": [
    "Suggested price for 2 bedroom:"
   ]
  },
  {
   "cell_type": "code",
   "execution_count": 60,
   "metadata": {},
   "outputs": [
    {
     "name": "stdout",
     "output_type": "stream",
     "text": [
      "297200.0\n"
     ]
    }
   ],
   "source": [
    "print(acc_two)"
   ]
  },
  {
   "cell_type": "markdown",
   "metadata": {},
   "source": [
    "Suggested price for 3 bedroom:"
   ]
  },
  {
   "cell_type": "code",
   "execution_count": 61,
   "metadata": {},
   "outputs": [
    {
     "name": "stdout",
     "output_type": "stream",
     "text": [
      "415600.0\n"
     ]
    }
   ],
   "source": [
    "print(acc_three)"
   ]
  },
  {
   "cell_type": "markdown",
   "metadata": {},
   "source": [
    "Suggested price for 4 bedroom:"
   ]
  },
  {
   "cell_type": "code",
   "execution_count": 62,
   "metadata": {},
   "outputs": [
    {
     "name": "stdout",
     "output_type": "stream",
     "text": [
      "420760.0\n"
     ]
    }
   ],
   "source": [
    "print(acc_four)"
   ]
  },
  {
   "cell_type": "markdown",
   "metadata": {},
   "source": [
    "Suggested price for 5 bedroom:"
   ]
  },
  {
   "cell_type": "code",
   "execution_count": 63,
   "metadata": {},
   "outputs": [
    {
     "name": "stdout",
     "output_type": "stream",
     "text": [
      "579627.0\n"
     ]
    }
   ],
   "source": [
    "print(acc_five)"
   ]
  },
  {
   "cell_type": "markdown",
   "metadata": {},
   "source": [
    "Suggested sale price for 6 bedroom:"
   ]
  },
  {
   "cell_type": "code",
   "execution_count": 64,
   "metadata": {},
   "outputs": [
    {
     "name": "stdout",
     "output_type": "stream",
     "text": [
      "688500.0\n"
     ]
    }
   ],
   "source": [
    "print(acc_six)"
   ]
  },
  {
   "cell_type": "markdown",
   "metadata": {},
   "source": [
    "Notes: The above predictions change each time the random permutation is changed, so re-running the permutation will change results. \n",
    "\n",
    "The predictions based on sale price alone (no consideration of location, square footage, home-type, condition, bedrooms, etc.) are not enough to come up with accurate predictions. An interesting thing to note is that the predicted price for one bedrooms is close or often higher than two bedrooms. Perhaps new one-bedroom condos are being sold in Carbondale, but not in the less-expensive markets? Also seeing that 6 bedroom listings sometimes have a lower predicted price than 5 bedrooms, perhaps because there are fewer listings of each type to evaluate."
   ]
  }
 ],
 "metadata": {
  "kernelspec": {
   "display_name": "Python 3",
   "language": "python",
   "name": "python3"
  },
  "language_info": {
   "codemirror_mode": {
    "name": "ipython",
    "version": 3
   },
   "file_extension": ".py",
   "mimetype": "text/x-python",
   "name": "python",
   "nbconvert_exporter": "python",
   "pygments_lexer": "ipython3",
   "version": "3.6.6"
  }
 },
 "nbformat": 4,
 "nbformat_minor": 2
}
